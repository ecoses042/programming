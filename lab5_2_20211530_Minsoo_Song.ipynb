{
  "nbformat": 4,
  "nbformat_minor": 0,
  "metadata": {
    "colab": {
      "name": "lab5-2_20211530_Minsoo_Song",
      "provenance": [],
      "collapsed_sections": [],
      "authorship_tag": "ABX9TyMrlrvcw4O12TzIuUIGWW/A",
      "include_colab_link": true
    },
    "kernelspec": {
      "name": "python3",
      "display_name": "Python 3"
    },
    "language_info": {
      "name": "python"
    }
  },
  "cells": [
    {
      "cell_type": "markdown",
      "metadata": {
        "id": "view-in-github",
        "colab_type": "text"
      },
      "source": [
        "<a href=\"https://colab.research.google.com/github/ecoses042/programming/blob/main/lab5_2_20211530_Minsoo_Song.ipynb\" target=\"_parent\"><img src=\"https://colab.research.google.com/assets/colab-badge.svg\" alt=\"Open In Colab\"/></a>"
      ]
    },
    {
      "cell_type": "code",
      "metadata": {
        "colab": {
          "base_uri": "https://localhost:8080/"
        },
        "id": "29rKJZG9DwFY",
        "outputId": "d9321b5a-e3dc-4b60-9e01-ae175945bbf6"
      },
      "source": [
        "%%writefile coin.c\n",
        "#include<stdio.h>\n",
        "#include<stdlib.h>\n",
        "#include<time.h> //https://c-program-example.com/2012/05/c-program-to-toss-a-coin-using-random-function.html 참고했습니다.\n",
        "int main()\n",
        "{\n",
        "    printf(\"let the coin toss begin!\\n\"); \n",
        "    srand(time(NULL));\n",
        "    int coin=rand()%2;\n",
        "    if(coin==0)\n",
        "      printf(\"head\");\n",
        "    else\n",
        "      printf(\"tail\");\n",
        "\n",
        "    return 0;\n",
        "\n",
        "}"
      ],
      "execution_count": 10,
      "outputs": [
        {
          "output_type": "stream",
          "name": "stdout",
          "text": [
            "Overwriting coin.c\n"
          ]
        }
      ]
    },
    {
      "cell_type": "code",
      "metadata": {
        "colab": {
          "base_uri": "https://localhost:8080/"
        },
        "id": "fHO248ulF5RO",
        "outputId": "e67dbb59-dd08-46bf-8d61-966276e6ffcf"
      },
      "source": [
        "ls"
      ],
      "execution_count": 11,
      "outputs": [
        {
          "output_type": "stream",
          "name": "stdout",
          "text": [
            "coin.c  \u001b[0m\u001b[01;32mout\u001b[0m*  \u001b[01;34msample_data\u001b[0m/\n"
          ]
        }
      ]
    },
    {
      "cell_type": "code",
      "metadata": {
        "colab": {
          "base_uri": "https://localhost:8080/"
        },
        "id": "6zUi--L-F5qY",
        "outputId": "8571a8ec-421b-4116-c9e6-353ab19bb786"
      },
      "source": [
        "%%shell\n",
        "gcc coin.c -o out\n",
        "./out"
      ],
      "execution_count": 12,
      "outputs": [
        {
          "output_type": "stream",
          "name": "stdout",
          "text": [
            "let the coin toss begin!\n",
            "head"
          ]
        },
        {
          "output_type": "execute_result",
          "data": {
            "text/plain": [
              ""
            ]
          },
          "metadata": {},
          "execution_count": 12
        }
      ]
    },
    {
      "cell_type": "code",
      "metadata": {
        "colab": {
          "base_uri": "https://localhost:8080/"
        },
        "id": "9PC7V5IwGAg4",
        "outputId": "a0cd263b-65ba-4a07-e21e-524340a18db1"
      },
      "source": [
        "%%writefile yeunyear.c\n",
        "#include<stdio.h>\n",
        "\n",
        "int main()\n",
        "{   \n",
        "    int year;\n",
        "    printf(\"enter your current year:\");\n",
        "    scanf(\"%d\",&year);\n",
        "    if (year%4==0 && year%100 !=0 || year%400==0)\n",
        "      {\n",
        "          printf(\"%d year is yeun nun\",year);\n",
        "      }\n",
        "    else\n",
        "      {\n",
        "          printf(\"%dyear is not yeun nun\",year);\n",
        "      }\n",
        "\n",
        "    return 0;\n",
        "\n",
        "\n",
        "}"
      ],
      "execution_count": null,
      "outputs": [
        {
          "output_type": "stream",
          "name": "stdout",
          "text": [
            "Overwriting yeunyear.c\n"
          ]
        }
      ]
    },
    {
      "cell_type": "code",
      "metadata": {
        "colab": {
          "base_uri": "https://localhost:8080/"
        },
        "id": "BDPMG_AmM10H",
        "outputId": "4d22a8d1-cf80-4083-935c-4b44acc33e14"
      },
      "source": [
        "ls"
      ],
      "execution_count": null,
      "outputs": [
        {
          "output_type": "stream",
          "name": "stdout",
          "text": [
            "coin.c  \u001b[0m\u001b[01;32mout\u001b[0m*  \u001b[01;34msample_data\u001b[0m/  yeunyear.c\n"
          ]
        }
      ]
    },
    {
      "cell_type": "code",
      "metadata": {
        "colab": {
          "base_uri": "https://localhost:8080/"
        },
        "id": "XejOLXuVM2JC",
        "outputId": "acf4ab34-92b2-45f3-ef7e-12bd69e4125f"
      },
      "source": [
        "%%shell\n",
        "gcc yeunyear.c -o out\n",
        "./out"
      ],
      "execution_count": null,
      "outputs": [
        {
          "output_type": "stream",
          "name": "stdout",
          "text": [
            "enter your current year:2024\n",
            "2024 year is yeun nun"
          ]
        },
        {
          "output_type": "execute_result",
          "data": {
            "text/plain": [
              ""
            ]
          },
          "metadata": {},
          "execution_count": 36
        }
      ]
    },
    {
      "cell_type": "code",
      "metadata": {
        "colab": {
          "base_uri": "https://localhost:8080/"
        },
        "id": "PUlMogYaM6i9",
        "outputId": "3fa54656-8cdb-4123-a075-4e7958abb968"
      },
      "source": [
        "%%writefile bignum.c\n",
        "#include<stdio.h>\n",
        "\n",
        "int main()\n",
        "{\n",
        "    int x,y,z,big;\n",
        "    \n",
        "    printf(\"put your 3 ints here:\");\n",
        "    scanf(\"%d%d%d\",&x,&y,&z);\n",
        "    big=x;\n",
        "    if (x<y)\n",
        "    {\n",
        "        big=y;\n",
        "    }\n",
        "    if (x<z)\n",
        "    {\n",
        "        big=z;\n",
        "    }\n",
        "    printf(\"the biggest int among three int is %d\",big);\n",
        "\n",
        "    return 0;\n",
        "}"
      ],
      "execution_count": 16,
      "outputs": [
        {
          "output_type": "stream",
          "name": "stdout",
          "text": [
            "Overwriting bignum.c\n"
          ]
        }
      ]
    },
    {
      "cell_type": "code",
      "metadata": {
        "colab": {
          "base_uri": "https://localhost:8080/"
        },
        "id": "pNgto3dnOXw-",
        "outputId": "d2426d3f-6d65-4280-f2d7-804e38251f8d"
      },
      "source": [
        "ls"
      ],
      "execution_count": 17,
      "outputs": [
        {
          "output_type": "stream",
          "name": "stdout",
          "text": [
            "bignum.c  coin.c  \u001b[0m\u001b[01;32mout\u001b[0m*  \u001b[01;34msample_data\u001b[0m/\n"
          ]
        }
      ]
    },
    {
      "cell_type": "code",
      "metadata": {
        "colab": {
          "base_uri": "https://localhost:8080/"
        },
        "id": "JY-92Xa3OYIW",
        "outputId": "9b16279c-8918-4dab-eddf-1260d70c70f0"
      },
      "source": [
        "%%shell\n",
        "gcc bignum.c -o out\n",
        "./out"
      ],
      "execution_count": 18,
      "outputs": [
        {
          "output_type": "stream",
          "name": "stdout",
          "text": [
            "put your 3 ints here:14 100 140\n",
            "the biggest int among three int is 140"
          ]
        },
        {
          "output_type": "execute_result",
          "data": {
            "text/plain": [
              ""
            ]
          },
          "metadata": {},
          "execution_count": 18
        }
      ]
    },
    {
      "cell_type": "code",
      "metadata": {
        "id": "Amaq_zwcObB5",
        "colab": {
          "base_uri": "https://localhost:8080/"
        },
        "outputId": "8d778999-d42a-4a0e-eaf1-e87c07e606e4"
      },
      "source": [
        "%%writefile requirement.c\n",
        "#include<stdio.h>\n",
        "\n",
        "int main()\n",
        "{\n",
        "    int math,phy,che;\n",
        "\n",
        "    printf(\"enter your math, physics, and chemistry score accordingly:\");\n",
        "    scanf(\"%d%d%d\",&math,&phy,&che);\n",
        "  if(math<=100 && phy<=100 && che<=100)\n",
        "    {\n",
        "    if (math>=50 && phy>=50 && che>=50)\n",
        "        {\n",
        "            if(math+phy>=150 || phy+che>=150)\n",
        "              printf(\"welcome to the club\");\n",
        "            else\n",
        "              printf(\"sorry...\");\n",
        "        }\n",
        "    else\n",
        "      {\n",
        "        printf(\"sorry....\");\n",
        "      }\n",
        "    }\n",
        "    else\n",
        "      {\n",
        "          printf(\"please rerun the program\");\n",
        "      }\n",
        " \n",
        "    return 0;\n",
        "}"
      ],
      "execution_count": 21,
      "outputs": [
        {
          "output_type": "stream",
          "name": "stdout",
          "text": [
            "Overwriting requirement.c\n"
          ]
        }
      ]
    },
    {
      "cell_type": "code",
      "metadata": {
        "colab": {
          "base_uri": "https://localhost:8080/"
        },
        "id": "e1pu9ND8Sx63",
        "outputId": "1f3c87ac-744c-457f-806c-aa188a736b13"
      },
      "source": [
        "%%shell\n",
        "gcc requirement.c -o out\n",
        "./out"
      ],
      "execution_count": 22,
      "outputs": [
        {
          "output_type": "stream",
          "name": "stdout",
          "text": [
            "enter your math, physics, and chemistry score accordingly:100 60 70\n",
            "welcome to the club"
          ]
        },
        {
          "output_type": "execute_result",
          "data": {
            "text/plain": [
              ""
            ]
          },
          "metadata": {},
          "execution_count": 22
        }
      ]
    },
    {
      "cell_type": "code",
      "metadata": {
        "colab": {
          "base_uri": "https://localhost:8080/"
        },
        "id": "_9aLBo_KS1f8",
        "outputId": "462afdf0-d6f7-4c72-c3e6-057e1766fb17"
      },
      "source": [
        "%%writefile triangle.c\n",
        "#include<stdio.h>\n",
        "\n",
        "int main()\n",
        "{\n",
        "    int a,b,c;\n",
        "\n",
        "    printf(\"enter the length of each sides:\");\n",
        "    scanf(\"%d%d%d\",&a,&b,&c);\n",
        "\n",
        "    if(a+b>c && a+c>b && b+c>a)\n",
        "    {\n",
        "        printf(\"it is possible\");\n",
        "    }\n",
        "    else\n",
        "    {\n",
        "        printf(\"what is this?\");\n",
        "    }\n",
        "\n",
        "    return 0;\n",
        "}"
      ],
      "execution_count": 23,
      "outputs": [
        {
          "output_type": "stream",
          "name": "stdout",
          "text": [
            "Writing triangle.c\n"
          ]
        }
      ]
    },
    {
      "cell_type": "code",
      "metadata": {
        "colab": {
          "base_uri": "https://localhost:8080/"
        },
        "id": "wnr14VLKTz2R",
        "outputId": "cf3591cb-27c8-4fae-e196-74788e6e4a8b"
      },
      "source": [
        "%%shell\n",
        "gcc triangle.c -o out\n",
        "./out"
      ],
      "execution_count": 24,
      "outputs": [
        {
          "output_type": "stream",
          "name": "stdout",
          "text": [
            "enter the length of each sides:14 10 9\n",
            "it is possible"
          ]
        },
        {
          "output_type": "execute_result",
          "data": {
            "text/plain": [
              ""
            ]
          },
          "metadata": {},
          "execution_count": 24
        }
      ]
    },
    {
      "cell_type": "code",
      "metadata": {
        "colab": {
          "base_uri": "https://localhost:8080/"
        },
        "id": "dHoXf1T-T2_5",
        "outputId": "3616a68d-c78d-4b6b-ce37-3c75b7eba1be"
      },
      "source": [
        "%%writefile quadratic.c\n",
        "#include<stdio.h>\n",
        "#include<math.h>\n",
        "\n",
        "int main()\n",
        "{\n",
        "    int a,b,c;\n",
        "    double top,answer1,answer2;\n",
        "\n",
        "    printf(\"enter your a,b,c:\");\n",
        "    scanf(\"%d%d%d\",&a,&b,&c);\n",
        "    \n",
        "    top=b*b-4*a*c;\n",
        "    if(top<0)\n",
        "    {\n",
        "        printf(\"no real answer\");\n",
        "    }\n",
        "    else if(a==0)\n",
        "    {\n",
        "       answer1=-c/b;\n",
        "        printf(\"%lf\",answer1); \n",
        "    }\n",
        "    else \n",
        "    {\n",
        "       answer1=(-b+sqrt(top))/(2*a);\n",
        "       answer2=(-b-sqrt(top))/(2*a);\n",
        "       printf(\"your first real answer is:%lf\\n\",answer1);\n",
        "       printf(\"your second real answer is:%lf\",answer2);\n",
        "\n",
        "    }\n",
        " return 0;\n",
        "}"
      ],
      "execution_count": 34,
      "outputs": [
        {
          "output_type": "stream",
          "name": "stdout",
          "text": [
            "Overwriting quadratic.c\n"
          ]
        }
      ]
    },
    {
      "cell_type": "code",
      "metadata": {
        "colab": {
          "base_uri": "https://localhost:8080/"
        },
        "id": "hpqJIH6nVl7P",
        "outputId": "44f63159-c5de-44d9-b6fe-6481722d0673"
      },
      "source": [
        "%%shell\n",
        "gcc quadratic.c -o out -lm\n",
        "./out"
      ],
      "execution_count": 35,
      "outputs": [
        {
          "output_type": "stream",
          "name": "stdout",
          "text": [
            "enter your a,b,c:2 -7 5\n",
            "your first real answer is:2.500000\n",
            "your second real answer is:1.000000"
          ]
        },
        {
          "output_type": "execute_result",
          "data": {
            "text/plain": [
              ""
            ]
          },
          "metadata": {},
          "execution_count": 35
        }
      ]
    },
    {
      "cell_type": "code",
      "metadata": {
        "colab": {
          "base_uri": "https://localhost:8080/"
        },
        "id": "311y4ycKVoeY",
        "outputId": "c81c47ed-461d-45be-cbcc-049187d7104d"
      },
      "source": [
        "%%writefile temday.c\n",
        "#include<stdio.h>\n",
        "\n",
        "int main()\n",
        "{\n",
        "    float t;\n",
        "    \n",
        "    printf(\"enter today's temperature\");\n",
        "    scanf(\"%f\",&t);\n",
        "\n",
        "    if(t<-10)\n",
        "      printf(\"it is really cold\");\n",
        "    else if(t<0)\n",
        "      printf(\"it is cold\");\n",
        "    else if(t<10)\n",
        "      printf(\"it can be cold\");\n",
        "    else if(t<20)\n",
        "      printf(\"it is nice\");\n",
        "    else if(t<30)\n",
        "      printf(\"it is hot\");\n",
        "    else \n",
        "      printf(\"it is really hot\");\n",
        "\n",
        "    return 0;\n",
        "\n",
        "}"
      ],
      "execution_count": 39,
      "outputs": [
        {
          "output_type": "stream",
          "name": "stdout",
          "text": [
            "Overwriting temday.c\n"
          ]
        }
      ]
    },
    {
      "cell_type": "code",
      "metadata": {
        "colab": {
          "base_uri": "https://localhost:8080/"
        },
        "id": "baDKsnX6XDBB",
        "outputId": "3faa89f3-71ba-4336-dc70-c3ded96d8af4"
      },
      "source": [
        "%%shell\n",
        "gcc temday.c -o out\n",
        "./out"
      ],
      "execution_count": 40,
      "outputs": [
        {
          "output_type": "stream",
          "name": "stdout",
          "text": [
            "enter today's temperature41\n",
            "it is really hot"
          ]
        },
        {
          "output_type": "execute_result",
          "data": {
            "text/plain": [
              ""
            ]
          },
          "metadata": {},
          "execution_count": 40
        }
      ]
    },
    {
      "cell_type": "code",
      "metadata": {
        "colab": {
          "base_uri": "https://localhost:8080/"
        },
        "id": "GvjkjS3iXE1z",
        "outputId": "df41f556-6951-46a0-c4a7-bf6e3cd72c26"
      },
      "source": [
        "%%writefile rsp.c\n",
        "#include<stdio.h>\n",
        "#include<time.h>\n",
        "#include<stdlib.h>\n",
        "\n",
        "int main()\n",
        "{\n",
        "    int player,oppo;\n",
        "    srand(time(NULL));\n",
        "\n",
        "    printf(\"welcome to the rock, scissor, and paper!\\n\");\n",
        "    printf(\"choose 1:rock(0),scissor(1),paper(2)\");\n",
        "    scanf(\"%d\",&player);\n",
        "\n",
        "    oppo=rand()%3;\n",
        "    if(player==oppo)\n",
        "    {\n",
        "        printf(\"draw!\");\n",
        "    }\n",
        "    else if(player>3)\n",
        "    {\n",
        "        printf(\"wrong number! try again\");\n",
        "    }\n",
        "    else\n",
        " {\n",
        "    player=player+1;\n",
        "    if(player==3)\n",
        "    {\n",
        "        player=0;\n",
        "        if (player==oppo)\n",
        "        {\n",
        "            printf(\"you won!\");\n",
        "        }\n",
        "        else\n",
        "      {\n",
        "          printf(\"you lose!\");\n",
        "      }\n",
        "    }\n",
        "    else if(player==oppo)\n",
        "    {\n",
        "        printf(\"you win!\");\n",
        "    }\n",
        "    else\n",
        "  {\n",
        "      printf(\"you lose!\");\n",
        "  }\n",
        " }\n",
        "\n",
        " return 0; \n",
        "}"
      ],
      "execution_count": 55,
      "outputs": [
        {
          "output_type": "stream",
          "name": "stdout",
          "text": [
            "Overwriting rsp.c\n"
          ]
        }
      ]
    },
    {
      "cell_type": "code",
      "metadata": {
        "colab": {
          "base_uri": "https://localhost:8080/"
        },
        "id": "FZTLPmP2ZFjH",
        "outputId": "465e6c94-bffb-42b6-e011-4abe6829e9b8"
      },
      "source": [
        "%%shell\n",
        "gcc rsp.c -o out\n",
        "./out"
      ],
      "execution_count": 56,
      "outputs": [
        {
          "output_type": "stream",
          "name": "stdout",
          "text": [
            "welcome to the rock, scissor, and paper!\n",
            "choose 1:rock(0),scissor(1),paper(2)1\n",
            "you lose!"
          ]
        },
        {
          "output_type": "execute_result",
          "data": {
            "text/plain": [
              ""
            ]
          },
          "metadata": {},
          "execution_count": 56
        }
      ]
    },
    {
      "cell_type": "code",
      "metadata": {
        "id": "Ur635raGZIbF"
      },
      "source": [
        ""
      ],
      "execution_count": null,
      "outputs": []
    }
  ]
}