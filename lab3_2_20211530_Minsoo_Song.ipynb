{
  "nbformat": 4,
  "nbformat_minor": 0,
  "metadata": {
    "colab": {
      "name": "lab3-2_20211530_Minsoo_Song",
      "provenance": [],
      "authorship_tag": "ABX9TyP+EVeKqKhRCY9hSflsm7kb",
      "include_colab_link": true
    },
    "kernelspec": {
      "name": "python3",
      "display_name": "Python 3"
    },
    "language_info": {
      "name": "python"
    }
  },
  "cells": [
    {
      "cell_type": "markdown",
      "metadata": {
        "id": "view-in-github",
        "colab_type": "text"
      },
      "source": [
        "<a href=\"https://colab.research.google.com/github/ecoses042/programming/blob/main/lab3_2_20211530_Minsoo_Song.ipynb\" target=\"_parent\"><img src=\"https://colab.research.google.com/assets/colab-badge.svg\" alt=\"Open In Colab\"/></a>"
      ]
    },
    {
      "cell_type": "code",
      "metadata": {
        "colab": {
          "base_uri": "https://localhost:8080/"
        },
        "id": "h_7ZKS480WB4",
        "outputId": "a3d92414-ec96-4ae7-a998-31f7e31c5abc"
      },
      "source": [
        "%%writefile task1.c\n",
        "#include<stdio.h>\n",
        "\n",
        "int main()\n",
        "{\n",
        "    float number;\n",
        " \n",
        "    printf(\"Enter a float:\");\n",
        "    scanf(\"%f\",&number);\n",
        "    printf(\"your number in exponents is:%le\",number);\n",
        " \n",
        "    return 0;\n",
        " \n",
        "}"
      ],
      "execution_count": 3,
      "outputs": [
        {
          "output_type": "stream",
          "name": "stdout",
          "text": [
            "Overwriting task1.c\n"
          ]
        }
      ]
    },
    {
      "cell_type": "code",
      "metadata": {
        "colab": {
          "base_uri": "https://localhost:8080/"
        },
        "id": "3ykzkjnR08hj",
        "outputId": "edf7b85b-b857-481f-dbcd-bc11753d69da"
      },
      "source": [
        "%%shell\n",
        "gcc task1.c -o out\n",
        "./out\n"
      ],
      "execution_count": 4,
      "outputs": [
        {
          "output_type": "stream",
          "name": "stdout",
          "text": [
            "Enter a float:22.222\n",
            "your number in exponents is:2.222200e+01"
          ]
        },
        {
          "output_type": "execute_result",
          "data": {
            "text/plain": [
              ""
            ]
          },
          "metadata": {},
          "execution_count": 4
        }
      ]
    },
    {
      "cell_type": "code",
      "metadata": {
        "colab": {
          "base_uri": "https://localhost:8080/"
        },
        "id": "_eLj2Wq51Aru",
        "outputId": "02c29d3a-9d6d-43c8-b3fa-78d8ac99912c"
      },
      "source": [
        "%%writefile task2.c\n",
        "#include<stdio.h>\n",
        "\n",
        "int main()\n",
        "{\n",
        "  double a;\n",
        "  printf(\"Enter your number using exponent:\");\n",
        "  scanf(\"%le\",&a);\n",
        "  printf(\"your number is:%lf\",a);\n",
        " \n",
        "  return 0;\n",
        " \n",
        "}"
      ],
      "execution_count": 11,
      "outputs": [
        {
          "output_type": "stream",
          "name": "stdout",
          "text": [
            "Overwriting task2.c\n"
          ]
        }
      ]
    },
    {
      "cell_type": "code",
      "metadata": {
        "colab": {
          "base_uri": "https://localhost:8080/"
        },
        "id": "hkjN5iNE1uNy",
        "outputId": "0f2f74e8-d295-4b48-da8c-e69a2968cc0e"
      },
      "source": [
        "%%shell\n",
        "gcc task2.c -o out\n",
        "./out"
      ],
      "execution_count": 12,
      "outputs": [
        {
          "output_type": "stream",
          "name": "stdout",
          "text": [
            "Enter your number using exponent:1.243e12\n",
            "your number is:1243000000000.000000"
          ]
        },
        {
          "output_type": "execute_result",
          "data": {
            "text/plain": [
              ""
            ]
          },
          "metadata": {},
          "execution_count": 12
        }
      ]
    },
    {
      "cell_type": "code",
      "metadata": {
        "colab": {
          "base_uri": "https://localhost:8080/"
        },
        "id": "py4tGIWr1wnk",
        "outputId": "61e598a6-acb3-4c65-bffa-067ab49f8a45"
      },
      "source": [
        "%%writefile task3.c\n",
        "#include<stdio.h>\n",
        "\n",
        "int main()\n",
        "{\n",
        "    double pi=3.14;\n",
        "    double rad;\n",
        "\n",
        "    printf(\"Enter the radius of the sphere:\");\n",
        "    scanf(\"%lf\",&rad);\n",
        "\n",
        "    double sarea=(rad*rad)*4*pi;\n",
        "    double vol=(rad*rad*rad)*pi*4/3;\n",
        "\n",
        "    printf(\"your surface area is:%lf\\nyour volume is:%lf\",sarea,vol);\n",
        "\n",
        "    return 0;\n",
        " \n",
        "\n",
        "\n",
        "}"
      ],
      "execution_count": 15,
      "outputs": [
        {
          "output_type": "stream",
          "name": "stdout",
          "text": [
            "Overwriting task3.c\n"
          ]
        }
      ]
    },
    {
      "cell_type": "code",
      "metadata": {
        "colab": {
          "base_uri": "https://localhost:8080/"
        },
        "id": "aV8zqUwT3eLy",
        "outputId": "a23a99ae-ace4-461d-c9a3-af66097bf76f"
      },
      "source": [
        "%%shell\n",
        "gcc task3.c -o out\n",
        "./out"
      ],
      "execution_count": 16,
      "outputs": [
        {
          "output_type": "stream",
          "name": "stdout",
          "text": [
            "Enter the radius of the sphere:1234\n",
            "your surface area is:19125815.360000\n",
            "your volume is:7867085384.746667"
          ]
        },
        {
          "output_type": "execute_result",
          "data": {
            "text/plain": [
              ""
            ]
          },
          "metadata": {},
          "execution_count": 16
        }
      ]
    },
    {
      "cell_type": "code",
      "metadata": {
        "colab": {
          "base_uri": "https://localhost:8080/"
        },
        "id": "YXgEXP4a3fch",
        "outputId": "fe7efe6e-fc7a-4d0c-f6c3-a41f92f21a03"
      },
      "source": [
        "%%writefile task4.c\n",
        "#include<stdio.h>\n",
        "\n",
        "int main()\n",
        "{\n",
        "    double x;\n",
        "    double y;\n",
        " \n",
        "    printf(\"Enter your x value:\");\n",
        "    scanf(\"%lf\",&x);\n",
        "\n",
        "    y=3*x*x*x-7*x*x+9;\n",
        "    printf(\"%lf\",y);\n",
        " \n",
        "    return 0;\n",
        "\n",
        "}"
      ],
      "execution_count": 18,
      "outputs": [
        {
          "output_type": "stream",
          "name": "stdout",
          "text": [
            "Overwriting task4.c\n"
          ]
        }
      ]
    },
    {
      "cell_type": "code",
      "metadata": {
        "colab": {
          "base_uri": "https://localhost:8080/"
        },
        "id": "8SlZCZkz3qVh",
        "outputId": "5d813a7c-029f-4813-f832-784c12f38b7d"
      },
      "source": [
        "%%shell\n",
        "gcc task4.c -o out\n",
        "./out"
      ],
      "execution_count": 19,
      "outputs": [
        {
          "output_type": "stream",
          "name": "stdout",
          "text": [
            "Enter your x value:2\n",
            "5.000000"
          ]
        },
        {
          "output_type": "execute_result",
          "data": {
            "text/plain": [
              ""
            ]
          },
          "metadata": {},
          "execution_count": 19
        }
      ]
    },
    {
      "cell_type": "code",
      "metadata": {
        "colab": {
          "base_uri": "https://localhost:8080/"
        },
        "id": "JQr6oC8B4Cuq",
        "outputId": "d3d3cc98-6250-4a8a-a528-c724f7862bdd"
      },
      "source": [
        "%%writefile task5.c\n",
        "#include<stdio.h>\n",
        "\n",
        "int main()\n",
        "{\n",
        "    char a;\n",
        " \n",
        "    printf(\"Enter your character:\");\n",
        "    a=getchar();\n",
        "\n",
        "    printf(\"%d\",a);\n",
        " \n",
        "    return 0;\n",
        "\n",
        "}"
      ],
      "execution_count": 20,
      "outputs": [
        {
          "output_type": "stream",
          "name": "stdout",
          "text": [
            "Writing task5.c\n"
          ]
        }
      ]
    },
    {
      "cell_type": "code",
      "metadata": {
        "colab": {
          "base_uri": "https://localhost:8080/"
        },
        "id": "2fEuCu524W8G",
        "outputId": "7e221b93-73a1-44be-ad4f-62ec9c1be85d"
      },
      "source": [
        "%%shell\n",
        "gcc task5.c -o out\n",
        "./out"
      ],
      "execution_count": 21,
      "outputs": [
        {
          "output_type": "stream",
          "name": "stdout",
          "text": [
            "Enter your character:q\n",
            "113"
          ]
        },
        {
          "output_type": "execute_result",
          "data": {
            "text/plain": [
              ""
            ]
          },
          "metadata": {},
          "execution_count": 21
        }
      ]
    },
    {
      "cell_type": "code",
      "metadata": {
        "colab": {
          "base_uri": "https://localhost:8080/"
        },
        "id": "uPWT1Uf_4YB-",
        "outputId": "002f4d3e-44e3-4b3e-c4be-d905606ce85c"
      },
      "source": [
        "%%writefile task6.c\n",
        "#include<stdio.h>\n",
        "\n",
        "int main()\n",
        "{\n",
        "    char a;\n",
        "    char b;\n",
        "    char c;\n",
        "\n",
        "    printf(\"Enter your 3 characters:\");\n",
        "    scanf(\"%c%c%c\",&a,&b,&c);\n",
        " \n",
        "    printf(\"%c%c%c\",c,b,a);\n",
        " \n",
        "    return 0;\n",
        "}"
      ],
      "execution_count": 24,
      "outputs": [
        {
          "output_type": "stream",
          "name": "stdout",
          "text": [
            "Overwriting task6.c\n"
          ]
        }
      ]
    },
    {
      "cell_type": "code",
      "metadata": {
        "colab": {
          "base_uri": "https://localhost:8080/"
        },
        "id": "JhlYXEWg4zXW",
        "outputId": "61ab9968-347a-4f2d-e966-bf8942da9da3"
      },
      "source": [
        "%%shell\n",
        "gcc task6.c -o out\n",
        "./out"
      ],
      "execution_count": 25,
      "outputs": [
        {
          "output_type": "stream",
          "name": "stdout",
          "text": [
            "Enter your 3 characters:abc\n",
            "cba"
          ]
        },
        {
          "output_type": "execute_result",
          "data": {
            "text/plain": [
              ""
            ]
          },
          "metadata": {},
          "execution_count": 25
        }
      ]
    },
    {
      "cell_type": "code",
      "metadata": {
        "colab": {
          "base_uri": "https://localhost:8080/"
        },
        "id": "cHwqhGNh4051",
        "outputId": "196c0079-7788-4607-be5d-8ec9e271d96f"
      },
      "source": [
        "%%writefile task7.c\n",
        "#include<stdio.h>\n",
        "\n",
        "int main()\n",
        "{\n",
        "   int  c=sizeof(char); \n",
        "    int   s= sizeof(short);   \n",
        "     int   i=sizeof(int);        \n",
        "      int  l=sizeof(long);       \n",
        "      int  ll=sizeof(long long);  \n",
        "     int  f= sizeof(float);\n",
        "     int   d=sizeof(double);\n",
        "     int   ld=sizeof(long double); \n",
        "    printf(\"char: %d, short: %d, int: %d, long: %d, long long: %d,float: %d, double: %d, long double: %d \\n\", c,s,i,l,ll,f,d,ld\n",
        "        \n",
        "    );\n",
        "\n",
        "    return 0;\n",
        "}"
      ],
      "execution_count": 41,
      "outputs": [
        {
          "output_type": "stream",
          "name": "stdout",
          "text": [
            "Overwriting task7.c\n"
          ]
        }
      ]
    },
    {
      "cell_type": "code",
      "metadata": {
        "colab": {
          "base_uri": "https://localhost:8080/"
        },
        "id": "rZ95qv366puI",
        "outputId": "2dc5a8d6-a56c-4c59-ca0b-8ab652ccbc6d"
      },
      "source": [
        "%%shell\n",
        "gcc task7.c -o out\n",
        "./out"
      ],
      "execution_count": 42,
      "outputs": [
        {
          "output_type": "stream",
          "name": "stdout",
          "text": [
            "char: 1, short: 2, int: 4, long: 8, long long: 8,float: 4, double: 8, long double: 16 \n"
          ]
        },
        {
          "output_type": "execute_result",
          "data": {
            "text/plain": [
              ""
            ]
          },
          "metadata": {},
          "execution_count": 42
        }
      ]
    },
    {
      "cell_type": "code",
      "metadata": {
        "colab": {
          "base_uri": "https://localhost:8080/"
        },
        "id": "TG9Iadnr6sN5",
        "outputId": "28261ef6-2ebd-451a-a7df-08e141c7a1f5"
      },
      "source": [
        "%%writefile task8.c\n",
        "#define htos 3600\n",
        "#define mtos 60\n",
        "\n",
        "#include<stdio.h>\n",
        "\n",
        "int main()\n",
        "{\n",
        "    double distance;\n",
        "    int hour;\n",
        "    int min;\n",
        "    int sec;\n",
        "    int timeins;\n",
        "    double vel;\n",
        " \n",
        "    printf(\"Enter the distance in meters:\");\n",
        "    scanf(\"%lf\",&distance);\n",
        "\n",
        "    printf(\"Enter your hour:\");\n",
        "    scanf(\"%d\",&hour);\n",
        " \n",
        "    printf(\"Enter your minutes:\");\n",
        "    scanf(\"%d\",&min);\n",
        " \n",
        "    printf(\"Enter your hour:seconds:\");\n",
        "    scanf(\"%d\",&sec);\n",
        "\n",
        "    timeins=hour*htos+min*mtos+sec;\n",
        "    vel=distance/timeins*htos/1000;\n",
        " \n",
        "    printf(\"your velocity is:%lf km/h\",vel);\n",
        "    return 0;\n",
        "\n",
        "    \n",
        "}"
      ],
      "execution_count": 57,
      "outputs": [
        {
          "output_type": "stream",
          "name": "stdout",
          "text": [
            "Overwriting task8.c\n"
          ]
        }
      ]
    },
    {
      "cell_type": "code",
      "metadata": {
        "colab": {
          "base_uri": "https://localhost:8080/"
        },
        "id": "hMgHCEtr9zrd",
        "outputId": "a983edaf-5b48-45f9-ec94-6edefb724e08"
      },
      "source": [
        "%%shell\n",
        "gcc task8.c -o out\n",
        "./out"
      ],
      "execution_count": 58,
      "outputs": [
        {
          "output_type": "stream",
          "name": "stdout",
          "text": [
            "Enter the distance in meters:40000\n",
            "Enter your hour:1\n",
            "Enter your minutes:0\n",
            "Enter your hour:seconds:0\n",
            "your velocity is:40.000000 km/h"
          ]
        },
        {
          "output_type": "execute_result",
          "data": {
            "text/plain": [
              ""
            ]
          },
          "metadata": {},
          "execution_count": 58
        }
      ]
    },
    {
      "cell_type": "code",
      "metadata": {
        "id": "E-McRPNl91w7"
      },
      "source": [
        ""
      ],
      "execution_count": null,
      "outputs": []
    }
  ]
}