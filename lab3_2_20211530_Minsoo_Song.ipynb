{
  "nbformat": 4,
  "nbformat_minor": 0,
  "metadata": {
    "colab": {
      "name": "lab3-2_20211530_Minsoo_Song",
      "provenance": [],
      "authorship_tag": "ABX9TyObx2HP6ocQBTTwePhVCYh7",
      "include_colab_link": true
    },
    "kernelspec": {
      "name": "python3",
      "display_name": "Python 3"
    },
    "language_info": {
      "name": "python"
    }
  },
  "cells": [
    {
      "cell_type": "markdown",
      "metadata": {
        "id": "view-in-github",
        "colab_type": "text"
      },
      "source": [
        "<a href=\"https://colab.research.google.com/github/ecoses042/programming/blob/main/lab3_2_20211530_Minsoo_Song.ipynb\" target=\"_parent\"><img src=\"https://colab.research.google.com/assets/colab-badge.svg\" alt=\"Open In Colab\"/></a>"
      ]
    },
    {
      "cell_type": "code",
      "metadata": {
        "colab": {
          "base_uri": "https://localhost:8080/"
        },
        "id": "Qz4jyOndE5d2",
        "outputId": "de5c4878-aebd-4efb-d8df-2ad3dcc60b43"
      },
      "source": [
        "%%writefile dollar.c\n",
        "#include<stdio.h>\n",
        "#define exchange_rate 1120\n",
        "\n",
        "int main()\n",
        "{\n",
        "  int x;\n",
        "  int y;\n",
        " \n",
        "  printf(\"Enter your amount in dollars:\");\n",
        "  scanf(\"%d\",&x);\n",
        " \n",
        "  y=exchange_rate*x; \n",
        "  printf(\"In Won it is:%d\",y);\n",
        " \n",
        "  return 0;\n",
        "\n",
        "}"
      ],
      "execution_count": null,
      "outputs": [
        {
          "output_type": "stream",
          "name": "stdout",
          "text": [
            "Writing dollar.c\n"
          ]
        }
      ]
    },
    {
      "cell_type": "code",
      "metadata": {
        "colab": {
          "base_uri": "https://localhost:8080/"
        },
        "id": "xVHlrTbSGOPn",
        "outputId": "686f43eb-9a67-4538-e6b4-16592b2cae4d"
      },
      "source": [
        "ls"
      ],
      "execution_count": null,
      "outputs": [
        {
          "output_type": "stream",
          "name": "stdout",
          "text": [
            "dollar.c  \u001b[0m\u001b[01;34msample_data\u001b[0m/\n"
          ]
        }
      ]
    },
    {
      "cell_type": "code",
      "metadata": {
        "colab": {
          "base_uri": "https://localhost:8080/"
        },
        "id": "yoU8OLqTGO6n",
        "outputId": "d1e965bb-33a0-4263-c857-95089dab7f14"
      },
      "source": [
        "%%shell \n",
        "gcc dollar.c -o output\n",
        "./output"
      ],
      "execution_count": null,
      "outputs": [
        {
          "output_type": "stream",
          "name": "stdout",
          "text": [
            "Enter your amount in dollars:1000\n",
            "In Won it is:1120000"
          ]
        },
        {
          "output_type": "execute_result",
          "data": {
            "text/plain": [
              ""
            ]
          },
          "metadata": {},
          "execution_count": 3
        }
      ]
    },
    {
      "cell_type": "code",
      "metadata": {
        "colab": {
          "base_uri": "https://localhost:8080/"
        },
        "id": "P25RCZN0GT81",
        "outputId": "bf98d6cf-bbe7-40cd-a262-a3a5b5d22432"
      },
      "source": [
        "%%writefile asset.c\n",
        "#include <stdio.h>\n",
        "\n",
        "int main()\n",
        "{\n",
        "    long long int save;\n",
        "    long long int result;\n",
        "    printf(\"Enter how much you save monthly:\");\n",
        "    scanf(\"%d\",&save);\n",
        "\n",
        "    result=30*12*save;\n",
        "    printf(\"You will get %d in 30 years\", result);\n",
        "\n",
        "    return 0;\n",
        " \n",
        "}"
      ],
      "execution_count": null,
      "outputs": [
        {
          "output_type": "stream",
          "name": "stdout",
          "text": [
            "Overwriting asset.c\n"
          ]
        }
      ]
    },
    {
      "cell_type": "code",
      "metadata": {
        "colab": {
          "base_uri": "https://localhost:8080/"
        },
        "id": "MRsKfjb2HUgr",
        "outputId": "f81716ce-71fd-4394-9883-2745334abe1f"
      },
      "source": [
        "ls"
      ],
      "execution_count": null,
      "outputs": [
        {
          "output_type": "stream",
          "name": "stdout",
          "text": [
            "asset.c  dollar.c  \u001b[0m\u001b[01;32moutput\u001b[0m*  \u001b[01;34msample_data\u001b[0m/\n"
          ]
        }
      ]
    },
    {
      "cell_type": "code",
      "metadata": {
        "colab": {
          "base_uri": "https://localhost:8080/"
        },
        "id": "6lO3h9MyHVG6",
        "outputId": "0087fb89-7484-46b8-e3b5-a2d5b3a0a512"
      },
      "source": [
        "%%shell\n",
        "gcc asset.c -o output\n",
        "./output"
      ],
      "execution_count": null,
      "outputs": [
        {
          "output_type": "stream",
          "name": "stdout",
          "text": [
            "Enter how much you save monthly:1000\n",
            "You will get 360000 in 30 years"
          ]
        },
        {
          "output_type": "execute_result",
          "data": {
            "text/plain": [
              ""
            ]
          },
          "metadata": {},
          "execution_count": 9
        }
      ]
    },
    {
      "cell_type": "code",
      "metadata": {
        "colab": {
          "base_uri": "https://localhost:8080/"
        },
        "id": "ST07g3RFHcGS",
        "outputId": "80efa067-5a3e-4f07-c485-433575354160"
      },
      "source": [
        "%%writefile swap.c\n",
        "#include<stdio.h>\n",
        "\n",
        "int main()\n",
        "{\n",
        "    int x=100;\n",
        "    int y=200;\n",
        "    int temp;\n",
        "    temp=x;\n",
        "    x=y;\n",
        "    y=temp;\n",
        "    printf(\"%d %d\",x,y);\n",
        "    return 0;\n",
        " \n",
        " \n",
        "}\n"
      ],
      "execution_count": null,
      "outputs": [
        {
          "output_type": "stream",
          "name": "stdout",
          "text": [
            "Overwriting swap.c\n"
          ]
        }
      ]
    },
    {
      "cell_type": "code",
      "metadata": {
        "colab": {
          "base_uri": "https://localhost:8080/"
        },
        "id": "Ha5_jTBmIQX2",
        "outputId": "b8a8d832-662e-4e49-af75-f3c5d4fede6c"
      },
      "source": [
        "ls"
      ],
      "execution_count": null,
      "outputs": [
        {
          "output_type": "stream",
          "name": "stdout",
          "text": [
            "asset.c  dollar.c  \u001b[0m\u001b[01;32moutput\u001b[0m*  \u001b[01;34msample_data\u001b[0m/  swap.c\n"
          ]
        }
      ]
    },
    {
      "cell_type": "code",
      "metadata": {
        "colab": {
          "base_uri": "https://localhost:8080/"
        },
        "id": "fuRc6tSgIQv0",
        "outputId": "93913bcf-9e51-4b2a-87b8-5ca15f6b5056"
      },
      "source": [
        "%%shell \n",
        "gcc swap.c -o output\n",
        "./output"
      ],
      "execution_count": null,
      "outputs": [
        {
          "output_type": "stream",
          "name": "stdout",
          "text": [
            "200 100 100"
          ]
        },
        {
          "output_type": "execute_result",
          "data": {
            "text/plain": [
              ""
            ]
          },
          "metadata": {},
          "execution_count": 23
        }
      ]
    },
    {
      "cell_type": "markdown",
      "metadata": {
        "id": "X-XBNfI95bkt"
      },
      "source": [
        "lab 3-4\n",
        "1000 0000\n",
        "16진수로 나타냈을 때\n",
        "0x8 0x0"
      ]
    },
    {
      "cell_type": "code",
      "metadata": {
        "colab": {
          "base_uri": "https://localhost:8080/"
        },
        "id": "uea_a7UsAgLK",
        "outputId": "40234fc6-886f-4be2-83fa-c7f2784858e2"
      },
      "source": [
        "%%writefile sun.c\n",
        "#include<stdio.h>\n",
        "\n",
        "int main()\n",
        "{\n",
        "    double lights=300000;\n",
        "    double distance=149600000;\n",
        "    double time;\n",
        " \n",
        "    time=distance/lights;\n",
        "    time=time/60;\n",
        " \n",
        "    printf(\"the time it takes to reach earth is:%lfmins\",time);\n",
        "\n",
        "    return 0;\n",
        "}\n"
      ],
      "execution_count": 15,
      "outputs": [
        {
          "output_type": "stream",
          "name": "stdout",
          "text": [
            "Overwriting sun.c\n"
          ]
        }
      ]
    },
    {
      "cell_type": "code",
      "metadata": {
        "colab": {
          "base_uri": "https://localhost:8080/"
        },
        "id": "RZgShk_1mC-c",
        "outputId": "81a31d47-8473-4b33-862b-c9332774a9d8"
      },
      "source": [
        "ls"
      ],
      "execution_count": 16,
      "outputs": [
        {
          "output_type": "stream",
          "name": "stdout",
          "text": [
            "\u001b[0m\u001b[01;32moutput\u001b[0m*  \u001b[01;34msample_data\u001b[0m/  sun.c\n"
          ]
        }
      ]
    },
    {
      "cell_type": "code",
      "metadata": {
        "colab": {
          "base_uri": "https://localhost:8080/"
        },
        "id": "UJ_GZhB0l_BU",
        "outputId": "c67d1c8b-f8ea-4899-e081-0ae3729b635e"
      },
      "source": [
        "%%shell\n",
        "gcc sun.c -o output\n",
        "./output"
      ],
      "execution_count": 17,
      "outputs": [
        {
          "output_type": "stream",
          "name": "stdout",
          "text": [
            "the time it takes to reach earth is:8.311111mins"
          ]
        },
        {
          "output_type": "execute_result",
          "data": {
            "text/plain": [
              ""
            ]
          },
          "metadata": {},
          "execution_count": 17
        }
      ]
    },
    {
      "cell_type": "code",
      "metadata": {
        "colab": {
          "base_uri": "https://localhost:8080/"
        },
        "id": "_fGdJd1_mIBU",
        "outputId": "7183de1c-583b-4822-b4cc-fe7aebcf3ee9"
      },
      "source": [
        "%%writefile tempchange.c\n",
        "#include <stdio.h>\n",
        "\n",
        "int main()\n",
        "{\n",
        "    double f;\n",
        "    double c;\n",
        " \n",
        "    printf(\"enter your degree in F:\");\n",
        "    scanf(\"%lf\",&f);\n",
        "    c=(f-32)*5/9;\n",
        "    printf(\"your degree in C is:%lf\",c);\n",
        "\n",
        "    return 0;\n",
        "    \n",
        "}\n"
      ],
      "execution_count": 24,
      "outputs": [
        {
          "output_type": "stream",
          "name": "stdout",
          "text": [
            "Overwriting tempchange.c\n"
          ]
        }
      ]
    },
    {
      "cell_type": "code",
      "metadata": {
        "colab": {
          "base_uri": "https://localhost:8080/"
        },
        "id": "ZSnkuyhNnNXX",
        "outputId": "ffb35150-dcb6-4c66-8c1d-1f4e75f5a28d"
      },
      "source": [
        "%%shell\n",
        "gcc tempchange.c -o out\n",
        "./out"
      ],
      "execution_count": 25,
      "outputs": [
        {
          "output_type": "stream",
          "name": "stdout",
          "text": [
            "enter your degree in F:100\n",
            "your degree in C is:37.777778"
          ]
        },
        {
          "output_type": "execute_result",
          "data": {
            "text/plain": [
              ""
            ]
          },
          "metadata": {},
          "execution_count": 25
        }
      ]
    },
    {
      "cell_type": "code",
      "metadata": {
        "colab": {
          "base_uri": "https://localhost:8080/"
        },
        "id": "HToQxKsdnTQq",
        "outputId": "e420b2a4-f1f0-4934-ce8c-f9e1d4597e6a"
      },
      "source": [
        "%%writefile circlearea.c\n",
        "#include<stdio.h>\n",
        "\n",
        "int main()\n",
        "{\n",
        "    double pi=3.14;\n",
        "    double rad,area;\n",
        " \n",
        "    printf(\"Enter your radius:\");\n",
        "    scanf(\"%lf\",&rad);\n",
        " \n",
        "    area=rad*rad*pi;\n",
        "    printf(\"circle's area is:%lf\",area);\n",
        "\n",
        "    return 0;\n",
        "\n",
        "}"
      ],
      "execution_count": 26,
      "outputs": [
        {
          "output_type": "stream",
          "name": "stdout",
          "text": [
            "Writing circlearea.c\n"
          ]
        }
      ]
    },
    {
      "cell_type": "code",
      "metadata": {
        "colab": {
          "base_uri": "https://localhost:8080/"
        },
        "id": "0LJF9MhaodIG",
        "outputId": "ac2096a3-749b-4064-c8e7-168dcd02b63d"
      },
      "source": [
        "%%shell\n",
        "gcc circlearea.c -o out\n",
        "./out\n"
      ],
      "execution_count": 27,
      "outputs": [
        {
          "output_type": "stream",
          "name": "stdout",
          "text": [
            "Enter your radius:100\n",
            "circle's area is:31400.000000"
          ]
        },
        {
          "output_type": "execute_result",
          "data": {
            "text/plain": [
              ""
            ]
          },
          "metadata": {},
          "execution_count": 27
        }
      ]
    },
    {
      "cell_type": "code",
      "metadata": {
        "colab": {
          "base_uri": "https://localhost:8080/"
        },
        "id": "avrlbw92oiAV",
        "outputId": "1bdc6bc7-6044-40ff-f486-c984b305dc01"
      },
      "source": [
        "%%writefile review.c\n",
        "#include<stdio.h>\n",
        " \n",
        "int main()\n",
        "{\n",
        "    int age,id,production;\n",
        "    double star; \n",
        "    char alpha;\n",
        " \n",
        "    printf(\"your age:\");\n",
        "    scanf(\"%d\",&age);\n",
        " \n",
        "    printf(\"your id:\");\n",
        "    scanf(\"%d\",&id);\n",
        " \n",
        "    printf(\"production rate:\");\n",
        "    scanf(\"%d\",&production);\n",
        " \n",
        "    printf(\"number of stars:\");\n",
        "    scanf(\"%lf\",&star);\n",
        " \n",
        "    getchar();\n",
        "    printf(\"character:\");\n",
        "    alpha=getchar();\n",
        "\n",
        "    printf(\"%d\\n%d\\n%d\\n\",age,id,production);\n",
        "    printf(\"%lf\\n\",star);\n",
        "    printf(\"%c\",alpha);\n",
        "\n",
        "    return 0;\n",
        "}"
      ],
      "execution_count": 41,
      "outputs": [
        {
          "output_type": "stream",
          "name": "stdout",
          "text": [
            "Overwriting review.c\n"
          ]
        }
      ]
    },
    {
      "cell_type": "code",
      "metadata": {
        "colab": {
          "base_uri": "https://localhost:8080/"
        },
        "id": "iKVqUtLHtbod",
        "outputId": "2b949c7b-a114-448a-daf6-0739c74a4e61"
      },
      "source": [
        "%%shell\n",
        "gcc review.c -o out\n",
        "./out"
      ],
      "execution_count": 42,
      "outputs": [
        {
          "output_type": "stream",
          "name": "stdout",
          "text": [
            "your age:20\n",
            "your id:20211530\n",
            "production rate:200000\n",
            "number of stars:123412341231234\n",
            "character:a\n",
            "20\n",
            "20211530\n",
            "200000\n",
            "123412341231234.000000\n",
            "a"
          ]
        },
        {
          "output_type": "execute_result",
          "data": {
            "text/plain": [
              ""
            ]
          },
          "metadata": {},
          "execution_count": 42
        }
      ]
    },
    {
      "cell_type": "code",
      "metadata": {
        "id": "hpL2TEUUtgUd"
      },
      "source": [
        ""
      ],
      "execution_count": null,
      "outputs": []
    }
  ]
}