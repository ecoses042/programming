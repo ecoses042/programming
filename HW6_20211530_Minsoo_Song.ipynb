{
  "nbformat": 4,
  "nbformat_minor": 0,
  "metadata": {
    "colab": {
      "name": "HW6_20211530_Minsoo_Song",
      "provenance": [],
      "collapsed_sections": [],
      "authorship_tag": "ABX9TyPWK+BL4jFaDPTwWcX1P4NR",
      "include_colab_link": true
    },
    "kernelspec": {
      "display_name": "Python 3",
      "name": "python3"
    },
    "language_info": {
      "name": "python"
    }
  },
  "cells": [
    {
      "cell_type": "markdown",
      "metadata": {
        "id": "view-in-github",
        "colab_type": "text"
      },
      "source": [
        "<a href=\"https://colab.research.google.com/github/ecoses042/programming/blob/main/HW6_20211530_Minsoo_Song.ipynb\" target=\"_parent\"><img src=\"https://colab.research.google.com/assets/colab-badge.svg\" alt=\"Open In Colab\"/></a>"
      ]
    },
    {
      "cell_type": "code",
      "metadata": {
        "colab": {
          "base_uri": "https://localhost:8080/"
        },
        "id": "0XLV-k6yCQYC",
        "outputId": "5545c925-2b17-45f4-ab5a-e80d6b1ef5c4"
      },
      "source": [
        "%%writefile t1.c\n",
        "#include<stdio.h>\n",
        "\n",
        "int main()\n",
        "{\n",
        "    int i=60;\n",
        "    while(i>-1)\n",
        "    {\n",
        "      printf(\"%d\\n\",i);\n",
        "      i--;  \n",
        "    }\n",
        " printf(\"launch!\");\n",
        "\n",
        "  return 0;\n",
        "}"
      ],
      "execution_count": null,
      "outputs": [
        {
          "name": "stdout",
          "output_type": "stream",
          "text": [
            "Writing t1.c\n"
          ]
        }
      ]
    },
    {
      "cell_type": "code",
      "metadata": {
        "colab": {
          "base_uri": "https://localhost:8080/"
        },
        "id": "EwX22rvp5UUJ",
        "outputId": "0a88d666-bafe-4048-fb66-fd9d90052d37"
      },
      "source": [
        "%%shell\n",
        "gcc t1.c -o out\n",
        "./out"
      ],
      "execution_count": null,
      "outputs": [
        {
          "name": "stdout",
          "output_type": "stream",
          "text": [
            "60\n",
            "59\n",
            "58\n",
            "57\n",
            "56\n",
            "55\n",
            "54\n",
            "53\n",
            "52\n",
            "51\n",
            "50\n",
            "49\n",
            "48\n",
            "47\n",
            "46\n",
            "45\n",
            "44\n",
            "43\n",
            "42\n",
            "41\n",
            "40\n",
            "39\n",
            "38\n",
            "37\n",
            "36\n",
            "35\n",
            "34\n",
            "33\n",
            "32\n",
            "31\n",
            "30\n",
            "29\n",
            "28\n",
            "27\n",
            "26\n",
            "25\n",
            "24\n",
            "23\n",
            "22\n",
            "21\n",
            "20\n",
            "19\n",
            "18\n",
            "17\n",
            "16\n",
            "15\n",
            "14\n",
            "13\n",
            "12\n",
            "11\n",
            "10\n",
            "9\n",
            "8\n",
            "7\n",
            "6\n",
            "5\n",
            "4\n",
            "3\n",
            "2\n",
            "1\n",
            "0\n",
            "launch!"
          ]
        },
        {
          "data": {
            "text/plain": [
              ""
            ]
          },
          "execution_count": 2,
          "metadata": {},
          "output_type": "execute_result"
        }
      ]
    },
    {
      "cell_type": "code",
      "metadata": {
        "colab": {
          "base_uri": "https://localhost:8080/"
        },
        "id": "QWiBnl_55Znw",
        "outputId": "34ddd7b2-b4a2-41e4-befd-1be001bc836c"
      },
      "source": [
        "%%writefile t2.c\n",
        "#include<stdio.h>\n",
        "\n",
        "int main()\n",
        "{\n",
        "    int i;\n",
        "    printf(\"how many times to repeat:\");\n",
        "    scanf(\"%d\",&i);\n",
        "\n",
        "    while(i>0)\n",
        "    {\n",
        "        printf(\"hello\\n\");\n",
        "        i--;\n",
        "    }\n",
        "  return 0;\n",
        "}"
      ],
      "execution_count": null,
      "outputs": [
        {
          "name": "stdout",
          "output_type": "stream",
          "text": [
            "Writing t2.c\n"
          ]
        }
      ]
    },
    {
      "cell_type": "code",
      "metadata": {
        "colab": {
          "base_uri": "https://localhost:8080/"
        },
        "id": "omvC5Zwl5uim",
        "outputId": "7b154895-9f71-4be9-ecae-8ec78055a558"
      },
      "source": [
        "%%shell\n",
        "gcc t2.c -o out\n",
        "./out"
      ],
      "execution_count": null,
      "outputs": [
        {
          "name": "stdout",
          "output_type": "stream",
          "text": [
            "how many times to repeat:3\n",
            "hello\n",
            "hello\n",
            "hello\n"
          ]
        },
        {
          "data": {
            "text/plain": [
              ""
            ]
          },
          "execution_count": 4,
          "metadata": {},
          "output_type": "execute_result"
        }
      ]
    },
    {
      "cell_type": "code",
      "metadata": {
        "colab": {
          "base_uri": "https://localhost:8080/"
        },
        "id": "fLZehFay5vmJ",
        "outputId": "6bb9fada-f165-49a4-8d47-bebad6a215a6"
      },
      "source": [
        "%%writefile t3.c\n",
        "#include <stdio.h>\n",
        "int main() \n",
        "{\n",
        "\tint  h;\n",
        "\n",
        "\tfor (int i = 1;i <= 7;i++)\n",
        "\t{\n",
        "\t\th = 1;\n",
        "\t\tfor (int k = 1;k <= i;k++) \n",
        "    {\n",
        "\t\t\tprintf(\"%d\", h);\n",
        "\t\t\th++;\n",
        "\t\t}\n",
        "  \n",
        "\t\tfor (int j = 1;j <= (7 - i);j++)\n",
        "    {\n",
        "      \tprintf(\"*\");\n",
        "    }\n",
        "\n",
        "\t\tprintf(\"\\n\");\n",
        "\t}\n",
        "  return 0;\n",
        "}"
      ],
      "execution_count": null,
      "outputs": [
        {
          "name": "stdout",
          "output_type": "stream",
          "text": [
            "Overwriting t3.c\n"
          ]
        }
      ]
    },
    {
      "cell_type": "code",
      "metadata": {
        "colab": {
          "base_uri": "https://localhost:8080/"
        },
        "id": "2cPTzqTy56E1",
        "outputId": "524ce711-ee4f-4aa8-b425-efd9124f2dc4"
      },
      "source": [
        "%%shell\n",
        "gcc t3.c -o out\n",
        "./out"
      ],
      "execution_count": null,
      "outputs": [
        {
          "name": "stdout",
          "output_type": "stream",
          "text": [
            "1******\n",
            "12*****\n",
            "123****\n",
            "1234***\n",
            "12345**\n",
            "123456*\n",
            "1234567\n"
          ]
        },
        {
          "data": {
            "text/plain": [
              ""
            ]
          },
          "execution_count": 12,
          "metadata": {},
          "output_type": "execute_result"
        }
      ]
    },
    {
      "cell_type": "code",
      "metadata": {
        "colab": {
          "base_uri": "https://localhost:8080/"
        },
        "id": "3a16wDi79X2B",
        "outputId": "2b07647b-47e3-4b4f-afdf-c63c8a4f8b79"
      },
      "source": [
        "%%writefile t4.c\n",
        "#include<stdio.h>\n",
        "\n",
        "int main()\n",
        "{\n",
        "    int put;\n",
        "    int i;\n",
        "    int sum=0;\n",
        "    while(1)\n",
        "    {\n",
        "        printf(\"enter your int:\");\n",
        "        scanf(\"%d\",&put);\n",
        "        sum+=put;\n",
        "        if(put==0)\n",
        "        {\n",
        "            break;\n",
        "        }\n",
        "    }\n",
        "  printf(\"your total is:%d\",sum);\n",
        " \n",
        "  return 0;\n",
        "}"
      ],
      "execution_count": null,
      "outputs": [
        {
          "name": "stdout",
          "output_type": "stream",
          "text": [
            "Overwriting t4.c\n"
          ]
        }
      ]
    },
    {
      "cell_type": "code",
      "metadata": {
        "colab": {
          "base_uri": "https://localhost:8080/"
        },
        "id": "j0VNuobi_BuI",
        "outputId": "f0cdf7f3-4b14-4813-d211-f5ffbfc625bc"
      },
      "source": [
        "%%shell\n",
        "gcc t4.c -o out\n",
        "./out"
      ],
      "execution_count": null,
      "outputs": [
        {
          "name": "stdout",
          "output_type": "stream",
          "text": [
            "enter your int:14\n",
            "enter your int:44\n",
            "enter your int:65\n",
            "enter your int:56\n",
            "enter your int:0\n",
            "your total is:179"
          ]
        },
        {
          "data": {
            "text/plain": [
              ""
            ]
          },
          "execution_count": 16,
          "metadata": {},
          "output_type": "execute_result"
        }
      ]
    },
    {
      "cell_type": "code",
      "metadata": {
        "colab": {
          "base_uri": "https://localhost:8080/"
        },
        "id": "4MAlmJfz_DuB",
        "outputId": "b92a53bd-006c-4461-cc65-d802b20ec16b"
      },
      "source": [
        "%%writefile t5.c\n",
        "#include<stdio.h>\n",
        "\n",
        "int main()\n",
        "{\n",
        "    int max=100;\n",
        "    int i;\n",
        "    for (i=1;i<=100;i++)\n",
        "    {\n",
        "        if(i%3==0)\n",
        "        {\n",
        "            printf(\"%d \",i);\n",
        "        }\n",
        "    }\n",
        "  \n",
        "  return 0;\n",
        "}"
      ],
      "execution_count": null,
      "outputs": [
        {
          "name": "stdout",
          "output_type": "stream",
          "text": [
            "Overwriting t5.c\n"
          ]
        }
      ]
    },
    {
      "cell_type": "code",
      "metadata": {
        "colab": {
          "base_uri": "https://localhost:8080/"
        },
        "id": "BWNmjR_k_gnx",
        "outputId": "86b2d36c-0aea-467e-d084-eb1bdbd6f668"
      },
      "source": [
        "%%shell\n",
        "gcc t5.c -o out\n",
        "./out"
      ],
      "execution_count": null,
      "outputs": [
        {
          "name": "stdout",
          "output_type": "stream",
          "text": [
            "3 6 9 12 15 18 21 24 27 30 33 36 39 42 45 48 51 54 57 60 63 66 69 72 75 78 81 84 87 90 93 96 99 "
          ]
        },
        {
          "data": {
            "text/plain": [
              ""
            ]
          },
          "execution_count": 20,
          "metadata": {},
          "output_type": "execute_result"
        }
      ]
    },
    {
      "cell_type": "code",
      "metadata": {
        "colab": {
          "base_uri": "https://localhost:8080/"
        },
        "id": "uyMxuVwb_hf-",
        "outputId": "779f04b9-1536-4c88-fffb-fbcbc7b76124"
      },
      "source": [
        "%%writefile t6.c\n",
        "#include<stdio.h>\n",
        "\n",
        "int main()\n",
        "{\n",
        "    int max=100;\n",
        "    int i;\n",
        "    for(i=1;i<=max;i++)\n",
        "    {\n",
        "        if(i%3==0&&i%5==0)\n",
        "        {\n",
        "            printf(\"%d \",i);\n",
        "        }\n",
        "    }\n",
        "  return 0;\n",
        "}"
      ],
      "execution_count": null,
      "outputs": [
        {
          "name": "stdout",
          "output_type": "stream",
          "text": [
            "Overwriting t6.c\n"
          ]
        }
      ]
    },
    {
      "cell_type": "code",
      "metadata": {
        "colab": {
          "base_uri": "https://localhost:8080/"
        },
        "id": "J_ZMmW2O_16q",
        "outputId": "09a69431-cf9c-4db8-d4df-53b805f7a195"
      },
      "source": [
        "%%shell\n",
        "gcc t6.c -o out\n",
        "./out"
      ],
      "execution_count": null,
      "outputs": [
        {
          "name": "stdout",
          "output_type": "stream",
          "text": [
            "15 30 45 60 75 90 "
          ]
        },
        {
          "data": {
            "text/plain": [
              ""
            ]
          },
          "execution_count": 24,
          "metadata": {},
          "output_type": "execute_result"
        }
      ]
    },
    {
      "cell_type": "code",
      "metadata": {
        "colab": {
          "base_uri": "https://localhost:8080/"
        },
        "id": "8o6pe172_2ua",
        "outputId": "a96b9aa4-e992-41e8-8d51-14f785fc6058"
      },
      "source": [
        "%%writefile t7.c\n",
        "#include<stdio.h>\n",
        "\n",
        "int main()\n",
        "{\n",
        "    int x;\n",
        "    int y;\n",
        "    int i;\n",
        "    int sum=0;\n",
        " \n",
        "    printf(\"enter your start int:\");\n",
        "    scanf(\"%d\",&x);\n",
        "    printf(\"enter your end int:\");\n",
        "    scanf(\"%d\",&y);\n",
        "    if(x>y)\n",
        "    {\n",
        "        printf(\"wrong int! please rerun the program!\");\n",
        "    } \n",
        "   for(i=x;i<=y;i++)\n",
        "   {\n",
        "      sum+=i;\n",
        "   }\n",
        "\n",
        "  printf(\"sum of all ints from %d to %d is %d\",x,y,sum);\n",
        "  return 0;\n",
        "}"
      ],
      "execution_count": null,
      "outputs": [
        {
          "name": "stdout",
          "output_type": "stream",
          "text": [
            "Overwriting t7.c\n"
          ]
        }
      ]
    },
    {
      "cell_type": "code",
      "metadata": {
        "colab": {
          "base_uri": "https://localhost:8080/"
        },
        "id": "AcRpQPFa_9Ps",
        "outputId": "ca1213ef-c231-4daa-d087-8c6e72162a5f"
      },
      "source": [
        "%%shell\n",
        "gcc t7.c -o out\n",
        "./out"
      ],
      "execution_count": null,
      "outputs": [
        {
          "name": "stdout",
          "output_type": "stream",
          "text": [
            "enter your start int:10\n",
            "enter your end int:20\n",
            "sum of all ints from 10 to 20 is 165"
          ]
        },
        {
          "data": {
            "text/plain": [
              ""
            ]
          },
          "execution_count": 29,
          "metadata": {},
          "output_type": "execute_result"
        }
      ]
    },
    {
      "cell_type": "code",
      "metadata": {
        "colab": {
          "base_uri": "https://localhost:8080/"
        },
        "id": "GMBomUhlA1kp",
        "outputId": "240cda95-f957-4214-c1e9-982d83417090"
      },
      "source": [
        "%%writefile t8.c\n",
        "#include<stdio.h>\n",
        "\n",
        "int main()\n",
        "{\n",
        "    int i;\n",
        "    for(i=1;i<=127;i++)\n",
        "    {\n",
        "        printf(\"%d:\",i);\n",
        "        printf(\"      %c\\n\",i);\n",
        "    }\n",
        "\n",
        "  return 0;\n",
        "}"
      ],
      "execution_count": null,
      "outputs": [
        {
          "name": "stdout",
          "output_type": "stream",
          "text": [
            "Writing t8.c\n"
          ]
        }
      ]
    },
    {
      "cell_type": "code",
      "metadata": {
        "colab": {
          "base_uri": "https://localhost:8080/"
        },
        "id": "572tbe1kBe0l",
        "outputId": "1d34ee2c-f8bb-47e5-938d-dd084eb8b5f9"
      },
      "source": [
        "%%shell\n",
        "gcc t8.c -o out\n",
        "./out"
      ],
      "execution_count": null,
      "outputs": [
        {
          "name": "stdout",
          "output_type": "stream",
          "text": [
            "1:      \u0001\n",
            "2:      \u0002\n",
            "3:      \u0003\n",
            "4:      \u0004\n",
            "5:      \u0005\n",
            "6:      \u0006\n",
            "7:      \u0007\n",
            "8:      \b\n",
            "9:      \t\n",
            "10:      \n",
            "\n",
            "11:      \u000b\n",
            "12:      \f\n",
            "13:      \r\n",
            "14:      \u000e\n",
            "15:      \u000f\n",
            "16:      \u0010\n",
            "17:      \u0011\n",
            "18:      \u0012\n",
            "19:      \u0013\n",
            "20:      \u0014\n",
            "21:      \u0015\n",
            "22:      \u0016\n",
            "23:      \u0017\n",
            "24:      \u0018\n",
            "25:      \u0019\n",
            "26:      \u001a\n",
            "27:      \u001b\n",
            "28:      \u001c\n",
            "29:      \u001d\n",
            "30:      \u001e\n",
            "31:      \u001f\n",
            "32:       \n",
            "33:      !\n",
            "34:      \"\n",
            "35:      #\n",
            "36:      $\n",
            "37:      %\n",
            "38:      &\n",
            "39:      '\n",
            "40:      (\n",
            "41:      )\n",
            "42:      *\n",
            "43:      +\n",
            "44:      ,\n",
            "45:      -\n",
            "46:      .\n",
            "47:      /\n",
            "48:      0\n",
            "49:      1\n",
            "50:      2\n",
            "51:      3\n",
            "52:      4\n",
            "53:      5\n",
            "54:      6\n",
            "55:      7\n",
            "56:      8\n",
            "57:      9\n",
            "58:      :\n",
            "59:      ;\n",
            "60:      <\n",
            "61:      =\n",
            "62:      >\n",
            "63:      ?\n",
            "64:      @\n",
            "65:      A\n",
            "66:      B\n",
            "67:      C\n",
            "68:      D\n",
            "69:      E\n",
            "70:      F\n",
            "71:      G\n",
            "72:      H\n",
            "73:      I\n",
            "74:      J\n",
            "75:      K\n",
            "76:      L\n",
            "77:      M\n",
            "78:      N\n",
            "79:      O\n",
            "80:      P\n",
            "81:      Q\n",
            "82:      R\n",
            "83:      S\n",
            "84:      T\n",
            "85:      U\n",
            "86:      V\n",
            "87:      W\n",
            "88:      X\n",
            "89:      Y\n",
            "90:      Z\n",
            "91:      [\n",
            "92:      \\\n",
            "93:      ]\n",
            "94:      ^\n",
            "95:      _\n",
            "96:      `\n",
            "97:      a\n",
            "98:      b\n",
            "99:      c\n",
            "100:      d\n",
            "101:      e\n",
            "102:      f\n",
            "103:      g\n",
            "104:      h\n",
            "105:      i\n",
            "106:      j\n",
            "107:      k\n",
            "108:      l\n",
            "109:      m\n",
            "110:      n\n",
            "111:      o\n",
            "112:      p\n",
            "113:      q\n",
            "114:      r\n",
            "115:      s\n",
            "116:      t\n",
            "117:      u\n",
            "118:      v\n",
            "119:      w\n",
            "120:      x\n",
            "121:      y\n",
            "122:      z\n",
            "123:      {\n",
            "124:      |\n",
            "125:      }\n",
            "126:      ~\n",
            "127:      \n"
          ]
        },
        {
          "data": {
            "text/plain": [
              ""
            ]
          },
          "execution_count": 31,
          "metadata": {},
          "output_type": "execute_result"
        }
      ]
    },
    {
      "cell_type": "code",
      "metadata": {
        "colab": {
          "base_uri": "https://localhost:8080/"
        },
        "id": "dl2TlN2TBf4W",
        "outputId": "5bb7d0d5-2bea-4e69-d29d-04c568c98d94"
      },
      "source": [
        "%%writefile t9.c\n",
        "#include<stdio.h>\n",
        "//루프가 한번 실행하고 나서 printf를 두번 실행하는 오류가 있었음\n",
        "//http://coddingbuddy.com/article/31546545/while-loop-generating-printf-twice-before-asking-for-input 참조함\n",
        "\n",
        "int main()\n",
        "{\n",
        "    char put;\n",
        "    int count=0;\n",
        " \n",
        "    while(1)\n",
        "    {\n",
        "        printf(\"enter your char(exit: '.'):\");\n",
        "        put=getchar();\n",
        "        while(getchar()!='\\n')\n",
        "        {\n",
        "        }\n",
        "          if  (put=='a')\n",
        "          {\n",
        "            count+=1;\n",
        "         \n",
        "          }\n",
        "          else if  (put=='.')\n",
        "          {\n",
        "            break;\n",
        "          }\n",
        "\n",
        "    }\n",
        "\n",
        "  printf(\"number of a is:%d\",count);\n",
        "  \n",
        "  return 0;\n",
        "}"
      ],
      "execution_count": null,
      "outputs": [
        {
          "output_type": "stream",
          "name": "stdout",
          "text": [
            "Overwriting t9.c\n"
          ]
        }
      ]
    },
    {
      "cell_type": "code",
      "metadata": {
        "colab": {
          "base_uri": "https://localhost:8080/"
        },
        "id": "YS-6VVsnCgZR",
        "outputId": "608498f9-cdb1-4302-d9cc-4257d0c6854e"
      },
      "source": [
        "%%shell\n",
        "gcc t9.c -o out\n",
        "./out"
      ],
      "execution_count": null,
      "outputs": [
        {
          "output_type": "stream",
          "name": "stdout",
          "text": [
            "enter your char(exit: '.'):a\n",
            "enter your char(exit: '.'):a\n",
            "enter your char(exit: '.'):a\n",
            "enter your char(exit: '.'):b\n",
            "enter your char(exit: '.'):a\n",
            "enter your char(exit: '.'):.\n",
            "number of a is:4"
          ]
        },
        {
          "output_type": "execute_result",
          "data": {
            "text/plain": [
              ""
            ]
          },
          "metadata": {},
          "execution_count": 165
        }
      ]
    },
    {
      "cell_type": "code",
      "metadata": {
        "colab": {
          "base_uri": "https://localhost:8080/"
        },
        "id": "H9u2V6lBChxu",
        "outputId": "84df6054-8352-44bc-8f85-3885b617e1aa"
      },
      "source": [
        "%%writefile t10.c\n",
        "#include<stdio.h>\n",
        "\n",
        "int main()\n",
        "{\n",
        "    int c;\n",
        "    int f=0;\n",
        "    for(f=0;f<=100;f+=10)\n",
        "    {\n",
        "        c=(f-32)*5/9;\n",
        "        printf(\"%d : %d\\n\",f,c);\n",
        "    }\n",
        "    \n",
        "    return 0;\n",
        "}"
      ],
      "execution_count": null,
      "outputs": [
        {
          "name": "stdout",
          "output_type": "stream",
          "text": [
            "Overwriting t10.c\n"
          ]
        }
      ]
    },
    {
      "cell_type": "code",
      "metadata": {
        "colab": {
          "base_uri": "https://localhost:8080/"
        },
        "id": "mFLWscJpGiwl",
        "outputId": "91b714b5-c325-44f8-db9a-d76566d3bf12"
      },
      "source": [
        "%%shell\n",
        "gcc t10.c -o out\n",
        "./out"
      ],
      "execution_count": null,
      "outputs": [
        {
          "name": "stdout",
          "output_type": "stream",
          "text": [
            "0 : -17\n",
            "10 : -12\n",
            "20 : -6\n",
            "30 : -1\n",
            "40 : 4\n",
            "50 : 10\n",
            "60 : 15\n",
            "70 : 21\n",
            "80 : 26\n",
            "90 : 32\n",
            "100 : 37\n"
          ]
        },
        {
          "data": {
            "text/plain": [
              ""
            ]
          },
          "execution_count": 10,
          "metadata": {},
          "output_type": "execute_result"
        }
      ]
    },
    {
      "cell_type": "code",
      "metadata": {
        "id": "s-xQJvUiGk6H",
        "colab": {
          "base_uri": "https://localhost:8080/"
        },
        "outputId": "b2a41c2e-098c-450a-f5bb-958d591617a2"
      },
      "source": [
        "%%writefile t11.c\n",
        "#include<stdio.h>\n",
        "\n",
        "int main()\n",
        "{\n",
        "  int put;\n",
        "  printf(\"enter your int:\");\n",
        "  scanf(\"%d\",&put);\n",
        "  for(int i=1;i<=put;i++)\n",
        "  {\n",
        "      for(int k=1;k<=i;k++)\n",
        "      {\n",
        "          printf(\"%d \",k);\n",
        "      }\n",
        "   printf(\"\\n\");\n",
        "  }\n",
        "  \n",
        "  return 0;\n",
        "\n",
        "}"
      ],
      "execution_count": null,
      "outputs": [
        {
          "output_type": "stream",
          "name": "stdout",
          "text": [
            "Overwriting t11.c\n"
          ]
        }
      ]
    },
    {
      "cell_type": "code",
      "metadata": {
        "colab": {
          "base_uri": "https://localhost:8080/"
        },
        "id": "hQ7P64-zJW2U",
        "outputId": "900af30d-1d08-47a7-86b2-3c7b96539e90"
      },
      "source": [
        "%%shell\n",
        "gcc t11.c -o out\n",
        "./out"
      ],
      "execution_count": null,
      "outputs": [
        {
          "output_type": "stream",
          "name": "stdout",
          "text": [
            "enter your int:5\n",
            "1 \n",
            "1 2 \n",
            "1 2 3 \n",
            "1 2 3 4 \n",
            "1 2 3 4 5 \n"
          ]
        },
        {
          "output_type": "execute_result",
          "data": {
            "text/plain": [
              ""
            ]
          },
          "metadata": {},
          "execution_count": 7
        }
      ]
    },
    {
      "cell_type": "code",
      "metadata": {
        "colab": {
          "base_uri": "https://localhost:8080/"
        },
        "id": "nyYzF3L-Jcc9",
        "outputId": "0e6aca8e-2865-43cf-a8dd-f1c44644945a"
      },
      "source": [
        "%%writefile t12.c\n",
        "#include<stdio.h>\n",
        "\n",
        "int main()\n",
        "{\n",
        "  int put;\n",
        "  for(int i=0;i<=10;)\n",
        "  {\n",
        "    printf(\"enter your int:\");\n",
        "    scanf(\"%d\",&put);\n",
        "    if(put<51)\n",
        "    {\n",
        "    for(int j=1;j<=put;j++)\n",
        "    {\n",
        "        printf(\"*\");\n",
        "    }\n",
        "    printf(\"\\n\");\n",
        "     i++;\n",
        "    }\n",
        "    else\n",
        "   {\n",
        "       printf(\"enter a different int\\n\");\n",
        "   }\n",
        "  }\n",
        " \n",
        " return 0;\n",
        "}"
      ],
      "execution_count": null,
      "outputs": [
        {
          "output_type": "stream",
          "name": "stdout",
          "text": [
            "Overwriting t12.c\n"
          ]
        }
      ]
    },
    {
      "cell_type": "code",
      "metadata": {
        "colab": {
          "base_uri": "https://localhost:8080/"
        },
        "id": "yT3n-1bcJrso",
        "outputId": "77d41366-761f-4393-be52-8e58f5daa37d"
      },
      "source": [
        "%%shell\n",
        "gcc t12.c -o out\n",
        "./out"
      ],
      "execution_count": null,
      "outputs": [
        {
          "output_type": "stream",
          "name": "stdout",
          "text": [
            "enter your int:55\n",
            "enter a different int\n",
            "enter your int:4\n",
            "****\n",
            "enter your int:4\n",
            "****\n",
            "enter your int:4\n",
            "****\n",
            "enter your int:4\n",
            "****\n",
            "enter your int:4\n",
            "****\n",
            "enter your int:4\n",
            "****\n",
            "enter your int:4\n",
            "****\n",
            "enter your int:5\n",
            "*****\n",
            "enter your int:5\n",
            "*****\n",
            "enter your int:5\n",
            "*****\n",
            "enter your int:55\n",
            "enter a different int\n",
            "enter your int:55\n",
            "enter a different int\n",
            "enter your int:10\n",
            "**********\n"
          ]
        },
        {
          "output_type": "execute_result",
          "data": {
            "text/plain": [
              ""
            ]
          },
          "metadata": {},
          "execution_count": 19
        }
      ]
    },
    {
      "cell_type": "code",
      "metadata": {
        "colab": {
          "base_uri": "https://localhost:8080/"
        },
        "id": "Rk1HZJ_dK5E2",
        "outputId": "02d79220-137c-4468-a636-6e7c4d386157"
      },
      "source": [
        "%%writefile t13.c\n",
        "#include<stdio.h>\n",
        "\n",
        "int main()\n",
        "{\n",
        "  int first=0;\n",
        "  int second=1;\n",
        "  int sum=0;\n",
        "  int put;\n",
        " \n",
        "  printf(\"to what sequence?\");\n",
        "  scanf(\"%d\",&put);\n",
        " for(int i=2;i<=put;i++)\n",
        " {\n",
        "  if(i==0)\n",
        "  {\n",
        "    printf(\"%d \",first);\n",
        "  }\n",
        "  if(i==1)\n",
        "  {\n",
        "      printf(\"%d \",second);\n",
        "  }\n",
        "  sum=first+second;\n",
        "  first=second;\n",
        "  second=sum;\n",
        "\n",
        "  printf(\"%d \",sum);\n",
        " }\n",
        "  return 0;\n",
        "}"
      ],
      "execution_count": null,
      "outputs": [
        {
          "output_type": "stream",
          "name": "stdout",
          "text": [
            "Overwriting t13.c\n"
          ]
        }
      ]
    },
    {
      "cell_type": "code",
      "metadata": {
        "colab": {
          "base_uri": "https://localhost:8080/"
        },
        "id": "fDJ0Pr3bMCru",
        "outputId": "a1bec0a8-54ff-41d7-dec7-1e8a13698f70"
      },
      "source": [
        "%%shell\n",
        "gcc t13.c -o out\n",
        "./out"
      ],
      "execution_count": null,
      "outputs": [
        {
          "output_type": "stream",
          "name": "stdout",
          "text": [
            "to what sequence?10\n",
            "1 2 3 5 8 13 21 34 55 "
          ]
        },
        {
          "output_type": "execute_result",
          "data": {
            "text/plain": [
              ""
            ]
          },
          "metadata": {},
          "execution_count": 30
        }
      ]
    },
    {
      "cell_type": "code",
      "metadata": {
        "colab": {
          "base_uri": "https://localhost:8080/"
        },
        "id": "M0JrueVYNmbL",
        "outputId": "0092ad3f-4c30-4b86-eb84-82a27de66187"
      },
      "source": [
        "%%writefile t14.c\n",
        "#include<stdio.h>\n",
        "\n",
        "int main()\n",
        "{\n",
        "  int n;\n",
        "  int result=0;\n",
        "  \n",
        "  \n",
        "  printf(\"enter your n value:\");\n",
        "  scanf(\"%d\",&n);\n",
        "  for(int i=1;i<=n;i++)\n",
        "  {\n",
        "    result+=i*i;\n",
        "  }\n",
        "  printf(\"the calculated value is:%d\",result);\n",
        "  \n",
        "  return 0;\n",
        "}"
      ],
      "execution_count": null,
      "outputs": [
        {
          "output_type": "stream",
          "name": "stdout",
          "text": [
            "Overwriting t14.c\n"
          ]
        }
      ]
    },
    {
      "cell_type": "code",
      "metadata": {
        "colab": {
          "base_uri": "https://localhost:8080/"
        },
        "id": "m8fuags0O2c5",
        "outputId": "9bcb4f1d-2d94-4a19-bcf1-29359dd699cb"
      },
      "source": [
        "%%shell\n",
        "gcc t14.c -o out\n",
        "./out"
      ],
      "execution_count": null,
      "outputs": [
        {
          "output_type": "stream",
          "name": "stdout",
          "text": [
            "enter your n value:10\n",
            "the calculated value is:385"
          ]
        },
        {
          "output_type": "execute_result",
          "data": {
            "text/plain": [
              ""
            ]
          },
          "metadata": {},
          "execution_count": 38
        }
      ]
    },
    {
      "cell_type": "code",
      "metadata": {
        "colab": {
          "base_uri": "https://localhost:8080/"
        },
        "id": "phjuPe4hO4lz",
        "outputId": "14460e43-425d-471d-869b-b83fc4ba0971"
      },
      "source": [
        "%%writefile t15.c\n",
        "#include<stdio.h>\n",
        "//문제에서 초기값이 1000이라고 했지만 탱크의 최대 용량은 정해주지 않았기 때문에 최대용량을 2000이라 가정하고 했습니다.\n",
        "int main()\n",
        "{\n",
        "    int initialf=1000;\n",
        "    int put;\n",
        "    while(1)\n",
        "    {\n",
        "        printf(\"enter fuel amount with + to charge or -to discharge:\");\n",
        "        scanf(\"%d\",&put);\n",
        "        initialf+=put;\n",
        "        if(initialf>2000)\n",
        "        {\n",
        "            initialf=2000;\n",
        "        }\n",
        "        printf(\"you have %d liter left\\n\",initialf);\n",
        "        if(initialf<=200)\n",
        "        {\n",
        "            break;\n",
        "        }\n",
        "    }\n",
        "\n",
        "    printf(\"warning!! your fuel is running out!\");\n",
        "\n",
        "    return 0;\n",
        "\n",
        "}"
      ],
      "execution_count": null,
      "outputs": [
        {
          "output_type": "stream",
          "name": "stdout",
          "text": [
            "Overwriting t15.c\n"
          ]
        }
      ]
    },
    {
      "cell_type": "code",
      "metadata": {
        "colab": {
          "base_uri": "https://localhost:8080/"
        },
        "id": "gwGiif7EP_yc",
        "outputId": "d5a61c35-23d2-437d-88cf-6884f8b6e6ef"
      },
      "source": [
        "%%shell\n",
        "gcc t15.c -o out\n",
        "./out"
      ],
      "execution_count": null,
      "outputs": [
        {
          "output_type": "stream",
          "name": "stdout",
          "text": [
            "enter fuel amount with + to charge or -to discharge:1001\n",
            "you have 2000 liter left\n",
            "enter fuel amount with + to charge or -to discharge:-1500\n",
            "you have 500 liter left\n",
            "enter fuel amount with + to charge or -to discharge:-300\n",
            "you have 200 liter left\n",
            "warning!! your fuel is running out!"
          ]
        },
        {
          "output_type": "execute_result",
          "data": {
            "text/plain": [
              ""
            ]
          },
          "metadata": {},
          "execution_count": 51
        }
      ]
    },
    {
      "cell_type": "code",
      "metadata": {
        "colab": {
          "base_uri": "https://localhost:8080/"
        },
        "id": "ukc237w3QAnH",
        "outputId": "3461dfb3-1d3e-49b2-fc69-0a12686715df"
      },
      "source": [
        "%%writefile t16.c\n",
        "#include<stdio.h>\n",
        "\n",
        "int main()\n",
        "{\n",
        "    int put;\n",
        "    int determine;\n",
        "\n",
        "    printf(\"enter your test int:\");\n",
        "    scanf(\"%d\",&put);\n",
        "    for(int i=2;i<=put-1;i++)\n",
        "    {\n",
        "      determine=put%i;\n",
        "      if(determine==0)\n",
        "      {\n",
        "          printf(\"your test int(%d) was not a prime number\",put);\n",
        "          break;\n",
        "      }\n",
        "      if(i==put-1)\n",
        "      {\n",
        "          printf(\"your test int(%d)was a prime number\",put);\n",
        "      }  \n",
        "    }\n",
        "  \n",
        "  return 0;\n",
        "}"
      ],
      "execution_count": 14,
      "outputs": [
        {
          "output_type": "stream",
          "name": "stdout",
          "text": [
            "Overwriting t16.c\n"
          ]
        }
      ]
    },
    {
      "cell_type": "code",
      "metadata": {
        "colab": {
          "base_uri": "https://localhost:8080/"
        },
        "id": "xuXHSF5tRZEt",
        "outputId": "55738081-3e8c-431a-ca65-b9070fa1902f"
      },
      "source": [
        "%%shell\n",
        "gcc t16.c -o out\n",
        "./out"
      ],
      "execution_count": 17,
      "outputs": [
        {
          "output_type": "stream",
          "name": "stdout",
          "text": [
            "enter your test int:7919\n",
            "your test int(7919)was a prime number"
          ]
        },
        {
          "output_type": "execute_result",
          "data": {
            "text/plain": [
              ""
            ]
          },
          "metadata": {},
          "execution_count": 17
        }
      ]
    },
    {
      "cell_type": "code",
      "metadata": {
        "colab": {
          "base_uri": "https://localhost:8080/"
        },
        "id": "MhlX_bZ1RZ6O",
        "outputId": "9982156e-5c49-4f03-cef6-41aa90765752"
      },
      "source": [
        "%%writefile t17.c\n",
        "#include<stdio.h>\n",
        "\n",
        "int main()\n",
        "{\n",
        "    int a;\n",
        "    int b;\n",
        "    int c;\n",
        "    for (a = 1; a <= 100; a++)\n",
        "    {\n",
        "        for (b = 1; b <= 100; b++)\n",
        "        {\n",
        "            for (c = 1; c <= 100; c++)\n",
        "            {\n",
        "                if ((a*a) + (b*b) == (c*c))\n",
        "                {\n",
        "                    printf(\"%d %d %d\\n\", a, b, c);\n",
        "                }\n",
        "            }\n",
        "        }\n",
        "    }\n",
        "    return 0;\n",
        "}"
      ],
      "execution_count": null,
      "outputs": [
        {
          "output_type": "stream",
          "name": "stdout",
          "text": [
            "Overwriting t17.c\n"
          ]
        }
      ]
    },
    {
      "cell_type": "code",
      "metadata": {
        "colab": {
          "base_uri": "https://localhost:8080/"
        },
        "id": "2Txnjy_ISuHF",
        "outputId": "f1aad4f0-2680-4ace-e8f4-91281457ee71"
      },
      "source": [
        "%%shell\n",
        "gcc t17.c -o out\n",
        "./out"
      ],
      "execution_count": null,
      "outputs": [
        {
          "output_type": "stream",
          "name": "stdout",
          "text": [
            "3 4 5\n",
            "4 3 5\n",
            "5 12 13\n",
            "6 8 10\n",
            "7 24 25\n",
            "8 6 10\n",
            "8 15 17\n",
            "9 12 15\n",
            "9 40 41\n",
            "10 24 26\n",
            "11 60 61\n",
            "12 5 13\n",
            "12 9 15\n",
            "12 16 20\n",
            "12 35 37\n",
            "13 84 85\n",
            "14 48 50\n",
            "15 8 17\n",
            "15 20 25\n",
            "15 36 39\n",
            "16 12 20\n",
            "16 30 34\n",
            "16 63 65\n",
            "18 24 30\n",
            "18 80 82\n",
            "20 15 25\n",
            "20 21 29\n",
            "20 48 52\n",
            "21 20 29\n",
            "21 28 35\n",
            "21 72 75\n",
            "24 7 25\n",
            "24 10 26\n",
            "24 18 30\n",
            "24 32 40\n",
            "24 45 51\n",
            "24 70 74\n",
            "25 60 65\n",
            "27 36 45\n",
            "28 21 35\n",
            "28 45 53\n",
            "28 96 100\n",
            "30 16 34\n",
            "30 40 50\n",
            "30 72 78\n",
            "32 24 40\n",
            "32 60 68\n",
            "33 44 55\n",
            "33 56 65\n",
            "35 12 37\n",
            "35 84 91\n",
            "36 15 39\n",
            "36 27 45\n",
            "36 48 60\n",
            "36 77 85\n",
            "39 52 65\n",
            "39 80 89\n",
            "40 9 41\n",
            "40 30 50\n",
            "40 42 58\n",
            "40 75 85\n",
            "42 40 58\n",
            "42 56 70\n",
            "44 33 55\n",
            "45 24 51\n",
            "45 28 53\n",
            "45 60 75\n",
            "48 14 50\n",
            "48 20 52\n",
            "48 36 60\n",
            "48 55 73\n",
            "48 64 80\n",
            "51 68 85\n",
            "52 39 65\n",
            "54 72 90\n",
            "55 48 73\n",
            "56 33 65\n",
            "56 42 70\n",
            "57 76 95\n",
            "60 11 61\n",
            "60 25 65\n",
            "60 32 68\n",
            "60 45 75\n",
            "60 63 87\n",
            "60 80 100\n",
            "63 16 65\n",
            "63 60 87\n",
            "64 48 80\n",
            "65 72 97\n",
            "68 51 85\n",
            "70 24 74\n",
            "72 21 75\n",
            "72 30 78\n",
            "72 54 90\n",
            "72 65 97\n",
            "75 40 85\n",
            "76 57 95\n",
            "77 36 85\n",
            "80 18 82\n",
            "80 39 89\n",
            "80 60 100\n",
            "84 13 85\n",
            "84 35 91\n",
            "96 28 100\n"
          ]
        },
        {
          "output_type": "execute_result",
          "data": {
            "text/plain": [
              ""
            ]
          },
          "metadata": {},
          "execution_count": 75
        }
      ]
    },
    {
      "cell_type": "code",
      "metadata": {
        "colab": {
          "base_uri": "https://localhost:8080/"
        },
        "id": "2jB-YdfaSvKE",
        "outputId": "8d73c028-a43d-40a9-ad08-48128b3b6e91"
      },
      "source": [
        "%%writefile t18.c\n",
        "#include<stdio.h>\n",
        "#include <stdlib.h>\n",
        "#include<time.h>\n",
        "\n",
        "int main()\n",
        "{\n",
        "    srand(time(NULL));\n",
        "    int initial=50;\n",
        "    int tries=0;\n",
        "    int win=0;\n",
        "    int lose=0;\n",
        "\n",
        "    printf(\"you have 50 dollar\\n\");\n",
        "    printf(\"your goal is 250 dollars\\n\");\n",
        "\n",
        "    while(1)\n",
        "    {\n",
        "        int random=rand()%3;\n",
        "        if(random==1)\n",
        "        {\n",
        "            win+=1;\n",
        "            tries+=1;\n",
        "            initial+=1;\n",
        "        }\n",
        "        if(random==2)\n",
        "        {\n",
        "            lose+=1;\n",
        "            tries+=1;\n",
        "            initial-=1;\n",
        "        }\n",
        "        if(initial==0||initial==250)\n",
        "        {\n",
        "            break;\n",
        "        }\n",
        "    }\n",
        "    printf(\"you tried %d times, won %d times and lost %d times.\\n\",tries,win,lose);\n",
        "    double rate=win*100/tries;\n",
        "    printf(\"your win rate is %.2lfpercent\",rate);\n",
        "\n",
        "    return 0;\n",
        "}"
      ],
      "execution_count": null,
      "outputs": [
        {
          "output_type": "stream",
          "name": "stdout",
          "text": [
            "Overwriting t18.c\n"
          ]
        }
      ]
    },
    {
      "cell_type": "code",
      "metadata": {
        "colab": {
          "base_uri": "https://localhost:8080/"
        },
        "id": "WE_XMO87WBBI",
        "outputId": "457bfa59-fb49-40cd-82d0-c473832ef9a3"
      },
      "source": [
        "%%shell\n",
        "gcc t18.c -o out\n",
        "./out"
      ],
      "execution_count": null,
      "outputs": [
        {
          "output_type": "stream",
          "name": "stdout",
          "text": [
            "you have 50 dollar\n",
            "your goal is 250 dollars\n",
            "you tried 12152 times, won 6051 times and lost 6101 times.\n",
            "your win rate is 49.00percent"
          ]
        },
        {
          "output_type": "execute_result",
          "data": {
            "text/plain": [
              ""
            ]
          },
          "metadata": {},
          "execution_count": 101
        }
      ]
    },
    {
      "cell_type": "code",
      "metadata": {
        "colab": {
          "base_uri": "https://localhost:8080/"
        },
        "id": "FuBlrQkLWGkb",
        "outputId": "2300b3d5-074d-45f0-93d6-c2f772ac10b8"
      },
      "source": [
        "%%writefile t19.c\n",
        "#include<stdio.h>\n",
        "#include<math.h>\n",
        "\n",
        "int main()\n",
        "{\n",
        "  double top=4;\n",
        "  double pi;\n",
        "  int put;\n",
        "  double bot=1;\n",
        "  double temp;\n",
        "  \n",
        "  printf(\"how many repeats?\");\n",
        "  scanf(\"%d\",&put);\n",
        " \n",
        "  for(int i=0;i<=put;i++)\n",
        "  {\n",
        "    double sign=pow(-1,i);\n",
        "    temp=sign*top/bot;\n",
        "    pi+=temp;\n",
        "    bot+=2;\n",
        "  }\n",
        "  printf(\"your estimated pi value is %.6lf.\",pi);\n",
        "  \n",
        "  return 0;\n",
        "\n",
        "}"
      ],
      "execution_count": null,
      "outputs": [
        {
          "output_type": "stream",
          "name": "stdout",
          "text": [
            "Overwriting t19.c\n"
          ]
        }
      ]
    },
    {
      "cell_type": "code",
      "metadata": {
        "colab": {
          "base_uri": "https://localhost:8080/"
        },
        "id": "FkXfOXY4Y70L",
        "outputId": "7fd55380-9eaf-48c2-faed-953b2a74ac8b"
      },
      "source": [
        "%%shell\n",
        "gcc t19.c -o out -lm\n",
        "./out"
      ],
      "execution_count": null,
      "outputs": [
        {
          "output_type": "stream",
          "name": "stdout",
          "text": [
            "how many repeats?1000000\n",
            "your estimated pi value is 3.141594."
          ]
        },
        {
          "output_type": "execute_result",
          "data": {
            "text/plain": [
              ""
            ]
          },
          "metadata": {},
          "execution_count": 126
        }
      ]
    },
    {
      "cell_type": "code",
      "metadata": {
        "id": "K5RRzi0dY-WO"
      },
      "source": [
        ""
      ],
      "execution_count": null,
      "outputs": []
    }
  ]
}