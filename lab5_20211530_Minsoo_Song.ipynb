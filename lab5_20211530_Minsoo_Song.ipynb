{
  "nbformat": 4,
  "nbformat_minor": 0,
  "metadata": {
    "colab": {
      "name": "lab5_20211530_Minsoo_Song",
      "provenance": [],
      "collapsed_sections": [],
      "authorship_tag": "ABX9TyPxWZFhDB40z8x+ycvyS8Sv",
      "include_colab_link": true
    },
    "kernelspec": {
      "name": "python3",
      "display_name": "Python 3"
    },
    "language_info": {
      "name": "python"
    }
  },
  "cells": [
    {
      "cell_type": "markdown",
      "metadata": {
        "id": "view-in-github",
        "colab_type": "text"
      },
      "source": [
        "<a href=\"https://colab.research.google.com/github/ecoses042/programming/blob/main/lab5_20211530_Minsoo_Song.ipynb\" target=\"_parent\"><img src=\"https://colab.research.google.com/assets/colab-badge.svg\" alt=\"Open In Colab\"/></a>"
      ]
    },
    {
      "cell_type": "code",
      "metadata": {
        "id": "PA-CdNRiDrPc",
        "colab": {
          "base_uri": "https://localhost:8080/"
        },
        "outputId": "a48d0f5f-d103-466c-d3ee-8878dd127051"
      },
      "source": [
        "%%writefile task1.c\n",
        "#include<stdio.h>\n",
        "\n",
        "int main()\n",
        "{\n",
        "    int temp;\n",
        "    printf(\"enter your temperature\");\n",
        "    scanf(\"%d\",&temp);\n",
        "\n",
        "    if  (temp>0)\n",
        "        printf(\"it is above zero\\n\");\n",
        "    else\n",
        "        printf(\"it is below zero\");\n",
        "    printf(\"the current temperature is %ddegrees\",temp);\n",
        "\n",
        "    return 0;\n",
        "}"
      ],
      "execution_count": null,
      "outputs": [
        {
          "output_type": "stream",
          "name": "stdout",
          "text": [
            "Writing task1.c\n"
          ]
        }
      ]
    },
    {
      "cell_type": "code",
      "metadata": {
        "colab": {
          "base_uri": "https://localhost:8080/"
        },
        "id": "2KQaMGGgSEVf",
        "outputId": "64903c9a-1a19-4f1e-e462-55c572b1ce98"
      },
      "source": [
        "ls"
      ],
      "execution_count": null,
      "outputs": [
        {
          "output_type": "stream",
          "name": "stdout",
          "text": [
            "\u001b[0m\u001b[01;34msample_data\u001b[0m/  task1.c\n"
          ]
        }
      ]
    },
    {
      "cell_type": "code",
      "metadata": {
        "colab": {
          "base_uri": "https://localhost:8080/"
        },
        "id": "6fMMJiPWSFnQ",
        "outputId": "b49c4896-78a3-4fff-d427-c36d062bb57e"
      },
      "source": [
        "%%shell\n",
        "gcc task1.c -o out\n",
        "./out"
      ],
      "execution_count": null,
      "outputs": [
        {
          "output_type": "stream",
          "name": "stdout",
          "text": [
            "enter your temperature1234\n",
            "it is above zero\n",
            "the current temperature is 1234degrees"
          ]
        },
        {
          "output_type": "execute_result",
          "data": {
            "text/plain": [
              ""
            ]
          },
          "metadata": {},
          "execution_count": 3
        }
      ]
    },
    {
      "cell_type": "code",
      "metadata": {
        "colab": {
          "base_uri": "https://localhost:8080/"
        },
        "id": "WdYX4QLoSJmo",
        "outputId": "5fe6bccd-8091-48a0-f38f-e750dea5e7b8"
      },
      "source": [
        "%%writefile task2.c\n",
        "#include<stdio.h>\n",
        "\n",
        "int main()\n",
        "{\n",
        "    int a;\n",
        "    printf(\"enter 1 int:\");\n",
        "    scanf(\"%d\",&a);\n",
        "    if (a%2==0)\n",
        "      printf(\"the int you entered is even\");\n",
        "    else\n",
        "      printf(\"the int you entered is odd\");\n",
        "\n",
        "    return 0;\n",
        "}"
      ],
      "execution_count": null,
      "outputs": [
        {
          "output_type": "stream",
          "name": "stdout",
          "text": [
            "Writing task2.c\n"
          ]
        }
      ]
    },
    {
      "cell_type": "code",
      "metadata": {
        "colab": {
          "base_uri": "https://localhost:8080/"
        },
        "id": "UAksoBXMSiYk",
        "outputId": "456b273b-2974-42c1-8029-20e773ebca55"
      },
      "source": [
        "ls"
      ],
      "execution_count": null,
      "outputs": [
        {
          "output_type": "stream",
          "name": "stdout",
          "text": [
            "\u001b[0m\u001b[01;32mout\u001b[0m*  \u001b[01;34msample_data\u001b[0m/  task1.c  task2.c\n"
          ]
        }
      ]
    },
    {
      "cell_type": "code",
      "metadata": {
        "colab": {
          "base_uri": "https://localhost:8080/"
        },
        "id": "I-IOwLOgSiq4",
        "outputId": "dbd3a7fc-b1f3-4334-b395-db12fba31b9e"
      },
      "source": [
        "%%shell\n",
        "gcc task2.c -o out\n",
        "./out"
      ],
      "execution_count": null,
      "outputs": [
        {
          "output_type": "stream",
          "name": "stdout",
          "text": [
            "enter 1 int:24\n",
            "the int you entered is even"
          ]
        },
        {
          "output_type": "execute_result",
          "data": {
            "text/plain": [
              ""
            ]
          },
          "metadata": {},
          "execution_count": 6
        }
      ]
    },
    {
      "cell_type": "code",
      "metadata": {
        "colab": {
          "base_uri": "https://localhost:8080/"
        },
        "id": "PUe7EAOwSkmC",
        "outputId": "f5e153bb-2739-4adb-be4e-5711c3d084b2"
      },
      "source": [
        "%%writefile task3.c\n",
        "#include<stdio.h>\n",
        "\n",
        "int main()\n",
        "{\n",
        "    int score;\n",
        "    printf(\"enter your score:\");\n",
        "    scanf(\"%d\",&score);\n",
        "\n",
        "    if (score>=60)\n",
        "    {\n",
        "        printf(\"you passed the test\\n\");\n",
        "        printf(\"you can get a scholarship\");\n",
        "    }\n",
        "    else\n",
        "      printf(\"you did not passed the test\");\n",
        "\n",
        "    return 0;\n",
        "}"
      ],
      "execution_count": null,
      "outputs": [
        {
          "output_type": "stream",
          "name": "stdout",
          "text": [
            "Overwriting task3.c\n"
          ]
        }
      ]
    },
    {
      "cell_type": "code",
      "metadata": {
        "colab": {
          "base_uri": "https://localhost:8080/"
        },
        "id": "onzv3S5LTAGN",
        "outputId": "b624f1bc-adb1-4b32-a110-4cced23dba3b"
      },
      "source": [
        "ls"
      ],
      "execution_count": null,
      "outputs": [
        {
          "output_type": "stream",
          "name": "stdout",
          "text": [
            "\u001b[0m\u001b[01;32mout\u001b[0m*  \u001b[01;34msample_data\u001b[0m/  task1.c  task2.c  task3.c\n"
          ]
        }
      ]
    },
    {
      "cell_type": "code",
      "metadata": {
        "colab": {
          "base_uri": "https://localhost:8080/"
        },
        "id": "xel5Vn0tTAU_",
        "outputId": "1d2ea531-97e5-4b75-d78f-75b95c7d11ea"
      },
      "source": [
        "%%shell\n",
        "gcc task3.c -o out\n",
        "./out"
      ],
      "execution_count": null,
      "outputs": [
        {
          "output_type": "stream",
          "name": "stdout",
          "text": [
            "enter your score:61\n",
            "you passed the test\n",
            "you can get a scholarship"
          ]
        },
        {
          "output_type": "execute_result",
          "data": {
            "text/plain": [
              ""
            ]
          },
          "metadata": {},
          "execution_count": 16
        }
      ]
    },
    {
      "cell_type": "code",
      "metadata": {
        "colab": {
          "base_uri": "https://localhost:8080/"
        },
        "id": "Z71lX5iKTA1Z",
        "outputId": "48139d51-f93b-4e28-8bd2-be7728557e6a"
      },
      "source": [
        "%%writefile task4.c\n",
        "#include<stdio.h>\n",
        "\n",
        "int main()\n",
        "{\n",
        "    int x,y;\n",
        "\n",
        "    printf(\"first int:\");\n",
        "    scanf(\"%d\",&x);\n",
        "    printf(\"second int:\");\n",
        "    scanf(\"%d\",&y);\n",
        "\n",
        "    printf(\"big int=%d\\n\",(x>y)?x:y);\n",
        "    printf(\"small int=%d\\n\",(x<y)?x:y);\n",
        "\n",
        "    return 0;\n",
        "\n",
        "\n",
        "}"
      ],
      "execution_count": null,
      "outputs": [
        {
          "output_type": "stream",
          "name": "stdout",
          "text": [
            "Overwriting task4.c\n"
          ]
        }
      ]
    },
    {
      "cell_type": "code",
      "metadata": {
        "colab": {
          "base_uri": "https://localhost:8080/"
        },
        "id": "M5GcvFwvT8PB",
        "outputId": "8dd6a4e0-f9bd-447f-eae5-c6bd4121d294"
      },
      "source": [
        "ls"
      ],
      "execution_count": null,
      "outputs": [
        {
          "output_type": "stream",
          "name": "stdout",
          "text": [
            "\u001b[0m\u001b[01;32mout\u001b[0m*  \u001b[01;34msample_data\u001b[0m/  task1.c  task2.c  task3.c  task4.c\n"
          ]
        }
      ]
    },
    {
      "cell_type": "code",
      "metadata": {
        "colab": {
          "base_uri": "https://localhost:8080/"
        },
        "id": "J2LErPPoT8iq",
        "outputId": "f25af8ee-2af9-450f-be4a-d4441616ce93"
      },
      "source": [
        "%%shell\n",
        "gcc task4.c -o out\n",
        "./out"
      ],
      "execution_count": null,
      "outputs": [
        {
          "output_type": "stream",
          "name": "stdout",
          "text": [
            "first int:14\n",
            "second int:44\n",
            "big int=44\n",
            "small int=14\n"
          ]
        },
        {
          "output_type": "execute_result",
          "data": {
            "text/plain": [
              ""
            ]
          },
          "metadata": {},
          "execution_count": 22
        }
      ]
    },
    {
      "cell_type": "code",
      "metadata": {
        "colab": {
          "base_uri": "https://localhost:8080/"
        },
        "id": "aKiNiqEhT9sW",
        "outputId": "96b45cdd-bc4e-4ef2-e480-fea6e24f0ca5"
      },
      "source": [
        "%%writefile task5.c\n",
        "#include<stdio.h>\n",
        "\n",
        "int main()\n",
        "{\n",
        "    int num;\n",
        "\n",
        "    printf(\"enter your int:\");\n",
        "    scanf(\"%d\",&num);\n",
        "\n",
        "    if (num<=100 && num>=0)\n",
        "    {\n",
        "        printf(\"your int is between 0 and 100\");\n",
        "    }\n",
        "    else\n",
        "      printf(\"your int is not between 0 and 100\");\n",
        " \n",
        "    return 0;\n",
        "\n",
        "}"
      ],
      "execution_count": null,
      "outputs": [
        {
          "output_type": "stream",
          "name": "stdout",
          "text": [
            "Writing task5.c\n"
          ]
        }
      ]
    },
    {
      "cell_type": "code",
      "metadata": {
        "colab": {
          "base_uri": "https://localhost:8080/"
        },
        "id": "TBz4RbcnUe7s",
        "outputId": "c99dced8-c478-45a1-d54b-d1ad74086f0e"
      },
      "source": [
        "ls"
      ],
      "execution_count": null,
      "outputs": [
        {
          "output_type": "stream",
          "name": "stdout",
          "text": [
            "\u001b[0m\u001b[01;32mout\u001b[0m*  \u001b[01;34msample_data\u001b[0m/  task1.c  task2.c  task3.c  task4.c  task5.c\n"
          ]
        }
      ]
    },
    {
      "cell_type": "code",
      "metadata": {
        "colab": {
          "base_uri": "https://localhost:8080/"
        },
        "id": "k_ERWHvEUfLH",
        "outputId": "575f8d6f-174c-4430-9eab-b6deec0c0379"
      },
      "source": [
        "%%shell\n",
        "gcc task5.c -o out\n",
        "./out"
      ],
      "execution_count": null,
      "outputs": [
        {
          "output_type": "stream",
          "name": "stdout",
          "text": [
            "enter your int:144\n",
            "your int is not between 0 and 100"
          ]
        },
        {
          "output_type": "execute_result",
          "data": {
            "text/plain": [
              ""
            ]
          },
          "metadata": {},
          "execution_count": 25
        }
      ]
    },
    {
      "cell_type": "code",
      "metadata": {
        "colab": {
          "base_uri": "https://localhost:8080/"
        },
        "id": "qOxlhlvBUgik",
        "outputId": "47c5e451-1a12-4442-a99c-e08ba5542d1b"
      },
      "source": [
        "%%writefile task6.c\n",
        "#include<stdio.h>\n",
        "\n",
        "int main()\n",
        "{\n",
        "    int score;\n",
        "    char grade;\n",
        "\n",
        "    printf(\"enter your score:\");\n",
        "    scanf(\"%d\",&score);\n",
        "\n",
        "    if(score>=90)\n",
        "        grade='A';\n",
        "    else if(score>=80)\n",
        "        grade='B';\n",
        "    else if(score>=70)\n",
        "        grade='C';\n",
        "    else if(score>=60)\n",
        "        grade='D';\n",
        "    else\n",
        "        grade='F';\n",
        " \n",
        "    printf(\"your grade is:%c\",grade);\n",
        "\n",
        "    return 0;\n",
        "}"
      ],
      "execution_count": null,
      "outputs": [
        {
          "output_type": "stream",
          "name": "stdout",
          "text": [
            "Overwriting task6.c\n"
          ]
        }
      ]
    },
    {
      "cell_type": "code",
      "metadata": {
        "colab": {
          "base_uri": "https://localhost:8080/"
        },
        "id": "jTnhySUGVNYV",
        "outputId": "372a3a1c-d4cd-4d1c-c290-2e27089790d0"
      },
      "source": [
        "ls"
      ],
      "execution_count": null,
      "outputs": [
        {
          "output_type": "stream",
          "name": "stdout",
          "text": [
            "\u001b[0m\u001b[01;32mout\u001b[0m*  \u001b[01;34msample_data\u001b[0m/  task1.c  task2.c  task3.c  task4.c  task5.c  task6.c\n"
          ]
        }
      ]
    },
    {
      "cell_type": "code",
      "metadata": {
        "colab": {
          "base_uri": "https://localhost:8080/"
        },
        "id": "lbGe-IYqVNr0",
        "outputId": "a5b4a3b3-6a97-4147-e040-6c3e4a9f8b95"
      },
      "source": [
        "%%shell\n",
        "gcc task6.c -o out\n",
        "./out"
      ],
      "execution_count": null,
      "outputs": [
        {
          "output_type": "stream",
          "name": "stdout",
          "text": [
            "enter your score:60\n",
            "your grade is:D"
          ]
        },
        {
          "output_type": "execute_result",
          "data": {
            "text/plain": [
              ""
            ]
          },
          "metadata": {},
          "execution_count": 34
        }
      ]
    },
    {
      "cell_type": "code",
      "metadata": {
        "colab": {
          "base_uri": "https://localhost:8080/"
        },
        "id": "ZvwgQcu2VPAz",
        "outputId": "731c5ccf-d503-4d1c-ec1c-1f2f435727ac"
      },
      "source": [
        "%%writefile task7.c\n",
        "#include<stdio.h>\n",
        "\n",
        "int main()\n",
        "{\n",
        "    int x,y;\n",
        "    char z;\n",
        "    int answer;\n",
        "\n",
        "    printf(\"enter your problem:\");\n",
        "    scanf(\"%d %c %d\",&x,&z,&y);\n",
        "    \n",
        "    if (z=='+')\n",
        "      answer=x+y;\n",
        "    else if (z=='-')\n",
        "      answer=x-y;\n",
        "    else if (z=='/')\n",
        "        answer=x/y;\n",
        "    else if(z=='*')\n",
        "        answer=x*y;\n",
        "    else\n",
        "        printf(\"cannot generate answer using this program\");\n",
        "    printf(\"your answer is:%d\",answer);\n",
        "\n",
        "    return 0;\n",
        "}"
      ],
      "execution_count": null,
      "outputs": [
        {
          "output_type": "stream",
          "name": "stdout",
          "text": [
            "Overwriting task7.c\n"
          ]
        }
      ]
    },
    {
      "cell_type": "code",
      "metadata": {
        "colab": {
          "base_uri": "https://localhost:8080/"
        },
        "id": "O_VNHsx2WTXr",
        "outputId": "5156d879-47da-4220-9998-1ade45cd18ec"
      },
      "source": [
        "ls"
      ],
      "execution_count": null,
      "outputs": [
        {
          "output_type": "stream",
          "name": "stdout",
          "text": [
            "\u001b[0m\u001b[01;32mout\u001b[0m*          task1.c  task3.c  task5.c  task7.c\n",
            "\u001b[01;34msample_data\u001b[0m/  task2.c  task4.c  task6.c\n"
          ]
        }
      ]
    },
    {
      "cell_type": "code",
      "metadata": {
        "colab": {
          "base_uri": "https://localhost:8080/"
        },
        "id": "bKl73HtOWTqt",
        "outputId": "9fb786c1-feaf-408b-a109-bc00b147d8e4"
      },
      "source": [
        "%%shell\n",
        "gcc task7.c -o out\n",
        "./out"
      ],
      "execution_count": null,
      "outputs": [
        {
          "output_type": "stream",
          "name": "stdout",
          "text": [
            "enter your problem:14 * 10\n",
            "your answer is:140"
          ]
        },
        {
          "output_type": "execute_result",
          "data": {
            "text/plain": [
              ""
            ]
          },
          "metadata": {},
          "execution_count": 44
        }
      ]
    },
    {
      "cell_type": "code",
      "metadata": {
        "colab": {
          "base_uri": "https://localhost:8080/"
        },
        "id": "W7nbsBB_WVOV",
        "outputId": "a025b3f2-5849-4798-8986-55189f6aa246"
      },
      "source": [
        "%%writefile task8.c\n",
        "#include<stdio.h>\n",
        "\n",
        "int main()\n",
        "{\n",
        "    int month,days;\n",
        "    printf(\"enter your interest month:\");\n",
        "    scanf(\"%d\",&month);\n",
        "    switch(month)\n",
        "    {\n",
        "      case 2:\n",
        "        days=28;\n",
        "        break;\n",
        "      case 4:\n",
        "      case 6:\n",
        "      case 9:\n",
        "      case 11:\n",
        "          days=30;\n",
        "          break;\n",
        "      default:\n",
        "          days=31;\n",
        "          break;\n",
        "    }\n",
        "    printf(\"your days on your month are:%d\",days);\n",
        "\n",
        "    return 0;\n",
        "}"
      ],
      "execution_count": null,
      "outputs": [
        {
          "output_type": "stream",
          "name": "stdout",
          "text": [
            "Overwriting task8.c\n"
          ]
        }
      ]
    },
    {
      "cell_type": "code",
      "metadata": {
        "colab": {
          "base_uri": "https://localhost:8080/"
        },
        "id": "teSqw39SXlmj",
        "outputId": "7c49c88d-8fcc-4bba-969a-5f22ec3f9539"
      },
      "source": [
        "ls"
      ],
      "execution_count": null,
      "outputs": [
        {
          "output_type": "stream",
          "name": "stdout",
          "text": [
            "\u001b[0m\u001b[01;32mout\u001b[0m*          task1.c  task3.c  task5.c  task7.c\n",
            "\u001b[01;34msample_data\u001b[0m/  task2.c  task4.c  task6.c  task8.c\n"
          ]
        }
      ]
    },
    {
      "cell_type": "code",
      "metadata": {
        "colab": {
          "base_uri": "https://localhost:8080/"
        },
        "id": "Ef70TSywXtLh",
        "outputId": "94dc2394-d04a-43ff-d7bb-3909cbbcfc62"
      },
      "source": [
        "%%shell\n",
        "gcc task8.c -o out\n",
        "./out"
      ],
      "execution_count": null,
      "outputs": [
        {
          "output_type": "stream",
          "name": "stdout",
          "text": [
            "enter your interest month:11\n",
            "your days on your month are:30"
          ]
        },
        {
          "output_type": "execute_result",
          "data": {
            "text/plain": [
              ""
            ]
          },
          "metadata": {},
          "execution_count": 48
        }
      ]
    },
    {
      "cell_type": "code",
      "metadata": {
        "id": "gPYE380YXulu"
      },
      "source": [
        ""
      ],
      "execution_count": null,
      "outputs": []
    }
  ]
}