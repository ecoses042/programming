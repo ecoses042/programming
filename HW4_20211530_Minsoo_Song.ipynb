{
  "nbformat": 4,
  "nbformat_minor": 0,
  "metadata": {
    "colab": {
      "name": "HW4_20211530_Minsoo_Song",
      "provenance": [],
      "authorship_tag": "ABX9TyNjhlqzWMr/l2FimmF2r8wi",
      "include_colab_link": true
    },
    "kernelspec": {
      "name": "python3",
      "display_name": "Python 3"
    },
    "language_info": {
      "name": "python"
    }
  },
  "cells": [
    {
      "cell_type": "markdown",
      "metadata": {
        "id": "view-in-github",
        "colab_type": "text"
      },
      "source": [
        "<a href=\"https://colab.research.google.com/github/ecoses042/programming/blob/main/HW4_20211530_Minsoo_Song.ipynb\" target=\"_parent\"><img src=\"https://colab.research.google.com/assets/colab-badge.svg\" alt=\"Open In Colab\"/></a>"
      ]
    },
    {
      "cell_type": "code",
      "metadata": {
        "colab": {
          "base_uri": "https://localhost:8080/"
        },
        "id": "ACzb7SmKmHPc",
        "outputId": "9d049298-d662-4061-9b3d-80078f749e37"
      },
      "source": [
        "%%writefile program1.c\n",
        "#include<stdio.h>\n",
        "\n",
        "int main()\n",
        "{\n",
        "  double h;\n",
        "  double w;\n",
        "  double bmi;\n",
        " \n",
        "  printf(\"Height in meters:\");\n",
        "  scanf(\"%lf\",&h);\n",
        " \n",
        "  printf(\"weight:\");\n",
        "  scanf(\"%lf\",&w);\n",
        "  bmi=w/(h*h);\n",
        "  \n",
        "  printf(\"your bmi is:%lf\",bmi);\n",
        "  return 0;\n",
        "\n",
        "}"
      ],
      "execution_count": null,
      "outputs": [
        {
          "output_type": "stream",
          "name": "stdout",
          "text": [
            "Overwriting program1.c\n"
          ]
        }
      ]
    },
    {
      "cell_type": "code",
      "metadata": {
        "colab": {
          "base_uri": "https://localhost:8080/"
        },
        "id": "zPe011tBr0fY",
        "outputId": "4635de84-f26e-4a66-a32e-d187502fd31a"
      },
      "source": [
        "ls"
      ],
      "execution_count": null,
      "outputs": [
        {
          "output_type": "stream",
          "name": "stdout",
          "text": [
            "\u001b[0m\u001b[01;32mout\u001b[0m*  program1.c  program2.c  program3.c  program4.c  \u001b[01;34msample_data\u001b[0m/\n"
          ]
        }
      ]
    },
    {
      "cell_type": "code",
      "metadata": {
        "colab": {
          "base_uri": "https://localhost:8080/"
        },
        "id": "bicjJ9jSr05b",
        "outputId": "1ee2c76c-514b-4f15-d1cf-3e622cf0b352"
      },
      "source": [
        "%%shell\n",
        "gcc program1.c -o out\n",
        "./out"
      ],
      "execution_count": null,
      "outputs": [
        {
          "output_type": "stream",
          "name": "stdout",
          "text": [
            "Height in meters:1.88\n",
            "weight:85\n",
            "your bmi is:24.049344"
          ]
        },
        {
          "output_type": "execute_result",
          "data": {
            "text/plain": [
              ""
            ]
          },
          "metadata": {},
          "execution_count": 3
        }
      ]
    },
    {
      "cell_type": "code",
      "metadata": {
        "colab": {
          "base_uri": "https://localhost:8080/"
        },
        "id": "cfh-jlf7r7P-",
        "outputId": "99f4bfb7-877c-4bc6-f2de-5a25bcc2ce13"
      },
      "source": [
        "%%writefile program2.c\n",
        "#include<stdio.h>\n",
        "\n",
        "int main()\n",
        "{\n",
        "  int x;\n",
        "  int y;\n",
        "  int z;\n",
        "  \n",
        "  printf(\"정수 x를 입력하시오:\");\n",
        "  scanf(\"%d\",&x);\n",
        "  printf(\"정수 y를 입력하시오:\");\n",
        "  scanf(\"%d\",&y);\n",
        "  printf(\"정수 z를 입력하시오:\");\n",
        "  scanf(\"%d\",&z);\n",
        "  int result=x*y-z;\n",
        "  printf(\"%d*%d-%d=%d\",x,y,z,result);\n",
        "  \n",
        "  return 0;\n",
        "}"
      ],
      "execution_count": null,
      "outputs": [
        {
          "output_type": "stream",
          "name": "stdout",
          "text": [
            "Overwriting program2.c\n"
          ]
        }
      ]
    },
    {
      "cell_type": "code",
      "metadata": {
        "colab": {
          "base_uri": "https://localhost:8080/"
        },
        "id": "j36Bb8eEz3mC",
        "outputId": "60d09e00-192b-49cd-a756-6299833b00f5"
      },
      "source": [
        "ls"
      ],
      "execution_count": null,
      "outputs": [
        {
          "output_type": "stream",
          "name": "stdout",
          "text": [
            "\u001b[0m\u001b[01;32mout\u001b[0m*  program1.c  program2.c  program3.c  program4.c  \u001b[01;34msample_data\u001b[0m/\n"
          ]
        }
      ]
    },
    {
      "cell_type": "code",
      "metadata": {
        "colab": {
          "base_uri": "https://localhost:8080/"
        },
        "id": "mBCjC-liz4Ak",
        "outputId": "6f2bd08b-1eed-4bf3-bb6d-2abfa85db6bb"
      },
      "source": [
        "%%shell\n",
        "gcc program2.c -o out\n",
        "./out"
      ],
      "execution_count": null,
      "outputs": [
        {
          "output_type": "stream",
          "name": "stdout",
          "text": [
            "정수 x를 입력하시오:1\n",
            "정수 y를 입력하시오:2\n",
            "정수 z를 입력하시오:3\n",
            "1*2-3=-1"
          ]
        },
        {
          "output_type": "execute_result",
          "data": {
            "text/plain": [
              ""
            ]
          },
          "metadata": {},
          "execution_count": 6
        }
      ]
    },
    {
      "cell_type": "code",
      "metadata": {
        "colab": {
          "base_uri": "https://localhost:8080/"
        },
        "id": "4CHKTASVz54E",
        "outputId": "eb82610e-6510-47a7-9df0-396dfb269501"
      },
      "source": [
        "%%writefile program3.c\n",
        "#include<stdio.h>\n",
        "\n",
        "int main()\n",
        "{\n",
        "    double disrate;\n",
        "    double price;\n",
        "    double disprice;\n",
        "\n",
        "    printf(\"Enter the price:\");\n",
        "    scanf(\"%lf\",&price);\n",
        "    printf(\"Enter discount rate:\");\n",
        "    scanf(\"%lf\",&disrate);\n",
        " \n",
        "    disprice=price-(price*disrate/100);\n",
        "    printf(\"your discounted price is:%.2lf\",disprice);\n",
        "\n",
        "    return 0;\n",
        " \n",
        "}"
      ],
      "execution_count": null,
      "outputs": [
        {
          "output_type": "stream",
          "name": "stdout",
          "text": [
            "Overwriting program3.c\n"
          ]
        }
      ]
    },
    {
      "cell_type": "code",
      "metadata": {
        "colab": {
          "base_uri": "https://localhost:8080/"
        },
        "id": "uEiamSDf0_tp",
        "outputId": "edd513ef-1005-4370-d543-101ef16a2e17"
      },
      "source": [
        "ls"
      ],
      "execution_count": null,
      "outputs": [
        {
          "output_type": "stream",
          "name": "stdout",
          "text": [
            "\u001b[0m\u001b[01;32mout\u001b[0m*  program1.c  program2.c  program3.c  program4.c  \u001b[01;34msample_data\u001b[0m/\n"
          ]
        }
      ]
    },
    {
      "cell_type": "code",
      "metadata": {
        "colab": {
          "base_uri": "https://localhost:8080/"
        },
        "id": "-Uz7cDaS1A0U",
        "outputId": "2332c1d4-1011-4bce-b77e-63e690815694"
      },
      "source": [
        "%%shell\n",
        "gcc program3.c -o out\n",
        "./out"
      ],
      "execution_count": null,
      "outputs": [
        {
          "output_type": "stream",
          "name": "stdout",
          "text": [
            "Enter the price:10000\n",
            "Enter discount rate:10\n",
            "your discounted price is:9000.00"
          ]
        },
        {
          "output_type": "execute_result",
          "data": {
            "text/plain": [
              ""
            ]
          },
          "metadata": {},
          "execution_count": 9
        }
      ]
    },
    {
      "cell_type": "code",
      "metadata": {
        "colab": {
          "base_uri": "https://localhost:8080/"
        },
        "id": "5qtYNIZD1DIk",
        "outputId": "09b2fa9c-a87a-4575-e46b-ec750b634763"
      },
      "source": [
        "%%writefile program4.c\n",
        "#include<stdio.h>\n",
        "\n",
        "int main()\n",
        "{\n",
        "    float kor,eng,math,total,mean;\n",
        "\n",
        "    printf(\"enter your kor,math, and english scores:\");\n",
        "    scanf(\"%f%f%f\",&kor,&math,&eng);\n",
        " \n",
        "    total=kor+eng+math;\n",
        "    mean=total/3;\n",
        "\n",
        "    printf(\"your total score is:%.2lf\",total);\n",
        "    printf(\"your score on average is:%.2lf\",mean);\n",
        "\n",
        "    return 0;\n",
        "}"
      ],
      "execution_count": null,
      "outputs": [
        {
          "output_type": "stream",
          "name": "stdout",
          "text": [
            "Overwriting program4.c\n"
          ]
        }
      ]
    },
    {
      "cell_type": "code",
      "metadata": {
        "colab": {
          "base_uri": "https://localhost:8080/"
        },
        "id": "lEXoz2bh1fPw",
        "outputId": "65bff0ae-e949-4ca3-aa2c-0a0ec18ccdd2"
      },
      "source": [
        "ls"
      ],
      "execution_count": null,
      "outputs": [
        {
          "output_type": "stream",
          "name": "stdout",
          "text": [
            "\u001b[0m\u001b[01;32mout\u001b[0m*  program1.c  program2.c  program3.c  program4.c  \u001b[01;34msample_data\u001b[0m/\n"
          ]
        }
      ]
    },
    {
      "cell_type": "code",
      "metadata": {
        "colab": {
          "base_uri": "https://localhost:8080/"
        },
        "id": "JZ0F6lza2Cqb",
        "outputId": "42733026-2777-4013-c034-369db4cc216c"
      },
      "source": [
        "%%shell\n",
        "gcc program4.c -o out\n",
        "./out"
      ],
      "execution_count": null,
      "outputs": [
        {
          "output_type": "stream",
          "name": "stdout",
          "text": [
            "enter your kor,math, and english scores:100 80 10\n",
            "your total score is:190.00your score on average is:63.33"
          ]
        },
        {
          "output_type": "execute_result",
          "data": {
            "text/plain": [
              ""
            ]
          },
          "metadata": {},
          "execution_count": 21
        }
      ]
    },
    {
      "cell_type": "code",
      "metadata": {
        "colab": {
          "base_uri": "https://localhost:8080/"
        },
        "id": "o15qs9-V2Flu",
        "outputId": "d731dc73-5f5d-4fef-9eae-8f88bfbcdab8"
      },
      "source": [
        "%%writefile program5.c\n",
        "#include<stdio.h>\n",
        "\n",
        "int main()\n",
        "{\n",
        "    int x;\n",
        "    int y;\n",
        "    int result;\n",
        "    int remainder;\n",
        " \n",
        "    printf(\"Enter your first int:\");\n",
        "    scanf(\"%d\",&x);\n",
        "    printf(\"Enter your second int:\");\n",
        "    scanf(\"%d\",&y);\n",
        " \n",
        "    result=x/y;\n",
        "    remainder=x%y;\n",
        "\n",
        "    printf(\"your quotient is:%d\\n\",result);\n",
        "    printf(\"your remainder is:%d\",remainder);\n",
        "\n",
        "    return 0;\n",
        "}"
      ],
      "execution_count": null,
      "outputs": [
        {
          "output_type": "stream",
          "name": "stdout",
          "text": [
            "Overwriting program5.c\n"
          ]
        }
      ]
    },
    {
      "cell_type": "code",
      "metadata": {
        "colab": {
          "base_uri": "https://localhost:8080/"
        },
        "id": "72MZPfZP6EKW",
        "outputId": "727eb07e-fbc8-4b37-d5e6-325e71a5dbfc"
      },
      "source": [
        "ls"
      ],
      "execution_count": null,
      "outputs": [
        {
          "output_type": "stream",
          "name": "stdout",
          "text": [
            "\u001b[0m\u001b[01;32mout\u001b[0m*  program1.c  program2.c  program3.c  program4.c  program5.c  \u001b[01;34msample_data\u001b[0m/\n"
          ]
        }
      ]
    },
    {
      "cell_type": "code",
      "metadata": {
        "colab": {
          "base_uri": "https://localhost:8080/"
        },
        "id": "ZU0TWYl66Ed3",
        "outputId": "157b8755-1fb6-4ba8-bb90-fdf28f19bb99"
      },
      "source": [
        "%%shell\n",
        "gcc program5.c -o out\n",
        "./out"
      ],
      "execution_count": null,
      "outputs": [
        {
          "output_type": "stream",
          "name": "stdout",
          "text": [
            "Enter your first int:15\n",
            "Enter your second int:2\n",
            "your quotient is:7\n",
            "your remainder is:1"
          ]
        },
        {
          "output_type": "execute_result",
          "data": {
            "text/plain": [
              ""
            ]
          },
          "metadata": {},
          "execution_count": 27
        }
      ]
    },
    {
      "cell_type": "code",
      "metadata": {
        "colab": {
          "base_uri": "https://localhost:8080/"
        },
        "id": "ET-4YxDV6HG5",
        "outputId": "73720346-9833-47ba-85f8-f9cf87670d25"
      },
      "source": [
        "%%writefile program6.c\n",
        "#include<stdio.h>\n",
        "\n",
        "int main()\n",
        "{\n",
        "    int x;\n",
        "    int hun;\n",
        "    int ten;\n",
        "    int one;\n",
        "\n",
        "    printf(\"enter your 3 digit int:\");\n",
        "    scanf(\"%d\",&x);\n",
        "    hun=x/100;\n",
        "    ten=(x%100)/10;\n",
        "    one=((x%100)%10);\n",
        "\n",
        "    printf(\"백의 자릿수:%d\\n\",hun);\n",
        "    printf(\"십의 자릿수:%d\\n\",ten);\n",
        "    printf(\"일의 자릿수:%d\\n\",one);\n",
        " \n",
        "    return 0;\n",
        "}"
      ],
      "execution_count": null,
      "outputs": [
        {
          "output_type": "stream",
          "name": "stdout",
          "text": [
            "Overwriting program6.c\n"
          ]
        }
      ]
    },
    {
      "cell_type": "code",
      "metadata": {
        "colab": {
          "base_uri": "https://localhost:8080/"
        },
        "id": "cQNQ2_Z37AmR",
        "outputId": "7a09aee8-e0ea-4e5b-ea39-db801660532d"
      },
      "source": [
        "ls"
      ],
      "execution_count": null,
      "outputs": [
        {
          "output_type": "stream",
          "name": "stdout",
          "text": [
            "\u001b[0m\u001b[01;32mout\u001b[0m*        program2.c  program4.c  program6.c\n",
            "program1.c  program3.c  program5.c  \u001b[01;34msample_data\u001b[0m/\n"
          ]
        }
      ]
    },
    {
      "cell_type": "code",
      "metadata": {
        "colab": {
          "base_uri": "https://localhost:8080/"
        },
        "id": "B6e9DLI-7BJa",
        "outputId": "bfe9f2e8-02ce-4080-9d4d-5b5a7f39773e"
      },
      "source": [
        "%%shell\n",
        "gcc program6.c -o out\n",
        "./out"
      ],
      "execution_count": null,
      "outputs": [
        {
          "output_type": "stream",
          "name": "stdout",
          "text": [
            "enter your 3 digit int:321\n",
            "백의 자릿수:3\n",
            "십의 자릿수:2\n",
            "일의 자릿수:1\n"
          ]
        },
        {
          "output_type": "execute_result",
          "data": {
            "text/plain": [
              ""
            ]
          },
          "metadata": {},
          "execution_count": 33
        }
      ]
    },
    {
      "cell_type": "code",
      "metadata": {
        "colab": {
          "base_uri": "https://localhost:8080/"
        },
        "id": "TgRrLl8b7C1j",
        "outputId": "3a29c00a-339d-4134-f829-cd95e11ddbf9"
      },
      "source": [
        "%%writefile program7.c\n",
        "#include<stdio.h>\n",
        "\n",
        "int main()\n",
        "{\n",
        "    float x,result;\n",
        "\n",
        "    printf(\"enter your x value:\");\n",
        "    scanf(\"%f\",&x);\n",
        "\n",
        "    result=(x*x*x-20)/(x-7);\n",
        "    printf(\"reult:%f\",result);\n",
        "\n",
        "    return 0;\n",
        "}"
      ],
      "execution_count": 11,
      "outputs": [
        {
          "output_type": "stream",
          "name": "stdout",
          "text": [
            "Overwriting program7.c\n"
          ]
        }
      ]
    },
    {
      "cell_type": "code",
      "metadata": {
        "colab": {
          "base_uri": "https://localhost:8080/"
        },
        "id": "wUoco1c-7NKJ",
        "outputId": "ced2dc3c-494e-4120-885b-59fd276bdc48"
      },
      "source": [
        "ls"
      ],
      "execution_count": 12,
      "outputs": [
        {
          "output_type": "stream",
          "name": "stdout",
          "text": [
            "\u001b[0m\u001b[01;32mout\u001b[0m*  program7.c  \u001b[01;34msample_data\u001b[0m/\n"
          ]
        }
      ]
    },
    {
      "cell_type": "code",
      "metadata": {
        "colab": {
          "base_uri": "https://localhost:8080/"
        },
        "id": "XdFOhtef7kI-",
        "outputId": "93e19609-3269-4078-fa2d-419439d3841a"
      },
      "source": [
        "%%shell\n",
        "gcc program7.c -o out\n",
        "./out"
      ],
      "execution_count": 13,
      "outputs": [
        {
          "output_type": "stream",
          "name": "stdout",
          "text": [
            "enter your x value:24\n",
            "reult:812.000000"
          ]
        },
        {
          "output_type": "execute_result",
          "data": {
            "text/plain": [
              ""
            ]
          },
          "metadata": {},
          "execution_count": 13
        }
      ]
    },
    {
      "cell_type": "code",
      "metadata": {
        "colab": {
          "base_uri": "https://localhost:8080/"
        },
        "id": "dakorTtf7lpT",
        "outputId": "98708be0-2d37-430a-d605-2ec5c36ec3ed"
      },
      "source": [
        "%%writefile program8.c\n",
        "#include<stdio.h>\n",
        "\n",
        "int main()\n",
        "{\n",
        "    float a;\n",
        "    float b;\n",
        "    int result;\n",
        "\n",
        "    printf(\"enter 2 floats:\");\n",
        "    scanf(\"%f,%f\",&a,&b);\n",
        "    result=(int)a+(int)b;\n",
        "\n",
        "    printf(\"result is:%d\",(int)result);\n",
        " \n",
        "    return 0;\n",
        " \n",
        "}"
      ],
      "execution_count": 14,
      "outputs": [
        {
          "output_type": "stream",
          "name": "stdout",
          "text": [
            "Writing program8.c\n"
          ]
        }
      ]
    },
    {
      "cell_type": "code",
      "metadata": {
        "colab": {
          "base_uri": "https://localhost:8080/"
        },
        "id": "V-82EdF28aQ-",
        "outputId": "d0a0e95a-28bb-44ee-99d4-29685a68a6d1"
      },
      "source": [
        "ls"
      ],
      "execution_count": 15,
      "outputs": [
        {
          "output_type": "stream",
          "name": "stdout",
          "text": [
            "\u001b[0m\u001b[01;32mout\u001b[0m*  program7.c  program8.c  \u001b[01;34msample_data\u001b[0m/\n"
          ]
        }
      ]
    },
    {
      "cell_type": "code",
      "metadata": {
        "colab": {
          "base_uri": "https://localhost:8080/"
        },
        "id": "4fyoMY2P8al_",
        "outputId": "663fea05-c26d-4f49-d265-edec7cd98b75"
      },
      "source": [
        "%%shell\n",
        "gcc program8.c -o out\n",
        "./out"
      ],
      "execution_count": 18,
      "outputs": [
        {
          "output_type": "stream",
          "name": "stdout",
          "text": [
            "enter 2 floats:42.42 52.42\n",
            "result is:42"
          ]
        },
        {
          "output_type": "execute_result",
          "data": {
            "text/plain": [
              ""
            ]
          },
          "metadata": {},
          "execution_count": 18
        }
      ]
    },
    {
      "cell_type": "code",
      "metadata": {
        "colab": {
          "base_uri": "https://localhost:8080/"
        },
        "id": "e59qKn428byl",
        "outputId": "abad38f7-89bf-4737-d7ba-96657162d6e2"
      },
      "source": [
        "%%writefile program9.c\n",
        "#include<stdio.h>\n",
        "\n",
        "int main()\n",
        "{\n",
        "    int x;\n",
        "    int num;\n",
        "    printf(\"enter your int:\");\n",
        "    scanf(\"%d\",&x);\n",
        "\n",
        "    num=x&1;\n",
        "    printf(\"LSB is equal to:%d\",num);\n",
        "\n",
        "    return 0;\n",
        " \n",
        "}"
      ],
      "execution_count": null,
      "outputs": [
        {
          "output_type": "stream",
          "name": "stdout",
          "text": [
            "Overwriting program9.c\n"
          ]
        }
      ]
    },
    {
      "cell_type": "code",
      "metadata": {
        "colab": {
          "base_uri": "https://localhost:8080/"
        },
        "id": "ruh9gUlu9etP",
        "outputId": "a7ba6776-d216-4bdc-ad6d-a27469779421"
      },
      "source": [
        "ls"
      ],
      "execution_count": null,
      "outputs": [
        {
          "output_type": "stream",
          "name": "stdout",
          "text": [
            "program1.c  program3.c  program5.c  program7.c  program9.c\n",
            "program2.c  program4.c  program6.c  program8.c  \u001b[0m\u001b[01;34msample_data\u001b[0m/\n"
          ]
        }
      ]
    },
    {
      "cell_type": "code",
      "metadata": {
        "colab": {
          "base_uri": "https://localhost:8080/"
        },
        "id": "BdKGXnkN9dZf",
        "outputId": "2c579d70-d7bb-4375-c6b9-a6bf609116f8"
      },
      "source": [
        "%%shell\n",
        "gcc program9.c -o out\n",
        "./out"
      ],
      "execution_count": null,
      "outputs": [
        {
          "output_type": "stream",
          "name": "stdout",
          "text": [
            "enter your int:9\n",
            "LSB is equal to:1"
          ]
        },
        {
          "output_type": "execute_result",
          "data": {
            "text/plain": [
              ""
            ]
          },
          "metadata": {},
          "execution_count": 59
        }
      ]
    },
    {
      "cell_type": "code",
      "metadata": {
        "colab": {
          "base_uri": "https://localhost:8080/"
        },
        "id": "a7cIi2Nn9h0Y",
        "outputId": "c4733cf3-b5d0-47b5-d0ba-0155fb5282eb"
      },
      "source": [
        "%%writefile program10.c\n",
        "#include<stdio.h>\n",
        "int main()\n",
        "{\n",
        "    int num;\n",
        "    int n;\n",
        "    int beat;\n",
        "\n",
        "    printf(\"enter your num:\");\n",
        "    scanf(\"%d\",&num);\n",
        "    printf(\"enter your n\");\n",
        "    scanf(\"%d\",&n);\n",
        "\n",
        "    beat=(1<<n)|num;\n",
        "    printf(\"new value:%d\",beat);\n",
        "\n",
        "    return 0;\n",
        " \n",
        "\n",
        "}"
      ],
      "execution_count": null,
      "outputs": [
        {
          "output_type": "stream",
          "name": "stdout",
          "text": [
            "Writing program10.c\n"
          ]
        }
      ]
    },
    {
      "cell_type": "code",
      "metadata": {
        "colab": {
          "base_uri": "https://localhost:8080/"
        },
        "id": "-njMoXcv-Ml1",
        "outputId": "2be2e409-2ab5-4b32-bdf4-e9611fd2e950"
      },
      "source": [
        "ls"
      ],
      "execution_count": null,
      "outputs": [
        {
          "output_type": "stream",
          "name": "stdout",
          "text": [
            "\u001b[0m\u001b[01;32mout\u001b[0m*         program1.c  program3.c  program5.c  program7.c  program9.c\n",
            "program10.c  program2.c  program4.c  program6.c  program8.c  \u001b[01;34msample_data\u001b[0m/\n"
          ]
        }
      ]
    },
    {
      "cell_type": "code",
      "metadata": {
        "colab": {
          "base_uri": "https://localhost:8080/"
        },
        "id": "YduU63Y3-M6l",
        "outputId": "cf3e631e-a8ab-4958-8c67-5aee03a6f30d"
      },
      "source": [
        "%%shell\n",
        "gcc program10.c -o out\n",
        "./out"
      ],
      "execution_count": null,
      "outputs": [
        {
          "output_type": "stream",
          "name": "stdout",
          "text": [
            "enter your num:21\n",
            "enter your n2\n",
            "new value:21"
          ]
        },
        {
          "output_type": "execute_result",
          "data": {
            "text/plain": [
              ""
            ]
          },
          "metadata": {},
          "execution_count": 62
        }
      ]
    },
    {
      "cell_type": "code",
      "metadata": {
        "id": "69px0Zf2-OJe"
      },
      "source": [
        ""
      ],
      "execution_count": null,
      "outputs": []
    }
  ]
}