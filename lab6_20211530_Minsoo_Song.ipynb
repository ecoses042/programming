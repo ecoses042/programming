{
  "nbformat": 4,
  "nbformat_minor": 0,
  "metadata": {
    "colab": {
      "name": "lab6_20211530_Minsoo_Song",
      "provenance": [],
      "authorship_tag": "ABX9TyNi6wb6m1Fh+yrbw36SDgzj",
      "include_colab_link": true
    },
    "kernelspec": {
      "name": "python3",
      "display_name": "Python 3"
    },
    "language_info": {
      "name": "python"
    }
  },
  "cells": [
    {
      "cell_type": "markdown",
      "metadata": {
        "id": "view-in-github",
        "colab_type": "text"
      },
      "source": [
        "<a href=\"https://colab.research.google.com/github/ecoses042/programming/blob/main/lab6_20211530_Minsoo_Song.ipynb\" target=\"_parent\"><img src=\"https://colab.research.google.com/assets/colab-badge.svg\" alt=\"Open In Colab\"/></a>"
      ]
    },
    {
      "cell_type": "code",
      "metadata": {
        "colab": {
          "base_uri": "https://localhost:8080/"
        },
        "id": "IUNy1IljG0Q6",
        "outputId": "2318bae8-21a6-4848-90a2-72f089b1648b"
      },
      "source": [
        "%%writefile task1.c\n",
        "#include<stdio.h>\n",
        "\n",
        "int main()\n",
        "{\n",
        "  int i=0;\n",
        "  while(i<10)\n",
        "  {\n",
        "      printf(\"I will not eat during class\\n\");\n",
        "      i++;\n",
        "  }  \n",
        " return 0;\n",
        "}"
      ],
      "execution_count": null,
      "outputs": [
        {
          "output_type": "stream",
          "name": "stdout",
          "text": [
            "Overwriting task1.c\n"
          ]
        }
      ]
    },
    {
      "cell_type": "code",
      "metadata": {
        "colab": {
          "base_uri": "https://localhost:8080/"
        },
        "id": "aZAkvDGEIoam",
        "outputId": "9fef8b0f-4fc0-44c5-faa7-163baf3373c4"
      },
      "source": [
        "%%shell\n",
        "gcc task1.c -o out\n",
        "./out"
      ],
      "execution_count": null,
      "outputs": [
        {
          "output_type": "stream",
          "name": "stdout",
          "text": [
            "I will not eat during class\n",
            "I will not eat during class\n",
            "I will not eat during class\n",
            "I will not eat during class\n",
            "I will not eat during class\n",
            "I will not eat during class\n",
            "I will not eat during class\n",
            "I will not eat during class\n",
            "I will not eat during class\n",
            "I will not eat during class\n"
          ]
        },
        {
          "output_type": "execute_result",
          "data": {
            "text/plain": [
              ""
            ]
          },
          "metadata": {},
          "execution_count": 6
        }
      ]
    },
    {
      "cell_type": "code",
      "metadata": {
        "colab": {
          "base_uri": "https://localhost:8080/"
        },
        "id": "a1sUBEQpIrtE",
        "outputId": "a874cdf8-0c85-4997-ef3b-7d26f463c3a2"
      },
      "source": [
        "%%writefile task2.c \n",
        "#include<stdio.h>\n",
        "\n",
        "int main()\n",
        "{\n",
        "    int i=0;\n",
        "    while (i<10)\n",
        "    {\n",
        "        printf(\"i=%d\",i);\n",
        "        i++;\n",
        "    }\n",
        " return 0;\n",
        "}"
      ],
      "execution_count": null,
      "outputs": [
        {
          "output_type": "stream",
          "name": "stdout",
          "text": [
            "Overwriting task2.c\n"
          ]
        }
      ]
    },
    {
      "cell_type": "code",
      "metadata": {
        "colab": {
          "base_uri": "https://localhost:8080/"
        },
        "id": "V88_C6Q6I_yg",
        "outputId": "c01c76ee-0044-4ee7-ed8a-ba10ccfd345d"
      },
      "source": [
        "%%shell\n",
        "gcc task2.c -o out\n",
        "./out"
      ],
      "execution_count": null,
      "outputs": [
        {
          "output_type": "stream",
          "name": "stdout",
          "text": [
            "i=0i=1i=2i=3i=4i=5i=6i=7i=8i=9"
          ]
        },
        {
          "output_type": "execute_result",
          "data": {
            "text/plain": [
              ""
            ]
          },
          "metadata": {},
          "execution_count": 10
        }
      ]
    },
    {
      "cell_type": "code",
      "metadata": {
        "colab": {
          "base_uri": "https://localhost:8080/"
        },
        "id": "Vt01v4YKJBpc",
        "outputId": "275a4dce-772a-4da8-ea71-4033577b2206"
      },
      "source": [
        "%%writefile task3.c\n",
        "#include<stdio.h>\n",
        "\n",
        "int main()\n",
        "{\n",
        "    int meter;\n",
        "    int mile=0;\n",
        "\n",
        "    while (mile<3)\n",
        "    {\n",
        "        meter=mile*1609;\n",
        "        printf(\"%d miles in meters is %d\\n\",mile,meter);\n",
        "        mile++;\n",
        "    }\n",
        " return 0;\n",
        "}"
      ],
      "execution_count": null,
      "outputs": [
        {
          "output_type": "stream",
          "name": "stdout",
          "text": [
            "Overwriting task3.c\n"
          ]
        }
      ]
    },
    {
      "cell_type": "code",
      "metadata": {
        "colab": {
          "base_uri": "https://localhost:8080/"
        },
        "id": "U6eLrVwXJcZg",
        "outputId": "66d8703d-a801-4957-cc59-13551e47925e"
      },
      "source": [
        "%%shell\n",
        "gcc task3.c -o out\n",
        "./out"
      ],
      "execution_count": null,
      "outputs": [
        {
          "output_type": "stream",
          "name": "stdout",
          "text": [
            "0 miles in meters is 0\n",
            "1 miles in meters is 1609\n",
            "2 miles in meters is 3218\n"
          ]
        },
        {
          "output_type": "execute_result",
          "data": {
            "text/plain": [
              ""
            ]
          },
          "metadata": {},
          "execution_count": 16
        }
      ]
    },
    {
      "cell_type": "code",
      "metadata": {
        "colab": {
          "base_uri": "https://localhost:8080/"
        },
        "id": "TpeAko5CJdc1",
        "outputId": "76f45781-71ed-4379-afff-4a0a3a1db81b"
      },
      "source": [
        "%%writefile task4.c\n",
        "#include<stdio.h>\n",
        "\n",
        "int main()\n",
        "{\n",
        "    int num=5;\n",
        "    int numsum=1;\n",
        "\n",
        "    while (num>=1)\n",
        "    {\n",
        "        numsum*=num;\n",
        "        num--;\n",
        "    }\n",
        "    printf(\"%d\",numsum);\n",
        "\n",
        "  return 0;\n",
        "}"
      ],
      "execution_count": null,
      "outputs": [
        {
          "output_type": "stream",
          "name": "stdout",
          "text": [
            "Writing task4.c\n"
          ]
        }
      ]
    },
    {
      "cell_type": "code",
      "metadata": {
        "colab": {
          "base_uri": "https://localhost:8080/"
        },
        "id": "Ts7czwulJ_NF",
        "outputId": "c9d34bc3-d3f4-4862-a3fb-783cbf14d979"
      },
      "source": [
        "%%shell\n",
        "gcc task4.c -o out\n",
        "./out"
      ],
      "execution_count": null,
      "outputs": [
        {
          "output_type": "stream",
          "name": "stdout",
          "text": [
            "120"
          ]
        },
        {
          "output_type": "execute_result",
          "data": {
            "text/plain": [
              ""
            ]
          },
          "metadata": {},
          "execution_count": 18
        }
      ]
    },
    {
      "cell_type": "code",
      "metadata": {
        "colab": {
          "base_uri": "https://localhost:8080/"
        },
        "id": "p3tlzAOZKACq",
        "outputId": "90887008-9fa8-4da4-f9bd-c0718231886d"
      },
      "source": [
        "%%writefile task5.c\n",
        "#include<stdio.h>\n",
        "\n",
        "int main()\n",
        "{\n",
        "    int n;\n",
        "    int i=1;\n",
        "\n",
        "    printf(\"구구단 숫자 정하기:\");\n",
        "    scanf(\"%d\",&n);\n",
        "\n",
        "    while(i<10)\n",
        "    {\n",
        "        printf(\"%d x %d = %d\\n\",n,i,n*i);\n",
        "        i++;\n",
        "    }\n",
        " \n",
        " return 0;\n",
        "\n",
        "}"
      ],
      "execution_count": null,
      "outputs": [
        {
          "output_type": "stream",
          "name": "stdout",
          "text": [
            "Overwriting task5.c\n"
          ]
        }
      ]
    },
    {
      "cell_type": "code",
      "metadata": {
        "colab": {
          "base_uri": "https://localhost:8080/"
        },
        "id": "YYOlLtkRKn2V",
        "outputId": "953d1c67-eeed-4d4b-a7d2-4263fc683409"
      },
      "source": [
        "%%shell\n",
        "gcc task5.c -o out\n",
        "./out"
      ],
      "execution_count": null,
      "outputs": [
        {
          "output_type": "stream",
          "name": "stdout",
          "text": [
            "구구단 숫자 정하기:6\n",
            "6 x 1 = 6\n",
            "6 x 2 = 12\n",
            "6 x 3 = 18\n",
            "6 x 4 = 24\n",
            "6 x 5 = 30\n",
            "6 x 6 = 36\n",
            "6 x 7 = 42\n",
            "6 x 8 = 48\n",
            "6 x 9 = 54\n"
          ]
        },
        {
          "output_type": "execute_result",
          "data": {
            "text/plain": [
              ""
            ]
          },
          "metadata": {},
          "execution_count": 24
        }
      ]
    },
    {
      "cell_type": "code",
      "metadata": {
        "colab": {
          "base_uri": "https://localhost:8080/"
        },
        "id": "fDu7bB2vKq7I",
        "outputId": "06250ea9-6d6c-4138-dcf1-2e7553c7db0c"
      },
      "source": [
        "%%writefile task6.c\n",
        "#include<stdio.h>\n",
        "\n",
        "int main()\n",
        "{\n",
        "    int n;\n",
        "    int i=1;\n",
        "\n",
        "    while (i<1001)\n",
        "    {\n",
        "        n+=i;\n",
        "        i++;\n",
        "    }\n",
        " printf(\"the sum is %d\",n);\n",
        "\n",
        " return 0;\n",
        "}"
      ],
      "execution_count": null,
      "outputs": [
        {
          "output_type": "stream",
          "name": "stdout",
          "text": [
            "Writing task6.c\n"
          ]
        }
      ]
    },
    {
      "cell_type": "code",
      "metadata": {
        "colab": {
          "base_uri": "https://localhost:8080/"
        },
        "id": "kYFVXLNHLGWa",
        "outputId": "0147e827-a640-456a-c4bf-7246d94ecfc4"
      },
      "source": [
        "%%shell\n",
        "gcc task6.c -o out\n",
        "./out"
      ],
      "execution_count": null,
      "outputs": [
        {
          "output_type": "stream",
          "name": "stdout",
          "text": [
            "the sum is 500500"
          ]
        },
        {
          "output_type": "execute_result",
          "data": {
            "text/plain": [
              ""
            ]
          },
          "metadata": {},
          "execution_count": 26
        }
      ]
    },
    {
      "cell_type": "code",
      "metadata": {
        "colab": {
          "base_uri": "https://localhost:8080/"
        },
        "id": "lPxwbyMmLHe_",
        "outputId": "7fa0f725-6975-422f-b385-83c0148f25fb"
      },
      "source": [
        "%%writefile task7.c\n",
        "#include<stdio.h>\n",
        "\n",
        "int main()\n",
        "{\n",
        "    int i=0;\n",
        "    do\n",
        " {\n",
        "    printf(\"1---open file\\n\");\n",
        "    printf(\"2---save file\\n\");\n",
        "    printf(\"3----exit\\n\");\n",
        "    printf(\"select one:\");\n",
        "    scanf(\"%d\",&i);\n",
        "    if(i==1)\n",
        "    {\n",
        "        printf(\"file opened\\n\");\n",
        "      \n",
        "    }\n",
        "    else if(i==2)\n",
        "    {\n",
        "        printf(\"file saved\\n\");\n",
        "       \n",
        "    }\n",
        "    else if(i==3)\n",
        "    {\n",
        "        printf(\"goodbye...\\n\");\n",
        "       \n",
        "    }\n",
        "    else\n",
        "    {\n",
        "        printf(\"please select again\\n\");\n",
        "    }\n",
        " }while(i<1||i>3);\n",
        "\n",
        " printf(\"you chose:%d\",i);\n",
        "\n",
        "return 0;\n",
        "\n",
        "}"
      ],
      "execution_count": null,
      "outputs": [
        {
          "output_type": "stream",
          "name": "stdout",
          "text": [
            "Overwriting task7.c\n"
          ]
        }
      ]
    },
    {
      "cell_type": "code",
      "metadata": {
        "colab": {
          "base_uri": "https://localhost:8080/"
        },
        "id": "lLuw6aWXL3cR",
        "outputId": "234ab069-dcaa-4fdf-c4a9-cc774e56deb3"
      },
      "source": [
        "%%shell\n",
        "gcc task7.c -o out\n",
        "./out"
      ],
      "execution_count": null,
      "outputs": [
        {
          "output_type": "stream",
          "name": "stdout",
          "text": [
            "1---open file\n",
            "2---save file\n",
            "3----exit\n",
            "select one:4\n",
            "please select again\n",
            "1---open file\n",
            "2---save file\n",
            "3----exit\n",
            "select one:2\n",
            "file saved\n",
            "you chose:2"
          ]
        },
        {
          "output_type": "execute_result",
          "data": {
            "text/plain": [
              ""
            ]
          },
          "metadata": {},
          "execution_count": 60
        }
      ]
    },
    {
      "cell_type": "code",
      "metadata": {
        "colab": {
          "base_uri": "https://localhost:8080/"
        },
        "id": "ewkYtcCPL4Nt",
        "outputId": "41aae308-b836-43ad-e459-d642e10307f9"
      },
      "source": [
        "%%writefile task8.c\n",
        "#include<stdio.h>\n",
        "\n",
        "int main()\n",
        "{\n",
        "    int i;\n",
        "    int sum=0;\n",
        "\n",
        "    for (i=1;i<=10;i++)\n",
        "    {\n",
        "        sum+=i;\n",
        "    }\n",
        " printf(\"the sum of nums between 1 and 10 is:%d\",sum);\n",
        "return 0;\n",
        "}"
      ],
      "execution_count": null,
      "outputs": [
        {
          "output_type": "stream",
          "name": "stdout",
          "text": [
            "Overwriting task8.c\n"
          ]
        }
      ]
    },
    {
      "cell_type": "code",
      "metadata": {
        "colab": {
          "base_uri": "https://localhost:8080/"
        },
        "id": "9iBYFW0hNUvu",
        "outputId": "d4902d3e-cc31-4a40-ff8b-e27131a02bfe"
      },
      "source": [
        "%%shell\n",
        "gcc task8.c -o out\n",
        "./out"
      ],
      "execution_count": null,
      "outputs": [
        {
          "output_type": "stream",
          "name": "stdout",
          "text": [
            "the sum of nums between 1 and 10 is:55"
          ]
        },
        {
          "output_type": "execute_result",
          "data": {
            "text/plain": [
              ""
            ]
          },
          "metadata": {},
          "execution_count": 41
        }
      ]
    },
    {
      "cell_type": "code",
      "metadata": {
        "colab": {
          "base_uri": "https://localhost:8080/"
        },
        "id": "St3zqg7NNVyP",
        "outputId": "3e80a624-d56e-4645-8253-f1cc8e43e4df"
      },
      "source": [
        "%%writefile task9.c\n",
        "#include<stdio.h>\n",
        "\n",
        "int main()\n",
        "{\n",
        "  printf(\"******\\n\");\n",
        "  for(int i=1;i<=5;i++)\n",
        "  {\n",
        "      printf(\"*    *\\n\");\n",
        "  }\n",
        "  printf(\"******\");\n",
        " \n",
        " return 0;\n",
        "}"
      ],
      "execution_count": null,
      "outputs": [
        {
          "output_type": "stream",
          "name": "stdout",
          "text": [
            "Overwriting task9.c\n"
          ]
        }
      ]
    },
    {
      "cell_type": "code",
      "metadata": {
        "colab": {
          "base_uri": "https://localhost:8080/"
        },
        "id": "ZVBtHEcGN8L_",
        "outputId": "7a1ffff3-19a8-4177-f074-e625507fc7bd"
      },
      "source": [
        "%%shell\n",
        "gcc task9.c -o out\n",
        "./out"
      ],
      "execution_count": null,
      "outputs": [
        {
          "output_type": "stream",
          "name": "stdout",
          "text": [
            "******\n",
            "*    *\n",
            "*    *\n",
            "*    *\n",
            "*    *\n",
            "*    *\n",
            "******"
          ]
        },
        {
          "output_type": "execute_result",
          "data": {
            "text/plain": [
              ""
            ]
          },
          "metadata": {},
          "execution_count": 45
        }
      ]
    },
    {
      "cell_type": "code",
      "metadata": {
        "colab": {
          "base_uri": "https://localhost:8080/"
        },
        "id": "VtHOjDEtN-VZ",
        "outputId": "40f2884b-4f86-41bb-e3a2-2195c31e0b7a"
      },
      "source": [
        "%%writefile task10.c\n",
        "#include<stdio.h>\n",
        "\n",
        "int main()\n",
        "{\n",
        "    int num;\n",
        "    int i;\n",
        "    int result=1;\n",
        "    \n",
        "    printf(\"enter your int:\");\n",
        "    scanf(\"%d\",&num);\n",
        "\n",
        "    for(i=1;i<=num;i++)\n",
        "    {\n",
        "        result=result*i;\n",
        "    }\n",
        "    printf(\"your int's ! is:%d\",result);\n",
        "\n",
        "    return 0;\n",
        "}"
      ],
      "execution_count": null,
      "outputs": [
        {
          "output_type": "stream",
          "name": "stdout",
          "text": [
            "Overwriting task10.c\n"
          ]
        }
      ]
    },
    {
      "cell_type": "code",
      "metadata": {
        "colab": {
          "base_uri": "https://localhost:8080/"
        },
        "id": "teZJwdpOOhae",
        "outputId": "867ea15a-a7a1-472f-953c-4639a4332359"
      },
      "source": [
        "%%shell\n",
        "gcc task10.c -o out\n",
        "./out"
      ],
      "execution_count": null,
      "outputs": [
        {
          "output_type": "stream",
          "name": "stdout",
          "text": [
            "enter your int:6\n",
            "your int's ! is:720"
          ]
        },
        {
          "output_type": "execute_result",
          "data": {
            "text/plain": [
              ""
            ]
          },
          "metadata": {},
          "execution_count": 54
        }
      ]
    },
    {
      "cell_type": "code",
      "metadata": {
        "colab": {
          "base_uri": "https://localhost:8080/"
        },
        "id": "vnXbSfpKOiUT",
        "outputId": "a2a2dadd-26dc-4b90-e61d-04e294f5697f"
      },
      "source": [
        "%%writefile task11.c\n",
        "#include<stdio.h>\n",
        "\n",
        "int main()\n",
        "{\n",
        "    int x;\n",
        "    int y;\n",
        "\n",
        "    for(y=0;y<10;y++)\n",
        "    {\n",
        "        for(x=0;x<10;x++)\n",
        "        {\n",
        "            printf(\"*\");\n",
        "        }\n",
        "      printf(\"\\n\");\n",
        "    }\n",
        " return 0;\n",
        "}"
      ],
      "execution_count": null,
      "outputs": [
        {
          "output_type": "stream",
          "name": "stdout",
          "text": [
            "Overwriting task11.c\n"
          ]
        }
      ]
    },
    {
      "cell_type": "code",
      "metadata": {
        "colab": {
          "base_uri": "https://localhost:8080/"
        },
        "id": "3PgVXRKsPnin",
        "outputId": "456ea708-d9e4-4706-d85e-a64a60da6c13"
      },
      "source": [
        "%%shell\n",
        "gcc task11.c -o out\n",
        "./out"
      ],
      "execution_count": null,
      "outputs": [
        {
          "output_type": "stream",
          "name": "stdout",
          "text": [
            "**********\n",
            "**********\n",
            "**********\n",
            "**********\n",
            "**********\n",
            "**********\n",
            "**********\n",
            "**********\n",
            "**********\n",
            "**********\n"
          ]
        },
        {
          "output_type": "execute_result",
          "data": {
            "text/plain": [
              ""
            ]
          },
          "metadata": {},
          "execution_count": 58
        }
      ]
    },
    {
      "cell_type": "code",
      "metadata": {
        "colab": {
          "base_uri": "https://localhost:8080/"
        },
        "id": "GyK9AQ_ZPoye",
        "outputId": "559b6a87-ebde-4b0e-a9d4-5c34a9a14d7c"
      },
      "source": [
        "%%writefile task12.c\n",
        "#include<stdio.h>\n",
        "\n",
        "int main()\n",
        "{\n",
        "    double sum;\n",
        "    double num;\n",
        "    int i=1;\n",
        "\n",
        "    for(i=1;i<11;i++)\n",
        "    {  \n",
        "        printf(\"enter your int number %d:\",i);\n",
        "        scanf(\"%lf\",&num);\n",
        "\n",
        "        if(num<0)\n",
        "        {\n",
        "            break;\n",
        "        }\n",
        "        sum+=num;\n",
        "    }\n",
        "  printf(\"your sum is:%lf\",sum);\n",
        "  return 0;\n",
        "}"
      ],
      "execution_count": null,
      "outputs": [
        {
          "output_type": "stream",
          "name": "stdout",
          "text": [
            "Overwriting task12.c\n"
          ]
        }
      ]
    },
    {
      "cell_type": "code",
      "metadata": {
        "colab": {
          "base_uri": "https://localhost:8080/"
        },
        "id": "bZ0cmM-lQjml",
        "outputId": "646bd8c0-90f4-4980-e752-17b88c4d1921"
      },
      "source": [
        "%%shell\n",
        "gcc task12.c -o out\n",
        "./out"
      ],
      "execution_count": null,
      "outputs": [
        {
          "output_type": "stream",
          "name": "stdout",
          "text": [
            "enter your int number 1:2\n",
            "enter your int number 2:2\n",
            "enter your int number 3:2\n",
            "enter your int number 4:-1\n",
            "your sum is:6.000000"
          ]
        },
        {
          "output_type": "execute_result",
          "data": {
            "text/plain": [
              ""
            ]
          },
          "metadata": {},
          "execution_count": 88
        }
      ]
    },
    {
      "cell_type": "code",
      "metadata": {
        "id": "37MQMrQMQka8"
      },
      "source": [
        ""
      ],
      "execution_count": null,
      "outputs": []
    }
  ]
}