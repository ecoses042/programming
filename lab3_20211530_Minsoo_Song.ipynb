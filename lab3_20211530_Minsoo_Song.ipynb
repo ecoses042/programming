{
  "nbformat": 4,
  "nbformat_minor": 0,
  "metadata": {
    "colab": {
      "name": "lab3_20211530_Minsoo_Song",
      "provenance": [],
      "authorship_tag": "ABX9TyNLXvjPFdBnSNwkGrdCREqI",
      "include_colab_link": true
    },
    "kernelspec": {
      "name": "python3",
      "display_name": "Python 3"
    },
    "language_info": {
      "name": "python"
    }
  },
  "cells": [
    {
      "cell_type": "markdown",
      "metadata": {
        "id": "view-in-github",
        "colab_type": "text"
      },
      "source": [
        "<a href=\"https://colab.research.google.com/github/ecoses042/programming/blob/main/lab3_20211530_Minsoo_Song.ipynb\" target=\"_parent\"><img src=\"https://colab.research.google.com/assets/colab-badge.svg\" alt=\"Open In Colab\"/></a>"
      ]
    },
    {
      "cell_type": "code",
      "metadata": {
        "colab": {
          "base_uri": "https://localhost:8080/"
        },
        "id": "Wq7JskQWvreX",
        "outputId": "596432db-bff7-415c-8616-bd17fddf8d2d"
      },
      "source": [
        "%%writefile overflow.c\n",
        "#include<stdio.h>\n",
        "\n",
        "int main()\n",
        "{\n",
        "    short s_money=32767;\n",
        "\n",
        "    s_money=s_money+1;\n",
        "    printf(\"s_money=%d\\n\",s_money);\n",
        "\n",
        "    return 0;\n",
        " \n",
        "}"
      ],
      "execution_count": 3,
      "outputs": [
        {
          "output_type": "stream",
          "name": "stdout",
          "text": [
            "Overwriting overflow.c\n"
          ]
        }
      ]
    },
    {
      "cell_type": "code",
      "metadata": {
        "colab": {
          "base_uri": "https://localhost:8080/"
        },
        "id": "JM6p6t0hwItD",
        "outputId": "3ea5e866-f2ea-4b46-dc78-fdd7261566a5"
      },
      "source": [
        "%%shell\n",
        "gcc overflow.c -o out\n",
        "./out"
      ],
      "execution_count": 4,
      "outputs": [
        {
          "output_type": "stream",
          "name": "stdout",
          "text": [
            "s_money=-32768\n"
          ]
        },
        {
          "output_type": "execute_result",
          "data": {
            "text/plain": [
              ""
            ]
          },
          "metadata": {},
          "execution_count": 4
        }
      ]
    },
    {
      "cell_type": "code",
      "metadata": {
        "colab": {
          "base_uri": "https://localhost:8080/"
        },
        "id": "K_iqW7GhwNAV",
        "outputId": "f32f0026-90de-480d-9cf0-e70f7db2e400"
      },
      "source": [
        "%%writefile hexa.c\n",
        "#include <stdio.h>\n",
        "\n",
        "int main()\n",
        "{\n",
        "    printf(\"%d %#x %#o \\n\",123,123,123);\n",
        "    return 0;\n",
        " \n",
        "}"
      ],
      "execution_count": 7,
      "outputs": [
        {
          "output_type": "stream",
          "name": "stdout",
          "text": [
            "Writing hexa.c\n"
          ]
        }
      ]
    },
    {
      "cell_type": "code",
      "metadata": {
        "colab": {
          "base_uri": "https://localhost:8080/"
        },
        "id": "98YmDdvuwWxn",
        "outputId": "b4103f61-018f-4eaa-bf66-86f2b98ff9b4"
      },
      "source": [
        "%%shell\n",
        "gcc hexa.c -o out\n",
        "./out"
      ],
      "execution_count": 8,
      "outputs": [
        {
          "output_type": "stream",
          "name": "stdout",
          "text": [
            "123 0x7b 0173 \n"
          ]
        },
        {
          "output_type": "execute_result",
          "data": {
            "text/plain": [
              ""
            ]
          },
          "metadata": {},
          "execution_count": 8
        }
      ]
    },
    {
      "cell_type": "code",
      "metadata": {
        "colab": {
          "base_uri": "https://localhost:8080/"
        },
        "id": "HSkYUq82wmPL",
        "outputId": "3b832fe5-21a8-4369-b10f-27fb0e7b499e"
      },
      "source": [
        "%%writefile radius.c\n",
        "#include<stdio.h>\n",
        "\n",
        "int main()\n",
        "{\n",
        "    double radius;\n",
        "    printf(\"Enter:\");\n",
        "    scanf(\"%lf\",&radius);\n",
        "\n",
        "    return 0;\n",
        "}"
      ],
      "execution_count": 9,
      "outputs": [
        {
          "output_type": "stream",
          "name": "stdout",
          "text": [
            "Writing radius.c\n"
          ]
        }
      ]
    },
    {
      "cell_type": "code",
      "metadata": {
        "colab": {
          "base_uri": "https://localhost:8080/"
        },
        "id": "vxeFLFeMw-Js",
        "outputId": "269dbb66-e6a5-49cd-9937-e0eed83d3f09"
      },
      "source": [
        "%%shell\n",
        "gcc radius.c -o out\n",
        "./out"
      ],
      "execution_count": 10,
      "outputs": [
        {
          "output_type": "stream",
          "name": "stdout",
          "text": [
            "Enter:1234\n"
          ]
        },
        {
          "output_type": "execute_result",
          "data": {
            "text/plain": [
              ""
            ]
          },
          "metadata": {},
          "execution_count": 10
        }
      ]
    },
    {
      "cell_type": "code",
      "metadata": {
        "colab": {
          "base_uri": "https://localhost:8080/"
        },
        "id": "RS27n-7bw_zS",
        "outputId": "c65b2b70-c0e5-4bf5-b66f-28718214095f"
      },
      "source": [
        "%%writefile 123.c\n",
        "#include<stdio.h>\n",
        "\n",
        "int main()\n",
        "{\n",
        "    float fvalue=123412341234.123412341234123412341234;\n",
        "    double dvalue=123412341234.123412341234123412341234;\n",
        "\n",
        "    printf(\"%30.25f\\n\",fvalue);\n",
        "    printf(\"%30.25f\\n\",dvalue);\n",
        "\n",
        "    return 0;\n",
        "}"
      ],
      "execution_count": 13,
      "outputs": [
        {
          "output_type": "stream",
          "name": "stdout",
          "text": [
            "Overwriting 123.c\n"
          ]
        }
      ]
    },
    {
      "cell_type": "code",
      "metadata": {
        "colab": {
          "base_uri": "https://localhost:8080/"
        },
        "id": "G4Z0cJm2xnYI",
        "outputId": "1e80d5ac-9d41-48dc-a8c6-8e76c5285aa0"
      },
      "source": [
        "%%shell\n",
        "gcc 123.c -o out\n",
        "./out"
      ],
      "execution_count": 14,
      "outputs": [
        {
          "output_type": "stream",
          "name": "stdout",
          "text": [
            "123412340736.0000000000000000000000000\n",
            "123412341234.1234130859375000000000000\n"
          ]
        },
        {
          "output_type": "execute_result",
          "data": {
            "text/plain": [
              ""
            ]
          },
          "metadata": {},
          "execution_count": 14
        }
      ]
    },
    {
      "cell_type": "code",
      "metadata": {
        "colab": {
          "base_uri": "https://localhost:8080/"
        },
        "id": "X5hHVi9oxp9j",
        "outputId": "d1349d4f-4a2d-43bd-fc25-219ef953d3e5"
      },
      "source": [
        "%%writefile flow.c\n",
        "#include <stdio.h>\n",
        "\n",
        "int main()\n",
        "{\n",
        "  float x = 1e39;\n",
        "  float y = 1.23456e-46;\n",
        " \n",
        "  printf(\"x=%e\\n\", x);\n",
        "  printf(\"y=%e\\n\", y);\n",
        " \n",
        "  return 0;\n",
        "}\n"
      ],
      "execution_count": 15,
      "outputs": [
        {
          "output_type": "stream",
          "name": "stdout",
          "text": [
            "Writing flow.c\n"
          ]
        }
      ]
    },
    {
      "cell_type": "code",
      "metadata": {
        "colab": {
          "base_uri": "https://localhost:8080/"
        },
        "id": "RGB7KK3nyCCM",
        "outputId": "0d6b0182-aa83-4956-c0f1-d431947cca57"
      },
      "source": [
        "%%shell\n",
        "gcc flow.c -o out\n",
        "./out"
      ],
      "execution_count": 16,
      "outputs": [
        {
          "output_type": "stream",
          "name": "stdout",
          "text": [
            "x=inf\n",
            "y=0.000000e+00\n"
          ]
        },
        {
          "output_type": "execute_result",
          "data": {
            "text/plain": [
              ""
            ]
          },
          "metadata": {},
          "execution_count": 16
        }
      ]
    },
    {
      "cell_type": "code",
      "metadata": {
        "colab": {
          "base_uri": "https://localhost:8080/"
        },
        "id": "dy5o4SgFyE3j",
        "outputId": "e0549f81-27a7-401c-9dd3-ea78c3fad830"
      },
      "source": [
        "%%writefile ja.c\n",
        "#include <stdio.h>\n",
        "\n",
        "int main()\n",
        "{\n",
        "  float value = 0.1;\n",
        "  printf(\"%.20f \\n\", value);\n",
        " \n",
        "  return 0;\n",
        "}"
      ],
      "execution_count": 17,
      "outputs": [
        {
          "output_type": "stream",
          "name": "stdout",
          "text": [
            "Writing ja.c\n"
          ]
        }
      ]
    },
    {
      "cell_type": "code",
      "metadata": {
        "colab": {
          "base_uri": "https://localhost:8080/"
        },
        "id": "5_C8xfuZyOyg",
        "outputId": "e53952ca-6657-4947-b4b8-058044292f85"
      },
      "source": [
        "%%shell\n",
        "gcc ja.c -o out\n",
        "./out"
      ],
      "execution_count": 18,
      "outputs": [
        {
          "output_type": "stream",
          "name": "stdout",
          "text": [
            "0.10000000149011611938 \n"
          ]
        },
        {
          "output_type": "execute_result",
          "data": {
            "text/plain": [
              ""
            ]
          },
          "metadata": {},
          "execution_count": 18
        }
      ]
    },
    {
      "cell_type": "code",
      "metadata": {
        "colab": {
          "base_uri": "https://localhost:8080/"
        },
        "id": "huBy6lvJyRZJ",
        "outputId": "61c1823c-4eb6-4800-98a3-e6830fe76cae"
      },
      "source": [
        "%%writefile alpha.c\n",
        "#include <stdio.h>\n",
        "\n",
        "int main()\n",
        "{\n",
        "    char c;\n",
        "    c='A';\n",
        "    printf(\"%d\\n\",c);\n",
        " \n",
        "    printf(\"enter:\");\n",
        "    c=getchar();\n",
        "\n",
        "    printf(\"%c,%d\\n\",c,c);\n",
        " \n",
        "    return 0;\n",
        " \n",
        "}"
      ],
      "execution_count": 19,
      "outputs": [
        {
          "output_type": "stream",
          "name": "stdout",
          "text": [
            "Writing alpha.c\n"
          ]
        }
      ]
    },
    {
      "cell_type": "code",
      "metadata": {
        "colab": {
          "base_uri": "https://localhost:8080/"
        },
        "id": "KW2xuhMPy1uZ",
        "outputId": "14ecffb7-4273-4b8e-aee2-d3ec91f4440a"
      },
      "source": [
        "%%shell\n",
        "gcc alpha.c -o out\n",
        "./out"
      ],
      "execution_count": 20,
      "outputs": [
        {
          "output_type": "stream",
          "name": "stdout",
          "text": [
            "65\n",
            "enter:aa\n",
            "a,97\n"
          ]
        },
        {
          "output_type": "execute_result",
          "data": {
            "text/plain": [
              ""
            ]
          },
          "metadata": {},
          "execution_count": 20
        }
      ]
    },
    {
      "cell_type": "code",
      "metadata": {
        "colab": {
          "base_uri": "https://localhost:8080/"
        },
        "id": "pL1ovgFAy3mG",
        "outputId": "142ccca9-4d20-42da-9c06-9d20d55b6c8e"
      },
      "source": [
        "%%writefile noice.c\n",
        "#include <stdio.h>\n",
        "\n",
        "int main()\n",
        "{\n",
        "    int id, pass;\n",
        "    printf(\"enter 4 numbers\\n\");\n",
        "\n",
        " \n",
        "    printf(\"id: ____\\b\\b\\b\\b\");\n",
        "    scanf(\"%d\", &id);\n",
        " \n",
        "    printf(\"pass: ____\\b\\b\\b\\b\");\n",
        "    scanf(\"%d\", &pass);\n",
        " \n",
        "   printf(\"\\aid: \\\"%d\\\"pw: \\\"%d\\\"\\n\", id, pass);\n",
        " \n",
        "    return 0;\n",
        "}\n"
      ],
      "execution_count": 27,
      "outputs": [
        {
          "output_type": "stream",
          "name": "stdout",
          "text": [
            "Overwriting noice.c\n"
          ]
        }
      ]
    },
    {
      "cell_type": "code",
      "metadata": {
        "colab": {
          "base_uri": "https://localhost:8080/"
        },
        "id": "iNsUI0VVzSDR",
        "outputId": "288b2e3f-b4a7-48cf-98b0-6945759ee66d"
      },
      "source": [
        "%%shell\n",
        "gcc noice.c -o out\n",
        "./out"
      ],
      "execution_count": 28,
      "outputs": [
        {
          "output_type": "stream",
          "name": "stdout",
          "text": [
            "enter 4 numbers\n",
            "id: ____\b\b\b\b4444\n",
            "pass: ____\b\b\b\b1234\n",
            "\u0007id: \"4444\"pw: \"1234\"\n"
          ]
        },
        {
          "output_type": "execute_result",
          "data": {
            "text/plain": [
              ""
            ]
          },
          "metadata": {},
          "execution_count": 28
        }
      ]
    },
    {
      "cell_type": "code",
      "metadata": {
        "id": "IPxxr_wqzWDs"
      },
      "source": [
        ""
      ],
      "execution_count": null,
      "outputs": []
    }
  ]
}