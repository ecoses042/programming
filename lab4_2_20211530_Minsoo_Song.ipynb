{
  "nbformat": 4,
  "nbformat_minor": 0,
  "metadata": {
    "colab": {
      "name": "lab4-2_20211530_Minsoo_Song",
      "provenance": [],
      "authorship_tag": "ABX9TyPB3ZCOmwN8uvkVC1W/US5I",
      "include_colab_link": true
    },
    "kernelspec": {
      "name": "python3",
      "display_name": "Python 3"
    },
    "language_info": {
      "name": "python"
    }
  },
  "cells": [
    {
      "cell_type": "markdown",
      "metadata": {
        "id": "view-in-github",
        "colab_type": "text"
      },
      "source": [
        "<a href=\"https://colab.research.google.com/github/ecoses042/programming/blob/main/lab4_2_20211530_Minsoo_Song.ipynb\" target=\"_parent\"><img src=\"https://colab.research.google.com/assets/colab-badge.svg\" alt=\"Open In Colab\"/></a>"
      ]
    },
    {
      "cell_type": "code",
      "metadata": {
        "colab": {
          "base_uri": "https://localhost:8080/"
        },
        "id": "bMVoRxe3Oqbw",
        "outputId": "ad022e21-142d-4e3b-f82a-bc1fa645353d"
      },
      "source": [
        "%%writefile lab1.c\n",
        "#include<stdio.h>\n",
        "int main()\n",
        "{\n",
        "    int day;\n",
        "    int year;\n",
        "    int week;\n",
        "    int rday;\n",
        "    \n",
        "    printf(\"Enter the total day:\");\n",
        "    scanf(\"%d\",&day);\n",
        "    year=day/365;\n",
        "    week=(day%365)/7;\n",
        "    rday=((day%365)%7);\n",
        "    printf(\"%dyear, %dweek, and %ddays\",year,week,rday);\n",
        "    return 0;\n",
        "}"
      ],
      "execution_count": null,
      "outputs": [
        {
          "output_type": "stream",
          "name": "stdout",
          "text": [
            "Writing lab1.c\n"
          ]
        }
      ]
    },
    {
      "cell_type": "code",
      "metadata": {
        "colab": {
          "base_uri": "https://localhost:8080/"
        },
        "id": "T_E1Z_zyRBQZ",
        "outputId": "02946541-1b02-4462-e601-b88ca27b275f"
      },
      "source": [
        "ls"
      ],
      "execution_count": null,
      "outputs": [
        {
          "output_type": "stream",
          "name": "stdout",
          "text": [
            "lab1.c  \u001b[0m\u001b[01;34msample_data\u001b[0m/\n"
          ]
        }
      ]
    },
    {
      "cell_type": "code",
      "metadata": {
        "colab": {
          "base_uri": "https://localhost:8080/"
        },
        "id": "miSGReXKRBeA",
        "outputId": "e503eb25-36af-44c4-f9b7-00c2661af15a"
      },
      "source": [
        "%%shell\n",
        "gcc lab1.c -o out\n",
        "./out"
      ],
      "execution_count": null,
      "outputs": [
        {
          "output_type": "stream",
          "name": "stdout",
          "text": [
            "Enter the total day:365\n",
            "1year, 0week, and 0days"
          ]
        },
        {
          "output_type": "execute_result",
          "data": {
            "text/plain": [
              ""
            ]
          },
          "metadata": {},
          "execution_count": 3
        }
      ]
    },
    {
      "cell_type": "code",
      "metadata": {
        "colab": {
          "base_uri": "https://localhost:8080/"
        },
        "id": "OxzgZReXREYz",
        "outputId": "a44e86c6-d007-46cf-ed04-236b64538ab7"
      },
      "source": [
        "%%writefile lab2.c\n",
        "#include<stdio.h>\n",
        "int main()\n",
        "{\n",
        "    int x;\n",
        "    int price;\n",
        "    int change;\n",
        "    int hun;\n",
        "    int ten;\n",
        "\n",
        "    printf(\"enter the amount you put in:\");\n",
        "    scanf(\"%d\",&x);\n",
        "    printf(\"Enter the price of the product:\");\n",
        "    scanf(\"%d\",&price);\n",
        "\n",
        "    change=x-price;\n",
        "    printf(\"your change is:%d\\n\",change);\n",
        "\n",
        "    hun=change/100;\n",
        "    ten=(change%100)/10;\n",
        "\n",
        "    printf(\"number of cents:%d\\n\",ten);\n",
        "    printf(\"number of dimes:%d\",hun);\n",
        "}"
      ],
      "execution_count": null,
      "outputs": [
        {
          "output_type": "stream",
          "name": "stdout",
          "text": [
            "Overwriting lab2.c\n"
          ]
        }
      ]
    },
    {
      "cell_type": "code",
      "metadata": {
        "colab": {
          "base_uri": "https://localhost:8080/"
        },
        "id": "7LXhoytkSRxp",
        "outputId": "0a6e41bd-0d8f-4a9b-fc2a-5e7f5c2c4583"
      },
      "source": [
        "ls"
      ],
      "execution_count": null,
      "outputs": [
        {
          "output_type": "stream",
          "name": "stdout",
          "text": [
            "lab1.c  lab2.c  \u001b[0m\u001b[01;32mout\u001b[0m*  \u001b[01;34msample_data\u001b[0m/\n"
          ]
        }
      ]
    },
    {
      "cell_type": "code",
      "metadata": {
        "colab": {
          "base_uri": "https://localhost:8080/"
        },
        "id": "ThD72Y6zSR_1",
        "outputId": "03191ed2-a4dd-4125-bffc-49800610ace1"
      },
      "source": [
        "%%shell\n",
        "gcc lab2.c -o out\n",
        "./out"
      ],
      "execution_count": null,
      "outputs": [
        {
          "output_type": "stream",
          "name": "stdout",
          "text": [
            "enter the amount you put in:10000\n",
            "Enter the price of the product:5000\n",
            "your change is:5000\n",
            "number of cents:0\n",
            "number of dimes:50"
          ]
        },
        {
          "output_type": "execute_result",
          "data": {
            "text/plain": [
              ""
            ]
          },
          "metadata": {},
          "execution_count": 12
        }
      ]
    },
    {
      "cell_type": "code",
      "metadata": {
        "colab": {
          "base_uri": "https://localhost:8080/"
        },
        "id": "LHeqS1ZUSUeM",
        "outputId": "babbacb7-986b-4ce2-81d8-da39a2ca29ac"
      },
      "source": [
        "%%writefile lab3.c\n",
        "#include<stdio.h>\n",
        "int main()\n",
        "{\n",
        "    int status;\n",
        "    status=0x04;\n",
        "    printf(\"%d\",(status&0x01));\n",
        " \n",
        "    int status2=status>>2;\n",
        "    printf(\"%d\",(status2&0x01));  //문열림을 나타내는 비트가 2일 경우\n",
        "\n",
        "    return 0;\n",
        "}"
      ],
      "execution_count": null,
      "outputs": [
        {
          "output_type": "stream",
          "name": "stdout",
          "text": [
            "Overwriting lab3.c\n"
          ]
        }
      ]
    },
    {
      "cell_type": "code",
      "metadata": {
        "colab": {
          "base_uri": "https://localhost:8080/"
        },
        "id": "ZEgsUb4qXZyR",
        "outputId": "3fb792b1-e654-4dea-ef8f-294722ecbc69"
      },
      "source": [
        "ls"
      ],
      "execution_count": null,
      "outputs": [
        {
          "output_type": "stream",
          "name": "stdout",
          "text": [
            "lab3.c  lab4.c  \u001b[0m\u001b[01;34msample_data\u001b[0m/\n"
          ]
        }
      ]
    },
    {
      "cell_type": "code",
      "metadata": {
        "colab": {
          "base_uri": "https://localhost:8080/"
        },
        "id": "Q_W_VrIeXZ7w",
        "outputId": "da1279bb-efc4-4e01-c259-74fa039b0e49"
      },
      "source": [
        "%%shell\n",
        "gcc lab3.c -o out\n",
        "./out"
      ],
      "execution_count": null,
      "outputs": [
        {
          "output_type": "stream",
          "name": "stdout",
          "text": [
            "01"
          ]
        },
        {
          "output_type": "execute_result",
          "data": {
            "text/plain": [
              ""
            ]
          },
          "metadata": {},
          "execution_count": 100
        }
      ]
    },
    {
      "cell_type": "code",
      "metadata": {
        "id": "6fYGtjiMXcl1",
        "colab": {
          "base_uri": "https://localhost:8080/"
        },
        "outputId": "0788b3fb-0cf4-40d5-9a5a-974c1dadd5f1"
      },
      "source": [
        "%%writefile lab4.c\n",
        "#include<stdio.h>\n",
        "#include<math.h>\n",
        "\n",
        "int main()\n",
        "{\n",
        "    \n",
        "     float principle, rate, time, final;\n",
        "\n",
        "    printf(\"Enter principle: \");\n",
        "    scanf(\"%f\", &principle);\n",
        "\n",
        "    printf(\"Enter time in year: \");\n",
        "    scanf(\"%f\", &time);\n",
        "\n",
        "    printf(\"Enter rate in percentage: \");\n",
        "    scanf(\"%f\", &rate);\n",
        "    final = principle* (pow((1 + rate / 100), time));\n",
        "\n",
        "    printf(\"Compound Interest = %f\", final);\n",
        "\n",
        "    return 0;\n",
        "}\n"
      ],
      "execution_count": 110,
      "outputs": [
        {
          "output_type": "stream",
          "name": "stdout",
          "text": [
            "Overwriting lab4.c\n"
          ]
        }
      ]
    },
    {
      "cell_type": "code",
      "metadata": {
        "id": "X17bwinbjLa5",
        "colab": {
          "base_uri": "https://localhost:8080/"
        },
        "outputId": "7556fea1-4f84-4f72-e08b-d01218a2c264"
      },
      "source": [
        "ls"
      ],
      "execution_count": 111,
      "outputs": [
        {
          "output_type": "stream",
          "name": "stdout",
          "text": [
            "\u001b[0m\u001b[01;32ma.out\u001b[0m*  lab4.c  \u001b[01;32moutput\u001b[0m*  \u001b[01;34msample_data\u001b[0m/\n"
          ]
        }
      ]
    },
    {
      "cell_type": "code",
      "metadata": {
        "id": "_vAswxzfjMeC",
        "colab": {
          "base_uri": "https://localhost:8080/"
        },
        "outputId": "723e796b-1b46-4fe5-a106-8c10a662ff0d"
      },
      "source": [
        "%%shell\n",
        "gcc lab4.c -o output -lm\n",
        "./output"
      ],
      "execution_count": 112,
      "outputs": [
        {
          "output_type": "stream",
          "name": "stdout",
          "text": [
            "Enter principle: 24\n",
            "Enter time in year: 382\n",
            "Enter rate in percentage: 6\n",
            "Compound Interest = 111440437248.000000"
          ]
        },
        {
          "output_type": "execute_result",
          "data": {
            "text/plain": [
              ""
            ]
          },
          "metadata": {},
          "execution_count": 112
        }
      ]
    },
    {
      "cell_type": "code",
      "metadata": {
        "id": "Peiaki_9wfp1"
      },
      "source": [
        ""
      ],
      "execution_count": null,
      "outputs": []
    }
  ]
}