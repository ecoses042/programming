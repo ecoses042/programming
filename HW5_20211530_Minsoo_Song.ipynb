{
  "nbformat": 4,
  "nbformat_minor": 0,
  "metadata": {
    "colab": {
      "name": "HW5_20211530_Minsoo_Song",
      "provenance": [],
      "collapsed_sections": [],
      "authorship_tag": "ABX9TyOxQ4oq6nJhc9hQVPM5h3sq",
      "include_colab_link": true
    },
    "kernelspec": {
      "name": "python3",
      "display_name": "Python 3"
    },
    "language_info": {
      "name": "python"
    }
  },
  "cells": [
    {
      "cell_type": "markdown",
      "metadata": {
        "id": "view-in-github",
        "colab_type": "text"
      },
      "source": [
        "<a href=\"https://colab.research.google.com/github/ecoses042/programming/blob/main/HW5_20211530_Minsoo_Song.ipynb\" target=\"_parent\"><img src=\"https://colab.research.google.com/assets/colab-badge.svg\" alt=\"Open In Colab\"/></a>"
      ]
    },
    {
      "cell_type": "code",
      "metadata": {
        "colab": {
          "base_uri": "https://localhost:8080/"
        },
        "id": "bISJ1iZED0to",
        "outputId": "9cf11c2a-e397-4c83-95cb-356ae3cd2193"
      },
      "source": [
        "%%writefile task1.c\n",
        "#include<stdio.h>\n",
        "\n",
        "int main()\n",
        "{\n",
        "    int x;\n",
        "    printf(\"enter your int:\");\n",
        "    scanf(\"%d\",&x);\n",
        "\n",
        "    if(x%2==0)\n",
        "        printf(\"your int is even\");\n",
        "    else\n",
        "        printf(\"your int is odd\");\n",
        " \n",
        "    return 0;\n",
        "}"
      ],
      "execution_count": 1,
      "outputs": [
        {
          "output_type": "stream",
          "name": "stdout",
          "text": [
            "Writing task1.c\n"
          ]
        }
      ]
    },
    {
      "cell_type": "code",
      "metadata": {
        "id": "RYG10BNeD-BO",
        "colab": {
          "base_uri": "https://localhost:8080/"
        },
        "outputId": "9a385935-dced-4153-aa17-7f8406e8d605"
      },
      "source": [
        "%%shell\n",
        "gcc task1.c -o output\n",
        "./output"
      ],
      "execution_count": 2,
      "outputs": [
        {
          "output_type": "stream",
          "name": "stdout",
          "text": [
            "enter your int:144\n",
            "your int is even"
          ]
        },
        {
          "output_type": "execute_result",
          "data": {
            "text/plain": [
              ""
            ]
          },
          "metadata": {},
          "execution_count": 2
        }
      ]
    },
    {
      "cell_type": "code",
      "metadata": {
        "colab": {
          "base_uri": "https://localhost:8080/"
        },
        "id": "z7L1z4-TbXvM",
        "outputId": "09b758e5-94af-46ff-d390-21f171401493"
      },
      "source": [
        "%%writefile task2.c\n",
        "#include<stdio.h>\n",
        "\n",
        "int main()\n",
        "{\n",
        "    int x,y,sum,sub;\n",
        "    printf(\"enter your two ints:\");\n",
        "    scanf(\"%d%d\",&x,&y);\n",
        "    sum=x+y;\n",
        "    if (x<y)\n",
        "      sub=y-x;\n",
        "    else\n",
        "      sub=x-y;\n",
        "\n",
        "    printf(\"your summed value is:%d\\n\",sum);\n",
        "    printf(\"your subtracted value is:%d\",sub);\n",
        "\n",
        "    return 0;\n",
        "\n",
        "}"
      ],
      "execution_count": 6,
      "outputs": [
        {
          "output_type": "stream",
          "name": "stdout",
          "text": [
            "Overwriting task2.c\n"
          ]
        }
      ]
    },
    {
      "cell_type": "code",
      "metadata": {
        "colab": {
          "base_uri": "https://localhost:8080/"
        },
        "id": "b4mSs3MRb8DG",
        "outputId": "96d95235-5def-4091-bfcb-aff50995f6b5"
      },
      "source": [
        "%%shell\n",
        "gcc task2.c -o output\n",
        "./output"
      ],
      "execution_count": 7,
      "outputs": [
        {
          "output_type": "stream",
          "name": "stdout",
          "text": [
            "enter your two ints:41 5\n",
            "your summed value is:46\n",
            "your subtracted value is:36"
          ]
        },
        {
          "output_type": "execute_result",
          "data": {
            "text/plain": [
              ""
            ]
          },
          "metadata": {},
          "execution_count": 7
        }
      ]
    },
    {
      "cell_type": "code",
      "metadata": {
        "colab": {
          "base_uri": "https://localhost:8080/"
        },
        "id": "L_vVQtPib-TI",
        "outputId": "89d59dde-1b7b-4082-8faf-efb40248d8cf"
      },
      "source": [
        "%%writefile task3.c\n",
        "#include<stdio.h>\n",
        "\n",
        "int main()\n",
        "{\n",
        "    int day;\n",
        "    printf(\"enter your day Mon(0), Sun(6):\");\n",
        "    scanf(\"%d\",&day);\n",
        "    if (day<0 ||day>6)\n",
        "      printf(\"not a right number. try again.\");\n",
        "    else if(day<5)\n",
        "      printf(\"your day is weekday\");\n",
        "    else\n",
        "      printf(\"your day is weekend\");\n",
        "  \n",
        "    return 0;\n",
        "    \n",
        "}"
      ],
      "execution_count": 10,
      "outputs": [
        {
          "output_type": "stream",
          "name": "stdout",
          "text": [
            "Overwriting task3.c\n"
          ]
        }
      ]
    },
    {
      "cell_type": "code",
      "metadata": {
        "colab": {
          "base_uri": "https://localhost:8080/"
        },
        "id": "2CILd9x1c2Cq",
        "outputId": "816df3a9-95ad-4703-b295-5af6312c3a79"
      },
      "source": [
        "%%shell\n",
        "gcc task3.c -o output\n",
        "./output"
      ],
      "execution_count": 11,
      "outputs": [
        {
          "output_type": "stream",
          "name": "stdout",
          "text": [
            "enter your day Mon(0), Sun(6):5\n",
            "your day is weekend"
          ]
        },
        {
          "output_type": "execute_result",
          "data": {
            "text/plain": [
              ""
            ]
          },
          "metadata": {},
          "execution_count": 11
        }
      ]
    },
    {
      "cell_type": "code",
      "metadata": {
        "colab": {
          "base_uri": "https://localhost:8080/"
        },
        "id": "URsuMbuyc3Gh",
        "outputId": "23f7d7e2-c75e-43b9-8310-23974517dfa4"
      },
      "source": [
        "%%writefile task4.c\n",
        "#include<stdio.h>\n",
        "//https://stackoverflow.com/questions/2279379/how-to-convert-integer-to-char-in-c/2279401 참조\n",
        "int main()\n",
        "{\n",
        "    char x;\n",
        "    int y;\n",
        "    printf(\"enter your character:\");\n",
        "    scanf(\"%c\",&x);\n",
        "    y=x;\n",
        "    if (y>=30 && y<=39)\n",
        "    {\n",
        "        printf(\"your char is a number\");\n",
        "    }\n",
        "    else if(y>=41 && y<=90 || y>=97 && y<=122)\n",
        "    {\n",
        "        printf(\"your char is alphabet\");\n",
        "    }\n",
        "    else\n",
        "    {\n",
        "        printf(\"your char is special char\");\n",
        "    }\n",
        " \n",
        "    return 0;\n",
        "}"
      ],
      "execution_count": 21,
      "outputs": [
        {
          "output_type": "stream",
          "name": "stdout",
          "text": [
            "Overwriting task4.c\n"
          ]
        }
      ]
    },
    {
      "cell_type": "code",
      "metadata": {
        "colab": {
          "base_uri": "https://localhost:8080/"
        },
        "id": "0D6MQukVeO1L",
        "outputId": "dafae095-a04d-493b-cd97-5ce0a49749a9"
      },
      "source": [
        "%%shell\n",
        "gcc task4.c -o output\n",
        "./output"
      ],
      "execution_count": 22,
      "outputs": [
        {
          "output_type": "stream",
          "name": "stdout",
          "text": [
            "enter your character:a\n",
            "your char is alphabet"
          ]
        },
        {
          "output_type": "execute_result",
          "data": {
            "text/plain": [
              ""
            ]
          },
          "metadata": {},
          "execution_count": 22
        }
      ]
    },
    {
      "cell_type": "code",
      "metadata": {
        "colab": {
          "base_uri": "https://localhost:8080/"
        },
        "id": "QTDh-AXHePtV",
        "outputId": "77388515-0112-4c2a-d158-332f2da2f78c"
      },
      "source": [
        "%%writefile task5.c\n",
        "#include<stdio.h>\n",
        "\n",
        "int main()\n",
        "{\n",
        "    char x;\n",
        "    int y;\n",
        "    \n",
        "    printf(\"enter a alphabet:\");\n",
        "    scanf(\"%c\",&x);\n",
        "\n",
        "    y=x;\n",
        "    if(y>=41 && y<=90 )\n",
        "    {\n",
        "        printf(\"you entered uper case alphabet\");\n",
        "    }\n",
        "    else if( y>=97 && y<=122)\n",
        "    {\n",
        "        printf(\"you entered lower case alphabet\");\n",
        "    }\n",
        "    \n",
        "    return 0;\n",
        "}"
      ],
      "execution_count": 23,
      "outputs": [
        {
          "output_type": "stream",
          "name": "stdout",
          "text": [
            "Writing task5.c\n"
          ]
        }
      ]
    },
    {
      "cell_type": "code",
      "metadata": {
        "colab": {
          "base_uri": "https://localhost:8080/"
        },
        "id": "qftKWvbAhcXZ",
        "outputId": "7e0efbc1-1a6c-4e9a-bec7-464dffc266d4"
      },
      "source": [
        "%%shell\n",
        "gcc task5.c -o output\n",
        "./output"
      ],
      "execution_count": 24,
      "outputs": [
        {
          "output_type": "stream",
          "name": "stdout",
          "text": [
            "enter a alphabet:A\n",
            "you entered uper case alphabet"
          ]
        },
        {
          "output_type": "execute_result",
          "data": {
            "text/plain": [
              ""
            ]
          },
          "metadata": {},
          "execution_count": 24
        }
      ]
    },
    {
      "cell_type": "code",
      "metadata": {
        "colab": {
          "base_uri": "https://localhost:8080/"
        },
        "id": "Mm3U-ztPheih",
        "outputId": "6c9a1571-eada-4f34-e4ad-6fa807a05925"
      },
      "source": [
        "%%writefile task6.c\n",
        "#include<stdio.h>\n",
        "\n",
        "int main()\n",
        "{\n",
        "    char x;\n",
        "    printf(\"color of the street light(r,g,y):\");\n",
        "    scanf(\"%c\",&x);\n",
        "\n",
        "    if(x=='r'||x=='R')\n",
        "    {\n",
        "        printf(\"stop!\");\n",
        "    }\n",
        "    else if(x=='g'||x=='G')\n",
        "    {\n",
        "        printf(\"GOGOGOGOGOGOGOOGGOO\");\n",
        "    }\n",
        "    else if(x=='y'||x=='Y')\n",
        "    {\n",
        "        printf(\"WAITWAITWAITWAIT\");\n",
        "    }\n",
        "    else\n",
        "    {\n",
        "        printf(\"rerun it\");\n",
        "    }\n",
        "\n",
        "    return 0;\n",
        "}"
      ],
      "execution_count": 25,
      "outputs": [
        {
          "output_type": "stream",
          "name": "stdout",
          "text": [
            "Writing task6.c\n"
          ]
        }
      ]
    },
    {
      "cell_type": "code",
      "metadata": {
        "colab": {
          "base_uri": "https://localhost:8080/"
        },
        "id": "vJE9TsqviRmy",
        "outputId": "635f8fa9-b53e-4d45-9e5c-1c5d8628c734"
      },
      "source": [
        "%%shell\n",
        "gcc task6.c -o output\n",
        "./output"
      ],
      "execution_count": 26,
      "outputs": [
        {
          "output_type": "stream",
          "name": "stdout",
          "text": [
            "color of the street light(r,g,y):r\n",
            "stop!"
          ]
        },
        {
          "output_type": "execute_result",
          "data": {
            "text/plain": [
              ""
            ]
          },
          "metadata": {},
          "execution_count": 26
        }
      ]
    },
    {
      "cell_type": "code",
      "metadata": {
        "colab": {
          "base_uri": "https://localhost:8080/"
        },
        "id": "2GTNgtoUiT1K",
        "outputId": "ddc54afc-6954-435c-eafc-91e0704bec35"
      },
      "source": [
        "%%writefile task7.c\n",
        "#include<stdio.h>\n",
        "\n",
        "int main()\n",
        "{\n",
        "    int a,b,c;\n",
        "\n",
        "    printf(\"enter the length of three sides of your triangle:\");\n",
        "    scanf(\"%d%d%d\",&a,&b,&c);\n",
        "\n",
        "    if(a==b && b==c)\n",
        "    {\n",
        "        printf(\"Equilateral triangle\");\n",
        "    }\n",
        "    else if(a==b ||a==c || b==c)\n",
        "    {\n",
        "        printf(\"Isosceles triangle\");\n",
        "    }\n",
        "    else \n",
        "    {\n",
        "        printf(\"whatever I don't care\");\n",
        "    }\n",
        "\n",
        "    return 0;\n",
        "}"
      ],
      "execution_count": 29,
      "outputs": [
        {
          "output_type": "stream",
          "name": "stdout",
          "text": [
            "Overwriting task7.c\n"
          ]
        }
      ]
    },
    {
      "cell_type": "code",
      "metadata": {
        "colab": {
          "base_uri": "https://localhost:8080/"
        },
        "id": "F_YdAhpZjCr-",
        "outputId": "668513a8-0999-4041-b732-13c805b7e723"
      },
      "source": [
        "%%shell\n",
        "gcc task7.c -o output\n",
        "./output"
      ],
      "execution_count": 30,
      "outputs": [
        {
          "output_type": "stream",
          "name": "stdout",
          "text": [
            "enter the length of three sides of your triangle:14 14 5\n",
            "Isosceles triangle"
          ]
        },
        {
          "output_type": "execute_result",
          "data": {
            "text/plain": [
              ""
            ]
          },
          "metadata": {},
          "execution_count": 30
        }
      ]
    },
    {
      "cell_type": "code",
      "metadata": {
        "colab": {
          "base_uri": "https://localhost:8080/"
        },
        "id": "swXXBnvajEug",
        "outputId": "2b1be70f-d36a-46b1-82e8-f91d88f957b2"
      },
      "source": [
        "%%writefile task8.c\n",
        "#include<stdio.h>\n",
        "\n",
        "int main()\n",
        "{\n",
        "    int income;\n",
        "    double tax,tax1,tax2,tax3,tax4;\n",
        "    printf(\"enter your income(만원):\");\n",
        "    scanf(\"%d\",&income);\n",
        "    if(income-1000<=0)\n",
        "    {\n",
        "      tax=income*0.08;  \n",
        "    }\n",
        "    else if(income-1000<=3000)\n",
        "    {\n",
        "        tax=1000*0.08;\n",
        "        tax1=(income-1000)*0.17;\n",
        "        tax=tax+tax1;\n",
        "    }\n",
        "    else if(income-4000<=4000)\n",
        "    {\n",
        "        tax=1000*0.08;\n",
        "        tax1=3000*0.17;\n",
        "        tax2=(income-4000)*0.26;\n",
        "        tax=tax+tax1+tax2;\n",
        "    }\n",
        "    else if(income-8000>0)\n",
        "    {\n",
        "        tax=1000*0.08;\n",
        "        tax1=3000*0.17;\n",
        "        tax2=4000*0.26;\n",
        "        tax3=(income-8000)*0.35;\n",
        "        tax=tax1+tax2+tax3;\n",
        "    }\n",
        "    printf(\"your tax is:%lf\",tax);\n",
        "\n",
        "    return 0;\n",
        "\n",
        "}"
      ],
      "execution_count": 33,
      "outputs": [
        {
          "output_type": "stream",
          "name": "stdout",
          "text": [
            "Overwriting task8.c\n"
          ]
        }
      ]
    },
    {
      "cell_type": "code",
      "metadata": {
        "colab": {
          "base_uri": "https://localhost:8080/"
        },
        "id": "pH6LDBdJqC1N",
        "outputId": "42759fc3-d94f-495d-f6a4-2b3e9c99d0a2"
      },
      "source": [
        "%%shell\n",
        "gcc task8.c -o output\n",
        "./output"
      ],
      "execution_count": 34,
      "outputs": [
        {
          "output_type": "stream",
          "name": "stdout",
          "text": [
            "enter your income(만원):3500\n",
            "your tax is:505.000000"
          ]
        },
        {
          "output_type": "execute_result",
          "data": {
            "text/plain": [
              ""
            ]
          },
          "metadata": {},
          "execution_count": 34
        }
      ]
    },
    {
      "cell_type": "code",
      "metadata": {
        "colab": {
          "base_uri": "https://localhost:8080/"
        },
        "id": "a7zDX4MHqFE6",
        "outputId": "974c24f8-04db-49b0-a28e-02707f73e42c"
      },
      "source": [
        "%%writefile task9.c\n",
        "#include<stdio.h>\n",
        "\n",
        "int main()\n",
        "{\n",
        "    int x,y, answer;\n",
        "    char o;\n",
        "    printf(\"enter your function:\");\n",
        "    scanf(\"%d%c%d\",&x,&o,&y);\n",
        "    switch(o)\n",
        "    {\n",
        "        case '+':\n",
        "        answer=x+y;\n",
        "        printf(\"%d\",answer);   \n",
        "        break;\n",
        "        case '-':\n",
        "        answer=x-y;\n",
        "        printf(\"%d\",answer);   \n",
        "        break;\n",
        "        case '/':\n",
        "        answer=x/y;\n",
        "        printf(\"%d\",answer);   \n",
        "        break;\n",
        "        case '%':\n",
        "        answer=x%y;\n",
        "        printf(\"%d\",answer);   \n",
        "        break;\n",
        "        default:\n",
        "        printf(\"try again\");\n",
        "        break;\n",
        "    }\n",
        "\n",
        "   \n",
        "\n",
        "    return 0;\n",
        "}"
      ],
      "execution_count": 42,
      "outputs": [
        {
          "output_type": "stream",
          "name": "stdout",
          "text": [
            "Overwriting task9.c\n"
          ]
        }
      ]
    },
    {
      "cell_type": "code",
      "metadata": {
        "colab": {
          "base_uri": "https://localhost:8080/"
        },
        "id": "i2rSqYLMrCkw",
        "outputId": "31ad2ed1-2bb4-4bab-88c6-a481c6d8b8c3"
      },
      "source": [
        "%%shell\n",
        "gcc task9.c -o output\n",
        "./output"
      ],
      "execution_count": 43,
      "outputs": [
        {
          "output_type": "stream",
          "name": "stdout",
          "text": [
            "enter your function:4+4\n",
            "8"
          ]
        },
        {
          "output_type": "execute_result",
          "data": {
            "text/plain": [
              ""
            ]
          },
          "metadata": {},
          "execution_count": 43
        }
      ]
    },
    {
      "cell_type": "code",
      "metadata": {
        "colab": {
          "base_uri": "https://localhost:8080/"
        },
        "id": "gxYlyGy5rDgK",
        "outputId": "f0b8914f-ffb0-4bf9-bde0-61f1b49bc696"
      },
      "source": [
        "%%writefile task10.c\n",
        "#include<stdio.h>\n",
        "\n",
        "int main()\n",
        "{\n",
        "    char grade;\n",
        "\n",
        "    printf(\"enter your grade in upper case only:\");\n",
        "    scanf(\"%c\",&grade);\n",
        "\n",
        "    switch(grade)\n",
        "    {\n",
        "        case 'A':\n",
        "        printf(\"great!\");\n",
        "        break;\n",
        "        case 'B':\n",
        "        printf(\"good!\");\n",
        "        break;\n",
        "        case 'C':\n",
        "        printf(\"normal!\");\n",
        "        break;\n",
        "        case 'D':\n",
        "        printf(\"need more work!\");\n",
        "        break;\n",
        "        case 'F':\n",
        "        printf(\"disapointed...\");\n",
        "        break;\n",
        "        default:\n",
        "        printf(\"rerun it\");\n",
        "        break;\n",
        "\n",
        "\n",
        "    }\n",
        "\n",
        "    return 0;\n",
        "\n",
        "}"
      ],
      "execution_count": 44,
      "outputs": [
        {
          "output_type": "stream",
          "name": "stdout",
          "text": [
            "Writing task10.c\n"
          ]
        }
      ]
    },
    {
      "cell_type": "code",
      "metadata": {
        "colab": {
          "base_uri": "https://localhost:8080/"
        },
        "id": "5ciRpAvyssO5",
        "outputId": "0931e332-b7e7-4b1d-eb58-6d9483d526d3"
      },
      "source": [
        "%%shell\n",
        "gcc task10.c -o output\n",
        "./output"
      ],
      "execution_count": 45,
      "outputs": [
        {
          "output_type": "stream",
          "name": "stdout",
          "text": [
            "enter your grade in upper case only:A\n",
            "great!"
          ]
        },
        {
          "output_type": "execute_result",
          "data": {
            "text/plain": [
              ""
            ]
          },
          "metadata": {},
          "execution_count": 45
        }
      ]
    },
    {
      "cell_type": "code",
      "metadata": {
        "id": "tZzypSdxsugJ"
      },
      "source": [
        ""
      ],
      "execution_count": null,
      "outputs": []
    }
  ]
}