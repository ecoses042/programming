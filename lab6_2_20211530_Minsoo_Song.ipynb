{
  "nbformat": 4,
  "nbformat_minor": 0,
  "metadata": {
    "colab": {
      "name": "lab6-2_20211530_Minsoo_Song",
      "provenance": [],
      "collapsed_sections": [],
      "authorship_tag": "ABX9TyOisFp0aE71B/DO5wOUa6ER",
      "include_colab_link": true
    },
    "kernelspec": {
      "name": "python3",
      "display_name": "Python 3"
    },
    "language_info": {
      "name": "python"
    }
  },
  "cells": [
    {
      "cell_type": "markdown",
      "metadata": {
        "id": "view-in-github",
        "colab_type": "text"
      },
      "source": [
        "<a href=\"https://colab.research.google.com/github/ecoses042/programming/blob/main/lab6_2_20211530_Minsoo_Song.ipynb\" target=\"_parent\"><img src=\"https://colab.research.google.com/assets/colab-badge.svg\" alt=\"Open In Colab\"/></a>"
      ]
    },
    {
      "cell_type": "code",
      "metadata": {
        "colab": {
          "base_uri": "https://localhost:8080/"
        },
        "id": "9-TT4yDMWPgz",
        "outputId": "30a10f56-8a2c-4748-f725-b3c5455d30ab"
      },
      "source": [
        "%%writefile task1.c\n",
        "#include<stdio.h>\n",
        "\n",
        "int main()\n",
        "{\n",
        "    double paper=0.001;\n",
        "    double mountain=8800;\n",
        "    int i=0;\n",
        "    while(paper<mountain)\n",
        "    {\n",
        "        paper=paper*2;\n",
        "        i++;\n",
        "    }\n",
        " printf(\"you have to fold paper %d times to reach %0.0lf meter.\",i,mountain);\n",
        "  return 0;\n",
        "}"
      ],
      "execution_count": null,
      "outputs": [
        {
          "output_type": "stream",
          "name": "stdout",
          "text": [
            "Overwriting task1.c\n"
          ]
        }
      ]
    },
    {
      "cell_type": "code",
      "metadata": {
        "colab": {
          "base_uri": "https://localhost:8080/"
        },
        "id": "esEoAavzXHly",
        "outputId": "cdfdc02e-36c2-4a41-dc73-c0baba4e484e"
      },
      "source": [
        "%%shell\n",
        "gcc task1.c -o out\n",
        "./out"
      ],
      "execution_count": null,
      "outputs": [
        {
          "output_type": "stream",
          "name": "stdout",
          "text": [
            "you have to fold paper 24 times to reach 8800 meter."
          ]
        },
        {
          "output_type": "execute_result",
          "data": {
            "text/plain": [
              ""
            ]
          },
          "metadata": {},
          "execution_count": 8
        }
      ]
    },
    {
      "cell_type": "code",
      "metadata": {
        "colab": {
          "base_uri": "https://localhost:8080/"
        },
        "id": "xuLecDdJXKe4",
        "outputId": "0ab7cd8b-f4cc-413d-d9e0-ad182a64c32d"
      },
      "source": [
        "%%writefile task2.c\n",
        "#include<stdio.h>\n",
        "#include<stdlib.h>\n",
        "#include<unistd.h>\n",
        "\n",
        "int main()\n",
        "{\n",
        "    int hr=0;\n",
        "    int min=0;\n",
        "    int sec=0;\n",
        " \n",
        "    while(1)\n",
        "    {\n",
        "      printf(\"%02d:%02d:%02d\\n\",hr,min,sec);\n",
        "      sec++;\n",
        "      if(sec==60)\n",
        "      {\n",
        "          min++;\n",
        "          sec=0;\n",
        "          break;\n",
        "      }\n",
        "      if(min==60)\n",
        "      {\n",
        "          hr++;\n",
        "          min=0;\n",
        "      }\n",
        "      if(hr==24)\n",
        "      {\n",
        "          hr=min=sec=0;\n",
        "      }\n",
        "      sleep(1);\n",
        "    }\n",
        "  return 0;\n",
        "\n",
        "}"
      ],
      "execution_count": 6,
      "outputs": [
        {
          "output_type": "stream",
          "name": "stdout",
          "text": [
            "Overwriting task2.c\n"
          ]
        }
      ]
    },
    {
      "cell_type": "code",
      "metadata": {
        "colab": {
          "base_uri": "https://localhost:8080/"
        },
        "id": "6p_992xwYu-y",
        "outputId": "c166d8a2-ef7c-4db7-e7c2-9ed35a34c1fa"
      },
      "source": [
        "%%shell\n",
        "gcc task2.c -o out\n",
        "./out"
      ],
      "execution_count": 7,
      "outputs": [
        {
          "output_type": "stream",
          "name": "stdout",
          "text": [
            "00:00:00\n",
            "00:00:01\n",
            "00:00:02\n",
            "00:00:03\n",
            "00:00:04\n",
            "00:00:05\n",
            "00:00:06\n",
            "00:00:07\n",
            "00:00:08\n",
            "00:00:09\n",
            "00:00:10\n",
            "00:00:11\n",
            "00:00:12\n",
            "00:00:13\n",
            "00:00:14\n",
            "00:00:15\n",
            "00:00:16\n",
            "00:00:17\n",
            "00:00:18\n",
            "00:00:19\n",
            "00:00:20\n",
            "00:00:21\n",
            "00:00:22\n",
            "00:00:23\n",
            "00:00:24\n",
            "00:00:25\n",
            "00:00:26\n",
            "00:00:27\n",
            "00:00:28\n",
            "00:00:29\n",
            "00:00:30\n",
            "00:00:31\n",
            "00:00:32\n",
            "00:00:33\n",
            "00:00:34\n",
            "00:00:35\n",
            "00:00:36\n",
            "00:00:37\n",
            "00:00:38\n",
            "00:00:39\n",
            "00:00:40\n",
            "00:00:41\n",
            "00:00:42\n",
            "00:00:43\n",
            "00:00:44\n",
            "00:00:45\n",
            "00:00:46\n",
            "00:00:47\n",
            "00:00:48\n",
            "00:00:49\n",
            "00:00:50\n",
            "00:00:51\n",
            "00:00:52\n",
            "00:00:53\n",
            "00:00:54\n",
            "00:00:55\n",
            "00:00:56\n",
            "00:00:57\n",
            "00:00:58\n",
            "00:00:59\n"
          ]
        },
        {
          "output_type": "execute_result",
          "data": {
            "text/plain": [
              ""
            ]
          },
          "metadata": {},
          "execution_count": 7
        }
      ]
    },
    {
      "cell_type": "code",
      "metadata": {
        "colab": {
          "base_uri": "https://localhost:8080/"
        },
        "id": "PZUZqaBEYv4f",
        "outputId": "63f907c1-9b65-44f3-a1f5-3eff43534e5a"
      },
      "source": [
        "%%writefile task3.c\n",
        "#include<stdio.h>\n",
        "#include<stdlib.h>\n",
        "\n",
        "int main()\n",
        "{\n",
        "    int answer;\n",
        "    int tries;\n",
        "    int guess;\n",
        "    tries=0;\n",
        "    answer=rand()%100;\n",
        "    do\n",
        "    {\n",
        "      printf(\"enter your guess:\");\n",
        "      scanf(\"%d\",&guess);\n",
        "      tries++;\n",
        "     \n",
        "      if(answer<guess)\n",
        "      {\n",
        "          printf(\"lower\\n\");\n",
        "      }\n",
        "     \n",
        "      if(answer>guess)\n",
        "      {\n",
        "          printf(\"higher\\n\");\n",
        "      }\n",
        "\n",
        "    }while(guess!=answer);\n",
        "  printf(\"congrats! you tried %d times!!\",tries);\n",
        "  \n",
        "  return 0;\n",
        "} "
      ],
      "execution_count": null,
      "outputs": [
        {
          "output_type": "stream",
          "name": "stdout",
          "text": [
            "Overwriting task3.c\n"
          ]
        }
      ]
    },
    {
      "cell_type": "code",
      "metadata": {
        "colab": {
          "base_uri": "https://localhost:8080/"
        },
        "id": "iEirYkthnfCZ",
        "outputId": "37207332-a768-49fb-f550-fc5e31f1072a"
      },
      "source": [
        "%%shell\n",
        "gcc task3.c -o out\n",
        "./out"
      ],
      "execution_count": null,
      "outputs": [
        {
          "output_type": "stream",
          "name": "stdout",
          "text": [
            "enter your guess:55\n",
            "higher\n",
            "enter your guess:70\n",
            "higher\n",
            "enter your guess:90\n",
            "lower\n",
            "enter your guess:80\n",
            "higher\n",
            "enter your guess:85\n",
            "lower\n",
            "enter your guess:84\n",
            "lower\n",
            "enter your guess:83\n",
            "congrats! you tried 7 times!!"
          ]
        },
        {
          "output_type": "execute_result",
          "data": {
            "text/plain": [
              ""
            ]
          },
          "metadata": {},
          "execution_count": 29
        }
      ]
    },
    {
      "cell_type": "code",
      "metadata": {
        "colab": {
          "base_uri": "https://localhost:8080/"
        },
        "id": "S1_Wlsoonhoy",
        "outputId": "4f338085-a6b7-4498-9436-1567c3a83a40"
      },
      "source": [
        "%%writefile task4.c\n",
        "#include<stdio.h>\n",
        "\n",
        "int main()\n",
        "{\n",
        "    long long put;\n",
        "    int i=0;\n",
        "\n",
        "    printf(\"enter your int:\");\n",
        "    scanf(\"%lld\",&put);\n",
        "    while(put!=0)\n",
        "    { \n",
        "        i++;\n",
        "        put/=10;\n",
        "\n",
        "    }\n",
        " \n",
        "  printf(\"total digits of your number is:%d\",i);\n",
        " \n",
        "  return 0;\n",
        "}"
      ],
      "execution_count": null,
      "outputs": [
        {
          "output_type": "stream",
          "name": "stdout",
          "text": [
            "Overwriting task4.c\n"
          ]
        }
      ]
    },
    {
      "cell_type": "code",
      "metadata": {
        "colab": {
          "base_uri": "https://localhost:8080/"
        },
        "id": "xgIpocx5oqYQ",
        "outputId": "e14b524d-9bca-431e-f5c7-4e14a9a2c2bd"
      },
      "source": [
        "%%shell\n",
        "gcc task4.c -o out\n",
        "./out"
      ],
      "execution_count": null,
      "outputs": [
        {
          "output_type": "stream",
          "name": "stdout",
          "text": [
            "enter your int:123456789\n",
            "total digits of your number is:9"
          ]
        },
        {
          "output_type": "execute_result",
          "data": {
            "text/plain": [
              ""
            ]
          },
          "metadata": {},
          "execution_count": 39
        }
      ]
    },
    {
      "cell_type": "code",
      "metadata": {
        "colab": {
          "base_uri": "https://localhost:8080/"
        },
        "id": "3fVIUXVQor5q",
        "outputId": "be20f95d-11ca-45b5-c9db-b6d547c4abb2"
      },
      "source": [
        "%%writefile task5.c\n",
        "#include<stdio.h>\n",
        "\n",
        "int main()\n",
        "{\n",
        "    double total=1;\n",
        "    int day;\n",
        "    double other=100000000;\n",
        "    for(day=1;day<31;day++)\n",
        "    {\n",
        "        total=total*2;\n",
        "        printf(\"day %d:%0.0lf\\n\",day,total);\n",
        "    }\n",
        "  printf(\"you made %0.0lf more!\",total-other);\n",
        "  return 0;\n",
        "}"
      ],
      "execution_count": null,
      "outputs": [
        {
          "output_type": "stream",
          "name": "stdout",
          "text": [
            "Overwriting task5.c\n"
          ]
        }
      ]
    },
    {
      "cell_type": "code",
      "metadata": {
        "colab": {
          "base_uri": "https://localhost:8080/"
        },
        "id": "aB_m-i1Hpsz-",
        "outputId": "fe46976b-19d3-44f9-e99b-fe52ddd02696"
      },
      "source": [
        "%%shell\n",
        "gcc task5.c -o out\n",
        "./out"
      ],
      "execution_count": null,
      "outputs": [
        {
          "output_type": "stream",
          "name": "stdout",
          "text": [
            "day 1:2\n",
            "day 2:4\n",
            "day 3:8\n",
            "day 4:16\n",
            "day 5:32\n",
            "day 6:64\n",
            "day 7:128\n",
            "day 8:256\n",
            "day 9:512\n",
            "day 10:1024\n",
            "day 11:2048\n",
            "day 12:4096\n",
            "day 13:8192\n",
            "day 14:16384\n",
            "day 15:32768\n",
            "day 16:65536\n",
            "day 17:131072\n",
            "day 18:262144\n",
            "day 19:524288\n",
            "day 20:1048576\n",
            "day 21:2097152\n",
            "day 22:4194304\n",
            "day 23:8388608\n",
            "day 24:16777216\n",
            "day 25:33554432\n",
            "day 26:67108864\n",
            "day 27:134217728\n",
            "day 28:268435456\n",
            "day 29:536870912\n",
            "day 30:1073741824\n",
            "you made 973741824 more!"
          ]
        },
        {
          "output_type": "execute_result",
          "data": {
            "text/plain": [
              ""
            ]
          },
          "metadata": {},
          "execution_count": 49
        }
      ]
    },
    {
      "cell_type": "code",
      "metadata": {
        "colab": {
          "base_uri": "https://localhost:8080/"
        },
        "id": "982Q7X-IpvFT",
        "outputId": "73533c59-3ba9-4af4-faca-f1c6dce26a4a"
      },
      "source": [
        "%%writefile task6.c\n",
        "#include<stdio.h>\n",
        "\n",
        "int main()\n",
        "{\n",
        "    int x;\n",
        "    printf(\"enter your int:\");\n",
        "    scanf(\"%d\",&x);\n",
        "    for(int i=1;i<=x;i++)\n",
        "    {\n",
        "        if(x%i==0)\n",
        "        {\n",
        "            printf(\"%d \",i);\n",
        "        }\n",
        "    }\n",
        "}"
      ],
      "execution_count": null,
      "outputs": [
        {
          "output_type": "stream",
          "name": "stdout",
          "text": [
            "Overwriting task6.c\n"
          ]
        }
      ]
    },
    {
      "cell_type": "code",
      "metadata": {
        "colab": {
          "base_uri": "https://localhost:8080/"
        },
        "id": "irEegTfzql4o",
        "outputId": "5201144b-5717-4746-cbad-f84cf2065327"
      },
      "source": [
        "%%shell\n",
        "gcc task6.c -o out\n",
        "./out"
      ],
      "execution_count": null,
      "outputs": [
        {
          "output_type": "stream",
          "name": "stdout",
          "text": [
            "enter your int:1234\n",
            "1 2 617 1234 "
          ]
        },
        {
          "output_type": "execute_result",
          "data": {
            "text/plain": [
              ""
            ]
          },
          "metadata": {},
          "execution_count": 57
        }
      ]
    },
    {
      "cell_type": "code",
      "metadata": {
        "colab": {
          "base_uri": "https://localhost:8080/"
        },
        "id": "U-weTVtdqoge",
        "outputId": "a1edf596-f8fb-4a73-91f2-54ca21a8b35c"
      },
      "source": [
        "%%writefile task7.c\n",
        "#include<stdio.h>\n",
        "\n",
        "int main()\n",
        "{\n",
        "    int n;\n",
        "    int i;\n",
        "    double sum=0;\n",
        "\n",
        "    printf(\"enter your n:\");\n",
        "    scanf(\"%d\",&n);\n",
        " \n",
        "    for (i=1;i<=n;i++)\n",
        "    {\n",
        "        sum += 1/(double)i;\n",
        "    }\n",
        "    printf(\"your sum of series is:%lf\",sum);\n",
        "\n",
        "    return 0;\n",
        "\n",
        "}"
      ],
      "execution_count": null,
      "outputs": [
        {
          "output_type": "stream",
          "name": "stdout",
          "text": [
            "Overwriting task7.c\n"
          ]
        }
      ]
    },
    {
      "cell_type": "code",
      "metadata": {
        "colab": {
          "base_uri": "https://localhost:8080/"
        },
        "id": "12XO58TxsMAP",
        "outputId": "75a3434e-f5a4-478c-a8fe-2bbb1732c64e"
      },
      "source": [
        "%%shell\n",
        "gcc task7.c -o out\n",
        "./out"
      ],
      "execution_count": null,
      "outputs": [
        {
          "output_type": "stream",
          "name": "stdout",
          "text": [
            "enter your n:44\n",
            "your sum of series is:4.372726"
          ]
        },
        {
          "output_type": "execute_result",
          "data": {
            "text/plain": [
              ""
            ]
          },
          "metadata": {},
          "execution_count": 88
        }
      ]
    },
    {
      "cell_type": "code",
      "metadata": {
        "colab": {
          "base_uri": "https://localhost:8080/"
        },
        "id": "Oj0bOMuCsMza",
        "outputId": "012d4217-958c-4d4b-8bdf-17c8e126e2ca"
      },
      "source": [
        "%%writefile task8.c\n",
        "#include <stdio.h>\n",
        "int main(void) \n",
        "{\n",
        "  int x=1;\n",
        "  int y=1;\n",
        "  \n",
        "  for (x=1;x<=9;x++)\n",
        "  {\n",
        "    for (y=1;y<=9;y++)\n",
        "    {\n",
        "        printf(\"%d x %d = %d\\n\",x,y,x*y);\n",
        "    }  \n",
        "  }\n",
        "  return 0;\n",
        "}"
      ],
      "execution_count": null,
      "outputs": [
        {
          "output_type": "stream",
          "name": "stdout",
          "text": [
            "Overwriting task8.c\n"
          ]
        }
      ]
    },
    {
      "cell_type": "code",
      "metadata": {
        "colab": {
          "base_uri": "https://localhost:8080/"
        },
        "id": "Bh0LYGhztALH",
        "outputId": "7fc1d9ca-9386-4be1-8ec0-527bf373d9b8"
      },
      "source": [
        "%%shell\n",
        "gcc task8.c -o out\n",
        "./out"
      ],
      "execution_count": null,
      "outputs": [
        {
          "output_type": "stream",
          "name": "stdout",
          "text": [
            "1 x 1 = 1\n",
            "1 x 2 = 2\n",
            "1 x 3 = 3\n",
            "1 x 4 = 4\n",
            "1 x 5 = 5\n",
            "1 x 6 = 6\n",
            "1 x 7 = 7\n",
            "1 x 8 = 8\n",
            "1 x 9 = 9\n",
            "2 x 1 = 2\n",
            "2 x 2 = 4\n",
            "2 x 3 = 6\n",
            "2 x 4 = 8\n",
            "2 x 5 = 10\n",
            "2 x 6 = 12\n",
            "2 x 7 = 14\n",
            "2 x 8 = 16\n",
            "2 x 9 = 18\n",
            "3 x 1 = 3\n",
            "3 x 2 = 6\n",
            "3 x 3 = 9\n",
            "3 x 4 = 12\n",
            "3 x 5 = 15\n",
            "3 x 6 = 18\n",
            "3 x 7 = 21\n",
            "3 x 8 = 24\n",
            "3 x 9 = 27\n",
            "4 x 1 = 4\n",
            "4 x 2 = 8\n",
            "4 x 3 = 12\n",
            "4 x 4 = 16\n",
            "4 x 5 = 20\n",
            "4 x 6 = 24\n",
            "4 x 7 = 28\n",
            "4 x 8 = 32\n",
            "4 x 9 = 36\n",
            "5 x 1 = 5\n",
            "5 x 2 = 10\n",
            "5 x 3 = 15\n",
            "5 x 4 = 20\n",
            "5 x 5 = 25\n",
            "5 x 6 = 30\n",
            "5 x 7 = 35\n",
            "5 x 8 = 40\n",
            "5 x 9 = 45\n",
            "6 x 1 = 6\n",
            "6 x 2 = 12\n",
            "6 x 3 = 18\n",
            "6 x 4 = 24\n",
            "6 x 5 = 30\n",
            "6 x 6 = 36\n",
            "6 x 7 = 42\n",
            "6 x 8 = 48\n",
            "6 x 9 = 54\n",
            "7 x 1 = 7\n",
            "7 x 2 = 14\n",
            "7 x 3 = 21\n",
            "7 x 4 = 28\n",
            "7 x 5 = 35\n",
            "7 x 6 = 42\n",
            "7 x 7 = 49\n",
            "7 x 8 = 56\n",
            "7 x 9 = 63\n",
            "8 x 1 = 8\n",
            "8 x 2 = 16\n",
            "8 x 3 = 24\n",
            "8 x 4 = 32\n",
            "8 x 5 = 40\n",
            "8 x 6 = 48\n",
            "8 x 7 = 56\n",
            "8 x 8 = 64\n",
            "8 x 9 = 72\n",
            "9 x 1 = 9\n",
            "9 x 2 = 18\n",
            "9 x 3 = 27\n",
            "9 x 4 = 36\n",
            "9 x 5 = 45\n",
            "9 x 6 = 54\n",
            "9 x 7 = 63\n",
            "9 x 8 = 72\n",
            "9 x 9 = 81\n"
          ]
        },
        {
          "output_type": "execute_result",
          "data": {
            "text/plain": [
              ""
            ]
          },
          "metadata": {},
          "execution_count": 93
        }
      ]
    },
    {
      "cell_type": "code",
      "metadata": {
        "colab": {
          "base_uri": "https://localhost:8080/"
        },
        "id": "4xxWD7yetCmT",
        "outputId": "66ed92b5-632e-4901-b87f-56d5d024897b"
      },
      "source": [
        "%%writefile task9.c\n",
        "#include<stdio.h>\n",
        "#include<stdlib.h>\n",
        "\n",
        "int main()\n",
        "{\n",
        "    int put;\n",
        "    int answer;\n",
        "    while(1)\n",
        "    {\n",
        "        int x= rand()%100;\n",
        "        int y= rand()%100;\n",
        "        answer=x+y;\n",
        "        printf(\"%d + %d =\",x,y);\n",
        "        scanf(\"%d\",&put);\n",
        "        if(answer==put)\n",
        "        {\n",
        "            printf(\"you're right!!!\");\n",
        "            break;\n",
        "        }\n",
        "        else\n",
        "        {\n",
        "            printf(\"Wrong!!! try again!\\n\");\n",
        "        }\n",
        "    }\n",
        "  return 0;\n",
        "}"
      ],
      "execution_count": null,
      "outputs": [
        {
          "output_type": "stream",
          "name": "stdout",
          "text": [
            "Overwriting task9.c\n"
          ]
        }
      ]
    },
    {
      "cell_type": "code",
      "metadata": {
        "colab": {
          "base_uri": "https://localhost:8080/"
        },
        "id": "nHjKep4qweKV",
        "outputId": "a1fddba0-8f59-4632-cebd-2306550aece6"
      },
      "source": [
        "%%shell\n",
        "gcc task9.c -o out\n",
        "./out"
      ],
      "execution_count": null,
      "outputs": [
        {
          "output_type": "stream",
          "name": "stdout",
          "text": [
            "83 + 86 =143\n",
            "Wrong!!! try again!\n",
            "77 + 15 =44\n",
            "Wrong!!! try again!\n",
            "93 + 35 =128\n",
            "you're right!!!"
          ]
        },
        {
          "output_type": "execute_result",
          "data": {
            "text/plain": [
              ""
            ]
          },
          "metadata": {},
          "execution_count": 104
        }
      ]
    },
    {
      "cell_type": "code",
      "metadata": {
        "colab": {
          "base_uri": "https://localhost:8080/"
        },
        "id": "8wCiJRurwhGc",
        "outputId": "018d1109-e985-4443-f669-d08e88493ebb"
      },
      "source": [
        "%%writefile task10.c\n",
        "#include<stdio.h>\n",
        "\n",
        "int main()\n",
        "{\n",
        "    int n;\n",
        "    int primedetermine;\n",
        "    printf(\"enter your range:\");\n",
        "    scanf(\"%d\",&n);\n",
        "    for (int i=2;i<=n;i++)\n",
        "    {\n",
        "        int state=1;\n",
        "        for (int z=2;z<=i;z++)\n",
        "        {\n",
        "          primedetermine=i%z;\n",
        "          if (primedetermine == 0 && i != z)\n",
        "          {\n",
        "              state=0;\n",
        "              break;\n",
        "          }\n",
        "        }\n",
        "      if(state==1)\n",
        "      {\n",
        "          printf(\"%d \",i);\n",
        "      }\n",
        "    }\n",
        "    return 0;\n",
        "}"
      ],
      "execution_count": null,
      "outputs": [
        {
          "output_type": "stream",
          "name": "stdout",
          "text": [
            "Overwriting task10.c\n"
          ]
        }
      ]
    },
    {
      "cell_type": "code",
      "metadata": {
        "colab": {
          "base_uri": "https://localhost:8080/"
        },
        "id": "sBmJX-Py0Ilc",
        "outputId": "d95c3f4c-9f36-48a3-d6f3-cdf59d0b9c1e"
      },
      "source": [
        "%%shell\n",
        "gcc task10.c -o out\n",
        "./out"
      ],
      "execution_count": null,
      "outputs": [
        {
          "output_type": "stream",
          "name": "stdout",
          "text": [
            "enter your range:100\n",
            "2 3 5 7 11 13 17 19 23 29 31 37 41 43 47 53 59 61 67 71 73 79 83 89 97 "
          ]
        },
        {
          "output_type": "execute_result",
          "data": {
            "text/plain": [
              ""
            ]
          },
          "metadata": {},
          "execution_count": 129
        }
      ]
    },
    {
      "cell_type": "code",
      "metadata": {
        "colab": {
          "base_uri": "https://localhost:8080/"
        },
        "id": "pYiwtT8-0Kwn",
        "outputId": "4ce03a6e-12c8-40cf-d461-137d6b34ee33"
      },
      "source": [
        "%%writefile task11.c\n",
        "#include<stdio.h>\n",
        "#include<math.h>\n",
        "#include<stdlib.h>\n",
        "#include<time.h>\n",
        "\n",
        "int main()\n",
        "{\n",
        "    srand(time(NULL));\n",
        "    double repeat=10000000;\n",
        "    int circledot=0;\n",
        "    double x;\n",
        "    double y;\n",
        "    double z;\n",
        "    double pi;\n",
        "    for(int i=0;i<repeat;i++)\n",
        "    {\n",
        "        x=(double)rand()/RAND_MAX;\n",
        "        y=(double)rand()/RAND_MAX;\n",
        "        z=x*x+y*y;\n",
        "        \n",
        "        if(z<=1)\n",
        "        {\n",
        "            circledot++;\n",
        "        }\n",
        "    }\n",
        "    pi=4*circledot/repeat;\n",
        "    printf(\"%lf\",pi);\n",
        " \n",
        "  return 0;\n",
        "}"
      ],
      "execution_count": null,
      "outputs": [
        {
          "output_type": "stream",
          "name": "stdout",
          "text": [
            "Overwriting task11.c\n"
          ]
        }
      ]
    },
    {
      "cell_type": "code",
      "metadata": {
        "colab": {
          "base_uri": "https://localhost:8080/"
        },
        "id": "HsOW3gNs8rrA",
        "outputId": "8db21127-69e1-4aa4-d66f-f52ad6e73e90"
      },
      "source": [
        "%%shell\n",
        "gcc task11.c -o out\n",
        "./out"
      ],
      "execution_count": null,
      "outputs": [
        {
          "output_type": "stream",
          "name": "stdout",
          "text": [
            "3.141873"
          ]
        },
        {
          "output_type": "execute_result",
          "data": {
            "text/plain": [
              ""
            ]
          },
          "metadata": {},
          "execution_count": 133
        }
      ]
    },
    {
      "cell_type": "code",
      "metadata": {
        "colab": {
          "base_uri": "https://localhost:8080/"
        },
        "id": "8pVA3J7G8uJh",
        "outputId": "8ec9eb41-0928-4705-9919-d57343330f4b"
      },
      "source": [
        "%%writefile task12.c\n",
        "#include<stdio.h>\n",
        "#include<stdlib.h>\n",
        "\n",
        "int main()\n",
        "{\n",
        "    int stick;\n",
        "    int remain=12;\n",
        "    int win=0;\n",
        "    while(remain>0)\n",
        "    {\n",
        "        printf(\"the remaining stick is %d sticks.\\n\",remain);\n",
        "        printf(\"how many sticks are you going to take(max 3)?\");\n",
        "        scanf(\"%d\",&stick);\n",
        "        remain=remain-stick;\n",
        "        win=1;\n",
        "        stick=rand()%3;\n",
        "        remain=remain-stick;\n",
        "        win=0;\n",
        "        printf(\"the cumpuer has taken %d sticks. \\n\",stick);\n",
        "    }\n",
        "  if (win==0)\n",
        "  {\n",
        "    printf(\"congrat! you won!\");\n",
        "  }\n",
        "  else if(win==1)\n",
        "  {\n",
        "    printf(\"you lose!!\");\n",
        "  }\n",
        " \n",
        " return 0;\n",
        "}"
      ],
      "execution_count": null,
      "outputs": [
        {
          "output_type": "stream",
          "name": "stdout",
          "text": [
            "Overwriting task12.c\n"
          ]
        }
      ]
    },
    {
      "cell_type": "code",
      "metadata": {
        "colab": {
          "base_uri": "https://localhost:8080/"
        },
        "id": "mOa112H_BAwU",
        "outputId": "6ceecc89-6e25-4d6a-ece0-35a82c0bcd39"
      },
      "source": [
        "%%shell\n",
        "gcc task12.c -o out\n",
        "./out"
      ],
      "execution_count": null,
      "outputs": [
        {
          "output_type": "stream",
          "name": "stdout",
          "text": [
            "the remaining stick is 12 sticks.\n",
            "how many sticks are you going to take(max 3)?3\n",
            "the cumpuer has taken 1 sticks. \n",
            "the remaining stick is 8 sticks.\n",
            "how many sticks are you going to take(max 3)?3\n",
            "the cumpuer has taken 1 sticks. \n",
            "the remaining stick is 4 sticks.\n",
            "how many sticks are you going to take(max 3)?3\n",
            "the cumpuer has taken 0 sticks. \n",
            "the remaining stick is 1 sticks.\n",
            "how many sticks are you going to take(max 3)?0\n",
            "the cumpuer has taken 1 sticks. \n",
            "congrat! you won!"
          ]
        },
        {
          "output_type": "execute_result",
          "data": {
            "text/plain": [
              ""
            ]
          },
          "metadata": {},
          "execution_count": 149
        }
      ]
    },
    {
      "cell_type": "code",
      "metadata": {
        "id": "gUfGjvIEBB06"
      },
      "source": [
        ""
      ],
      "execution_count": null,
      "outputs": []
    }
  ]
}