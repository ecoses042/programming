{
  "nbformat": 4,
  "nbformat_minor": 0,
  "metadata": {
    "colab": {
      "name": "lab2_20211530_Minsoo_Song",
      "provenance": [],
      "authorship_tag": "ABX9TyMuW+eXJpZ4xVZYJLzaG+KQ",
      "include_colab_link": true
    },
    "kernelspec": {
      "name": "python3",
      "display_name": "Python 3"
    },
    "language_info": {
      "name": "python"
    }
  },
  "cells": [
    {
      "cell_type": "markdown",
      "metadata": {
        "id": "view-in-github",
        "colab_type": "text"
      },
      "source": [
        "<a href=\"https://colab.research.google.com/github/ecoses042/programming/blob/main/lab2_20211530_Minsoo_Song.ipynb\" target=\"_parent\"><img src=\"https://colab.research.google.com/assets/colab-badge.svg\" alt=\"Open In Colab\"/></a>"
      ]
    },
    {
      "cell_type": "code",
      "metadata": {
        "colab": {
          "base_uri": "https://localhost:8080/"
        },
        "id": "dnbZtepZhNTl",
        "outputId": "198b9a8d-bb7b-4690-d6e8-1677c18ac41b"
      },
      "source": [
        "%%writefile hello2.c\n",
        "#include <stdio.h>\n",
        "int main(void)\n",
        "{\n",
        "    printf(\"Hello World\\n\");\n",
        " printf(\"from Minsoo\\n\");\n",
        " return 0;\n",
        "}"
      ],
      "execution_count": 12,
      "outputs": [
        {
          "output_type": "stream",
          "name": "stdout",
          "text": [
            "Overwriting hello2.c\n"
          ]
        }
      ]
    },
    {
      "cell_type": "code",
      "metadata": {
        "colab": {
          "base_uri": "https://localhost:8080/"
        },
        "id": "tNNeSIwYhdT_",
        "outputId": "852ed4f1-f8e2-4946-e0b8-a4601a3680c6"
      },
      "source": [
        "ls"
      ],
      "execution_count": 13,
      "outputs": [
        {
          "output_type": "stream",
          "name": "stdout",
          "text": [
            "hello2.c  \u001b[0m\u001b[01;32moutput\u001b[0m*  \u001b[01;34msample_data\u001b[0m/\n"
          ]
        }
      ]
    },
    {
      "cell_type": "code",
      "metadata": {
        "colab": {
          "base_uri": "https://localhost:8080/"
        },
        "id": "DgMR42oNia1A",
        "outputId": "475eccbf-af5f-4c73-87e1-dc6c604fc6f7"
      },
      "source": [
        "%%shell\n",
        "gcc hello2.c -o output\n",
        "./output\n"
      ],
      "execution_count": 14,
      "outputs": [
        {
          "output_type": "stream",
          "name": "stdout",
          "text": [
            "Hello World\n",
            "from Minsoo\n"
          ]
        },
        {
          "output_type": "execute_result",
          "data": {
            "text/plain": [
              ""
            ]
          },
          "metadata": {},
          "execution_count": 14
        }
      ]
    },
    {
      "cell_type": "code",
      "metadata": {
        "id": "lZiToEdtifKd",
        "colab": {
          "base_uri": "https://localhost:8080/"
        },
        "outputId": "761fe40b-752b-4264-bef3-d793aab5115a"
      },
      "source": [
        "%%writefile cal.c\n",
        "#include<stdio.h>\n",
        "int main(void)\n",
        "{\n",
        "    printf(\"3 x 1 = 3\\n\");\n",
        "    printf(\"3 x 2 = 6\\n\");\n",
        "    printf(\"3 x 3 = 9\\n\");\n",
        " return 0;\n",
        "}"
      ],
      "execution_count": 15,
      "outputs": [
        {
          "output_type": "stream",
          "name": "stdout",
          "text": [
            "Writing cal.c\n"
          ]
        }
      ]
    },
    {
      "cell_type": "code",
      "metadata": {
        "colab": {
          "base_uri": "https://localhost:8080/"
        },
        "id": "nG-nJ5eSsSOR",
        "outputId": "0f1ae036-b43a-4cbe-8ee8-6b1fcf5ec5b5"
      },
      "source": [
        "ls"
      ],
      "execution_count": 16,
      "outputs": [
        {
          "output_type": "stream",
          "name": "stdout",
          "text": [
            "cal.c  hello2.c  \u001b[0m\u001b[01;32moutput\u001b[0m*  \u001b[01;34msample_data\u001b[0m/\n"
          ]
        }
      ]
    },
    {
      "cell_type": "code",
      "metadata": {
        "colab": {
          "base_uri": "https://localhost:8080/"
        },
        "id": "p4RMQa9msTZd",
        "outputId": "61f8f917-6575-4f2f-a327-7945d6f59b8b"
      },
      "source": [
        "%%shell \n",
        "gcc cal.c -o output\n",
        "./output\n"
      ],
      "execution_count": 18,
      "outputs": [
        {
          "output_type": "stream",
          "name": "stdout",
          "text": [
            "3 x 1 = 3\n",
            "3 x 2 = 6\n",
            "3 x 3 = 9\n"
          ]
        },
        {
          "output_type": "execute_result",
          "data": {
            "text/plain": [
              ""
            ]
          },
          "metadata": {},
          "execution_count": 18
        }
      ]
    },
    {
      "cell_type": "code",
      "metadata": {
        "colab": {
          "base_uri": "https://localhost:8080/"
        },
        "id": "U4qLXFeuuGFf",
        "outputId": "5441c478-4c3e-4c54-dcbf-0e190fc02e06"
      },
      "source": [
        "%%writefile sum.c\n",
        "#include <stdio.h>\n",
        "int main ()\n",
        "{\n",
        "  int x;\n",
        "  int y;\n",
        "  int sum;\n",
        "  x=100;\n",
        "  y=200;\n",
        "  sum=x+y;\n",
        "  printf(\"sum of two int = %d  \\n\", sum); \n",
        "   \n",
        "    return 0;\n",
        "}"
      ],
      "execution_count": 26,
      "outputs": [
        {
          "output_type": "stream",
          "name": "stdout",
          "text": [
            "Writing sum.c\n"
          ]
        }
      ]
    },
    {
      "cell_type": "code",
      "metadata": {
        "colab": {
          "base_uri": "https://localhost:8080/"
        },
        "id": "xcDlnvJMvvcx",
        "outputId": "cf973920-d689-40d0-bced-e3232af9b355"
      },
      "source": [
        "ls"
      ],
      "execution_count": 28,
      "outputs": [
        {
          "output_type": "stream",
          "name": "stdout",
          "text": [
            "cal.c  hello2.c  midcheck1.c  \u001b[0m\u001b[01;32mouitput\u001b[0m*  \u001b[01;32moutput\u001b[0m*  \u001b[01;34msample_data\u001b[0m/  sum.c\n"
          ]
        }
      ]
    },
    {
      "cell_type": "code",
      "metadata": {
        "colab": {
          "base_uri": "https://localhost:8080/"
        },
        "id": "lfPFnksIv1lk",
        "outputId": "0aaac443-b050-47e1-e372-23cac966c408"
      },
      "source": [
        "%%shell\n",
        "gcc sum.c -o output\n",
        "./output"
      ],
      "execution_count": 29,
      "outputs": [
        {
          "output_type": "stream",
          "name": "stdout",
          "text": [
            "sum of two int = 300  \n"
          ]
        },
        {
          "output_type": "execute_result",
          "data": {
            "text/plain": [
              ""
            ]
          },
          "metadata": {},
          "execution_count": 29
        }
      ]
    },
    {
      "cell_type": "code",
      "metadata": {
        "colab": {
          "base_uri": "https://localhost:8080/"
        },
        "id": "B_tO5Yp_v_oD",
        "outputId": "fbbfb403-e365-40c8-c0bf-babe2b785cc1"
      },
      "source": [
        "%%writefile scanner.c\n",
        "\n",
        "#include <stdio.h>\n",
        "\n",
        "int main()\n",
        "{\n",
        "    int x;\n",
        "    int y;\n",
        "    int sum;\n",
        " \n",
        "    printf(\"Enter your first number:\");\n",
        "    scanf(\"%d\",&x);\n",
        " \n",
        "    printf(\"Enter your second number:\");\n",
        "    scanf(\"%d\",&y);\n",
        "    sum=x+y;\n",
        " \n",
        "    printf(\"Your sum is: %d \\n\",sum);\n",
        " \n",
        "    return 0;\n",
        "}"
      ],
      "execution_count": 42,
      "outputs": [
        {
          "output_type": "stream",
          "name": "stdout",
          "text": [
            "Overwriting scanner.c\n"
          ]
        }
      ]
    },
    {
      "cell_type": "code",
      "metadata": {
        "colab": {
          "base_uri": "https://localhost:8080/"
        },
        "id": "F35MYJ5gzZ5o",
        "outputId": "e82ed43c-acf4-44e6-d2e8-5848033dd40d"
      },
      "source": [
        "ls"
      ],
      "execution_count": 43,
      "outputs": [
        {
          "output_type": "stream",
          "name": "stdout",
          "text": [
            "cal.c  hello2.c  midcheck1.c  \u001b[0m\u001b[01;32mouitput\u001b[0m*  \u001b[01;32moutput\u001b[0m*  \u001b[01;34msample_data\u001b[0m/  scanner.c  sum.c\n"
          ]
        }
      ]
    },
    {
      "cell_type": "code",
      "metadata": {
        "colab": {
          "base_uri": "https://localhost:8080/"
        },
        "id": "hLk72JHwzaQd",
        "outputId": "7a9e9516-c3af-446e-8fe3-b8943461431f"
      },
      "source": [
        "%%shell\n",
        "gcc scanner.c -o output\n",
        "./output"
      ],
      "execution_count": 44,
      "outputs": [
        {
          "output_type": "stream",
          "name": "stdout",
          "text": [
            "Enter your first number:100\n",
            "Enter your second number:200\n",
            "Your sum is: 300 \n"
          ]
        },
        {
          "output_type": "execute_result",
          "data": {
            "text/plain": [
              ""
            ]
          },
          "metadata": {},
          "execution_count": 44
        }
      ]
    },
    {
      "cell_type": "code",
      "metadata": {
        "colab": {
          "base_uri": "https://localhost:8080/"
        },
        "id": "ew11kRmFzfmb",
        "outputId": "20393b1b-048b-42b2-ed92-f11bd817b79f"
      },
      "source": [
        "%%writefile midcheck.c\n",
        "#include<stdio.h>\n",
        "\n",
        "int main()\n",
        "{\n",
        "    int x;//9\n",
        "    int y;// 곱하는 수\n",
        "    int p;//result\n",
        "    x=9;\n",
        "    y=1;\n",
        "    while (y<10)\n",
        "    {\n",
        "       p=x*y;\n",
        "       printf(\"%d x %d = %d\\n\",x,y,p);\n",
        "       y++; \n",
        "    }\n",
        "   return 0;\n",
        "}\n",
        "//https://www.tutorialspoint.com/cprogramming/c_while_loop.html 여기를 참고했습니다."
      ],
      "execution_count": 48,
      "outputs": [
        {
          "output_type": "stream",
          "name": "stdout",
          "text": [
            "Overwriting midcheck.c\n"
          ]
        }
      ]
    },
    {
      "cell_type": "code",
      "metadata": {
        "colab": {
          "base_uri": "https://localhost:8080/"
        },
        "id": "oJQXWWrW1Puu",
        "outputId": "33277385-7c28-4a8e-e1a2-45aa5867d7e5"
      },
      "source": [
        "ls"
      ],
      "execution_count": 49,
      "outputs": [
        {
          "output_type": "stream",
          "name": "stdout",
          "text": [
            "cal.c     midcheck1.c  \u001b[0m\u001b[01;32mouitput\u001b[0m*  \u001b[01;34msample_data\u001b[0m/  sum.c\n",
            "hello2.c  midcheck.c   \u001b[01;32moutput\u001b[0m*   scanner.c\n"
          ]
        }
      ]
    },
    {
      "cell_type": "code",
      "metadata": {
        "colab": {
          "base_uri": "https://localhost:8080/"
        },
        "id": "bZqdSDN41Q9e",
        "outputId": "89aee3d0-4681-43b6-f7ea-abb8771ad1fc"
      },
      "source": [
        "%%shell\n",
        "gcc midcheck.c -o output\n",
        "./output"
      ],
      "execution_count": 50,
      "outputs": [
        {
          "output_type": "stream",
          "name": "stdout",
          "text": [
            "9 x 1 = 9\n",
            "9 x 2 = 18\n",
            "9 x 3 = 27\n",
            "9 x 4 = 36\n",
            "9 x 5 = 45\n",
            "9 x 6 = 54\n",
            "9 x 7 = 63\n",
            "9 x 8 = 72\n",
            "9 x 9 = 81\n"
          ]
        },
        {
          "output_type": "execute_result",
          "data": {
            "text/plain": [
              ""
            ]
          },
          "metadata": {},
          "execution_count": 50
        }
      ]
    },
    {
      "cell_type": "code",
      "metadata": {
        "id": "_MTxO3fL1cI9"
      },
      "source": [
        ""
      ],
      "execution_count": null,
      "outputs": []
    }
  ]
}