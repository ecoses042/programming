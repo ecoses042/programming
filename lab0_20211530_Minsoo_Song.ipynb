{
  "nbformat": 4,
  "nbformat_minor": 0,
  "metadata": {
    "colab": {
      "name": "lab0 20211530 Minsoo Song.ipynb",
      "provenance": [],
      "authorship_tag": "ABX9TyPsPWvJIcSmZNSCS2oZJ9a1",
      "include_colab_link": true
    },
    "kernelspec": {
      "name": "python3",
      "display_name": "Python 3"
    },
    "language_info": {
      "name": "python"
    }
  },
  "cells": [
    {
      "cell_type": "markdown",
      "metadata": {
        "id": "view-in-github",
        "colab_type": "text"
      },
      "source": [
        "<a href=\"https://colab.research.google.com/github/ecoses042/programming/blob/main/lab0_20211530_Minsoo_Song.ipynb\" target=\"_parent\"><img src=\"https://colab.research.google.com/assets/colab-badge.svg\" alt=\"Open In Colab\"/></a>"
      ]
    },
    {
      "cell_type": "code",
      "metadata": {
        "id": "YIhdrKBsWWUh",
        "colab": {
          "base_uri": "https://localhost:8080/"
        },
        "outputId": "f5956ecd-d879-4e1d-a001-9601083b56d2"
      },
      "source": [
        "print('hello world')\n"
      ],
      "execution_count": null,
      "outputs": [
        {
          "output_type": "stream",
          "name": "stdout",
          "text": [
            "hello world\n"
          ]
        }
      ]
    },
    {
      "cell_type": "code",
      "metadata": {
        "id": "5Rv3zq4kWZUq",
        "colab": {
          "base_uri": "https://localhost:8080/"
        },
        "outputId": "578628c5-032a-40fb-e7a5-9f2e7dfe6463"
      },
      "source": [
        "print(\"My name is Minsoo Song\")"
      ],
      "execution_count": null,
      "outputs": [
        {
          "output_type": "stream",
          "name": "stdout",
          "text": [
            "My name is Minsoo Song\n"
          ]
        }
      ]
    },
    {
      "cell_type": "code",
      "metadata": {
        "colab": {
          "base_uri": "https://localhost:8080/"
        },
        "id": "afMNj4qaQo4x",
        "outputId": "aef5814e-b8a8-489f-854e-6af0a734b5fb"
      },
      "source": [
        "%%writefile hello.c\n",
        "#include <stdio.h>\n",
        "int main(void)\n",
        "{\n",
        "    printf(\"Hello world!\");\n",
        "    return 0;\n",
        " \n",
        "}"
      ],
      "execution_count": null,
      "outputs": [
        {
          "output_type": "stream",
          "name": "stdout",
          "text": [
            "Overwriting hello.c\n"
          ]
        }
      ]
    },
    {
      "cell_type": "code",
      "metadata": {
        "colab": {
          "base_uri": "https://localhost:8080/"
        },
        "id": "p5mW3ylARPci",
        "outputId": "6e1f6514-0224-4fbb-c682-c595c68d082b"
      },
      "source": [
        "ls"
      ],
      "execution_count": null,
      "outputs": [
        {
          "output_type": "stream",
          "name": "stdout",
          "text": [
            "hello.c  \u001b[0m\u001b[01;32moutput\u001b[0m*  \u001b[01;34msample_data\u001b[0m/\n"
          ]
        }
      ]
    },
    {
      "cell_type": "code",
      "metadata": {
        "colab": {
          "base_uri": "https://localhost:8080/"
        },
        "id": "9Uuboq_NRkWI",
        "outputId": "14155576-bb37-4cb5-ea56-682ffe12c560"
      },
      "source": [
        "%%shell\n",
        "gcc hello.c -o output\n",
        "./output\n"
      ],
      "execution_count": null,
      "outputs": [
        {
          "output_type": "stream",
          "name": "stdout",
          "text": [
            "Hello world!"
          ]
        },
        {
          "output_type": "execute_result",
          "data": {
            "text/plain": [
              ""
            ]
          },
          "metadata": {},
          "execution_count": 8
        }
      ]
    }
  ]
}