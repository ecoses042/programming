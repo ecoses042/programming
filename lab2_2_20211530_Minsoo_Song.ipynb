{
  "nbformat": 4,
  "nbformat_minor": 0,
  "metadata": {
    "colab": {
      "name": "lab2-2_20211530_Minsoo_Song",
      "provenance": [],
      "authorship_tag": "ABX9TyOp+psH754HZD1UqCx/fNMU",
      "include_colab_link": true
    },
    "kernelspec": {
      "name": "python3",
      "display_name": "Python 3"
    },
    "language_info": {
      "name": "python"
    }
  },
  "cells": [
    {
      "cell_type": "markdown",
      "metadata": {
        "id": "view-in-github",
        "colab_type": "text"
      },
      "source": [
        "<a href=\"https://colab.research.google.com/github/ecoses042/programming/blob/main/lab2_2_20211530_Minsoo_Song.ipynb\" target=\"_parent\"><img src=\"https://colab.research.google.com/assets/colab-badge.svg\" alt=\"Open In Colab\"/></a>"
      ]
    },
    {
      "cell_type": "code",
      "metadata": {
        "colab": {
          "base_uri": "https://localhost:8080/"
        },
        "id": "r-w0kh7q2EG_",
        "outputId": "256a5930-ae8f-4547-d4a6-31c4e9f21c72"
      },
      "source": [
        "%%writefile hehe.c\n",
        "#include <stdio.h>\n",
        "\n",
        "int main()\n",
        "{\n",
        "    int x;\n",
        "    int y;\n",
        "    int result;\n",
        "    printf(\"Enter your first number:\");\n",
        "    scanf(\"%d\",&x);\n",
        "    printf(\"Enter your second number:\");\n",
        "    scanf(\"%d\",&y);\n",
        "    result=x+y;\n",
        "    printf(\"the sum of two number is:%d\\n\",result);\n",
        "    result=x-y;\n",
        "    printf(\"the sub of two number is:%d\\n\",result);\n",
        "    result=x*y;\n",
        "    printf(\"the product of two number is:%d\\n\",result);\n",
        "    result=x/y;\n",
        "    printf(\"the division of two number is:%d\\n\",result);\n",
        "\n",
        "    return 0;\n",
        "}"
      ],
      "execution_count": 4,
      "outputs": [
        {
          "output_type": "stream",
          "name": "stdout",
          "text": [
            "Overwriting hehe.c\n"
          ]
        }
      ]
    },
    {
      "cell_type": "code",
      "metadata": {
        "colab": {
          "base_uri": "https://localhost:8080/"
        },
        "id": "6SY1Pjj63ZyI",
        "outputId": "dd12b76d-4cdc-46fe-fac2-77c0147ff53a"
      },
      "source": [
        "ls"
      ],
      "execution_count": 5,
      "outputs": [
        {
          "output_type": "stream",
          "name": "stdout",
          "text": [
            "hehe.c  \u001b[0m\u001b[01;32moutput\u001b[0m*  \u001b[01;34msample_data\u001b[0m/\n"
          ]
        }
      ]
    },
    {
      "cell_type": "code",
      "metadata": {
        "colab": {
          "base_uri": "https://localhost:8080/"
        },
        "id": "CuaYM1m23a7q",
        "outputId": "bd677cd8-4a50-4b90-e88f-bad37bf1154c"
      },
      "source": [
        "%%shell\n",
        "gcc hehe.c -o output\n",
        "./output"
      ],
      "execution_count": 6,
      "outputs": [
        {
          "output_type": "stream",
          "name": "stdout",
          "text": [
            "Enter your first number:10\n",
            "Enter your second number:20\n",
            "the sum of two number is:30\n",
            "the sub of two number is:-10\n",
            "the product of two number is:200\n",
            "the division of two number is:0\n"
          ]
        },
        {
          "output_type": "execute_result",
          "data": {
            "text/plain": [
              ""
            ]
          },
          "metadata": {},
          "execution_count": 6
        }
      ]
    },
    {
      "cell_type": "code",
      "metadata": {
        "colab": {
          "base_uri": "https://localhost:8080/"
        },
        "id": "JPPv8Cxb3f_S",
        "outputId": "86435e96-7cb3-4d6c-be4c-9c2970dcb232"
      },
      "source": [
        "%%writefile pmean.c\n",
        "#include <stdio.h>\n",
        "\n",
        "int main()\n",
        "{\n",
        "    int p1;\n",
        "    int p2;\n",
        "    int m;\n",
        " \n",
        "    printf(\"Enter the price of the first item:\");\n",
        "    scanf(\"%d\",&p1);\n",
        " \n",
        "    printf(\"Enter the price of the second item:\");\n",
        "    scanf(\"%d\",&p2);\n",
        " \n",
        "    m=(p1+p2)/2;\n",
        "    printf(\"your mean price is:%d\",m);\n",
        " \n",
        "    return 0;\n",
        "}"
      ],
      "execution_count": 13,
      "outputs": [
        {
          "output_type": "stream",
          "name": "stdout",
          "text": [
            "Overwriting pmean.c\n"
          ]
        }
      ]
    },
    {
      "cell_type": "code",
      "metadata": {
        "colab": {
          "base_uri": "https://localhost:8080/"
        },
        "id": "fp69Nvea4dTe",
        "outputId": "3ec17c5a-14c0-4413-8dd4-27d725253878"
      },
      "source": [
        "ls"
      ],
      "execution_count": 14,
      "outputs": [
        {
          "output_type": "stream",
          "name": "stdout",
          "text": [
            "hehe.c  \u001b[0m\u001b[01;32moutput\u001b[0m*  pmean.c  \u001b[01;34msample_data\u001b[0m/\n"
          ]
        }
      ]
    },
    {
      "cell_type": "code",
      "metadata": {
        "colab": {
          "base_uri": "https://localhost:8080/"
        },
        "id": "SNyWbS824doP",
        "outputId": "d62bcd73-22d5-4600-c8da-9715eaa77936"
      },
      "source": [
        "%%shell\n",
        "gcc pmean.c -o output\n",
        "./output\n"
      ],
      "execution_count": 15,
      "outputs": [
        {
          "output_type": "stream",
          "name": "stdout",
          "text": [
            "Enter the price of the first item:1000\n",
            "Enter the price of the second item:2000\n",
            "your mean price is:1500"
          ]
        },
        {
          "output_type": "execute_result",
          "data": {
            "text/plain": [
              ""
            ]
          },
          "metadata": {},
          "execution_count": 15
        }
      ]
    },
    {
      "cell_type": "code",
      "metadata": {
        "colab": {
          "base_uri": "https://localhost:8080/"
        },
        "id": "Q44OVCUD4hkB",
        "outputId": "6aa35de0-2112-41d6-c54e-8998f8830af9"
      },
      "source": [
        "%%writefile travel.c\n",
        "#include <stdio.h>\n",
        "\n",
        "int main()\n",
        "{\n",
        "    int d;//day\n",
        "    int f;//price of the flight\n",
        "    int h; //price of 1 hotel night\n",
        "    int m; //daily budget needed for tour\n",
        "    int t;//total cost\n",
        " \n",
        "    printf(\"how long is your trip:\");\n",
        "    scanf(\"%d\",&d);\n",
        "    printf(\"what is the price of your flight ticket:\");\n",
        "    scanf(\"%d\",&f);\n",
        "    printf(\"how much does the hotel charge you for a night:\");\n",
        "    scanf(\"%d\",&h);\n",
        "    printf(\"how much money you need daily to spend:\");\n",
        "    scanf(\"%d\",&m);\n",
        " \n",
        "    t=f+d*h+(1+d)*m;\n",
        "    printf(\"========================================\\n\");\n",
        "    printf(\"total cost:%d\",t);\n",
        "    printf(\"========================================\\n\");\n",
        "    \n",
        "    return 0;\n",
        "}\n"
      ],
      "execution_count": 16,
      "outputs": [
        {
          "output_type": "stream",
          "name": "stdout",
          "text": [
            "Writing travel.c\n"
          ]
        }
      ]
    },
    {
      "cell_type": "code",
      "metadata": {
        "colab": {
          "base_uri": "https://localhost:8080/"
        },
        "id": "A8PZJrrd7hxm",
        "outputId": "316fb375-7f1a-4a35-9a29-b4aa4b94ff18"
      },
      "source": [
        "ls"
      ],
      "execution_count": 17,
      "outputs": [
        {
          "output_type": "stream",
          "name": "stdout",
          "text": [
            "hehe.c  \u001b[0m\u001b[01;32moutput\u001b[0m*  pmean.c  \u001b[01;34msample_data\u001b[0m/  travel.c\n"
          ]
        }
      ]
    },
    {
      "cell_type": "code",
      "metadata": {
        "colab": {
          "base_uri": "https://localhost:8080/"
        },
        "id": "t-02oVtJ7h9P",
        "outputId": "11d84d96-33f9-446a-b87f-134bd39c05d6"
      },
      "source": [
        "%%shell\n",
        "gcc travel.c -o output\n",
        "./output"
      ],
      "execution_count": 18,
      "outputs": [
        {
          "output_type": "stream",
          "name": "stdout",
          "text": [
            "how long is your travel:12\n",
            "what is the price of your flight ticket:10000\n",
            "how much does the hotel charge you for a night:1000\n",
            "how much money you need daily to spend:200\n",
            "========================================\n",
            "total cost:24600========================================\n"
          ]
        },
        {
          "output_type": "execute_result",
          "data": {
            "text/plain": [
              ""
            ]
          },
          "metadata": {},
          "execution_count": 18
        }
      ]
    },
    {
      "cell_type": "code",
      "metadata": {
        "id": "UJxXT0YQ7mcP"
      },
      "source": [
        ""
      ],
      "execution_count": null,
      "outputs": []
    }
  ]
}