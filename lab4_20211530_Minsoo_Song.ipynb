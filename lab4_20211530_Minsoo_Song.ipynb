{
  "nbformat": 4,
  "nbformat_minor": 0,
  "metadata": {
    "colab": {
      "name": "lab4_20211530_Minsoo_Song",
      "provenance": [],
      "authorship_tag": "ABX9TyP0VjzPp9lykl2GNqU+7pna",
      "include_colab_link": true
    },
    "kernelspec": {
      "name": "python3",
      "display_name": "Python 3"
    },
    "language_info": {
      "name": "python"
    }
  },
  "cells": [
    {
      "cell_type": "markdown",
      "metadata": {
        "id": "view-in-github",
        "colab_type": "text"
      },
      "source": [
        "<a href=\"https://colab.research.google.com/github/ecoses042/programming/blob/main/lab4_20211530_Minsoo_Song.ipynb\" target=\"_parent\"><img src=\"https://colab.research.google.com/assets/colab-badge.svg\" alt=\"Open In Colab\"/></a>"
      ]
    },
    {
      "cell_type": "code",
      "metadata": {
        "id": "GTn4esKgSH5Z",
        "colab": {
          "base_uri": "https://localhost:8080/"
        },
        "outputId": "b22c29cf-0290-46ba-a0c2-77b7f5aa8778"
      },
      "source": [
        "%%writefile example1.c\n",
        "#include <stdio.h>\n",
        "int main()\n",
        "{\n",
        "    int x;\n",
        "    int y;\n",
        "    int result;\n",
        "    printf(\"Enter 2 ints: \");\n",
        "    scanf(\"%d %d\", &x, &y);\n",
        "    result = x + y;\n",
        " \n",
        "    printf(\"%d + %d = %d\\n\", x, y, result);\n",
        "    result = x - y; \n",
        " \n",
        "    printf(\"%d - %d = %d\\n\", x, y, result);\n",
        "    result = x * y;\n",
        " \n",
        "    printf(\"%d + %d = %d\\n\", x, y, result);\n",
        "    result = x / y; \n",
        " \n",
        "    printf(\"%d / %d = %d\\n\", x, y, result);\n",
        "    result = x % y; \n",
        " \n",
        "    printf(\"%d %% %d = %d\\n\", x, y, result);\n",
        " \n",
        "    return 0;\n",
        "}"
      ],
      "execution_count": 13,
      "outputs": [
        {
          "output_type": "stream",
          "name": "stdout",
          "text": [
            "Overwriting example1.c\n"
          ]
        }
      ]
    },
    {
      "cell_type": "code",
      "metadata": {
        "colab": {
          "base_uri": "https://localhost:8080/"
        },
        "id": "DK9OF_PjGaWk",
        "outputId": "f65c3ee9-30c3-4e64-97e0-4c2869f5b1ad"
      },
      "source": [
        "ls"
      ],
      "execution_count": 14,
      "outputs": [
        {
          "output_type": "stream",
          "name": "stdout",
          "text": [
            "example1.c  example2.c  example3.c  \u001b[0m\u001b[01;32mout\u001b[0m*  \u001b[01;34msample_data\u001b[0m/\n"
          ]
        }
      ]
    },
    {
      "cell_type": "code",
      "metadata": {
        "colab": {
          "base_uri": "https://localhost:8080/"
        },
        "id": "lqFbQ5KIGauC",
        "outputId": "3392c6fe-086c-4e1d-acee-a0b86c369123"
      },
      "source": [
        "%%shell\n",
        "gcc example1.c -o out\n",
        "./out"
      ],
      "execution_count": 15,
      "outputs": [
        {
          "output_type": "stream",
          "name": "stdout",
          "text": [
            "Enter 2 ints: 11 2\n",
            "11 + 2 = 13\n",
            "11 - 2 = 9\n",
            "11 + 2 = 22\n",
            "11 / 2 = 5\n",
            "11 % 2 = 1\n"
          ]
        },
        {
          "output_type": "execute_result",
          "data": {
            "text/plain": [
              ""
            ]
          },
          "metadata": {},
          "execution_count": 15
        }
      ]
    },
    {
      "cell_type": "code",
      "metadata": {
        "colab": {
          "base_uri": "https://localhost:8080/"
        },
        "id": "fnS1HT9uGetW",
        "outputId": "10e1db7f-089d-4131-b5e3-0431a12d049c"
      },
      "source": [
        "%%writefile example2.c\n",
        "#include <stdio.h>\n",
        "#define SEC_PER_MINUTE 60 \n",
        "\n",
        "int main(void)\n",
        "{ \n",
        "    int input, minute, second; \n",
        "    printf(\"Enter time in seconds: \"); \n",
        "    scanf(\"%d\", &input); \n",
        " \n",
        "    minute = input / SEC_PER_MINUTE;\n",
        "    second = input % SEC_PER_MINUTE; \n",
        " \n",
        "    printf(\"%d초는 %d분 %d초입니다. \\n\",input, minute, second); \n",
        " \n",
        "    return 0;\n",
        "} \n"
      ],
      "execution_count": 23,
      "outputs": [
        {
          "output_type": "stream",
          "name": "stdout",
          "text": [
            "Overwriting example2.c\n"
          ]
        }
      ]
    },
    {
      "cell_type": "code",
      "metadata": {
        "colab": {
          "base_uri": "https://localhost:8080/"
        },
        "id": "vUi6rb1XHkn7",
        "outputId": "a507aabb-d5c1-4c9a-b1b4-86ff51dc82a7"
      },
      "source": [
        "ls"
      ],
      "execution_count": 24,
      "outputs": [
        {
          "output_type": "stream",
          "name": "stdout",
          "text": [
            "example1.c  example2.c  example3.c  \u001b[0m\u001b[01;32mout\u001b[0m*  \u001b[01;34msample_data\u001b[0m/\n"
          ]
        }
      ]
    },
    {
      "cell_type": "code",
      "metadata": {
        "colab": {
          "base_uri": "https://localhost:8080/"
        },
        "id": "Xkh8X9dbHk2s",
        "outputId": "6ed72ccf-8dcc-4ffb-9d31-e9e281f4d8f3"
      },
      "source": [
        "%%shell\n",
        "gcc example2.c -o out\n",
        "./out"
      ],
      "execution_count": 25,
      "outputs": [
        {
          "output_type": "stream",
          "name": "stdout",
          "text": [
            "Enter time in seconds: 1234\n",
            "1234초는 20분 34초입니다. \n"
          ]
        },
        {
          "output_type": "execute_result",
          "data": {
            "text/plain": [
              ""
            ]
          },
          "metadata": {},
          "execution_count": 25
        }
      ]
    },
    {
      "cell_type": "code",
      "metadata": {
        "colab": {
          "base_uri": "https://localhost:8080/"
        },
        "id": "F5TePzGuHnHA",
        "outputId": "a27ac54f-a894-472c-ecd7-49fdf90a85ac"
      },
      "source": [
        "%%writefile example3.c\n",
        "#include <stdio.h>\n",
        "int main(void)\n",
        "{\n",
        "    int x;\n",
        "    int y;\n",
        " \n",
        "    x = 1;\n",
        "    y = ++x;\n",
        "    printf(\"x=%d y=%d \\n\", x, y);\n",
        " \n",
        "    y = x++;\n",
        "    printf(\"x=%d y=%d \\n\", x, y);\n",
        " \n",
        "    return 0;\n",
        "}"
      ],
      "execution_count": 26,
      "outputs": [
        {
          "output_type": "stream",
          "name": "stdout",
          "text": [
            "Overwriting example3.c\n"
          ]
        }
      ]
    },
    {
      "cell_type": "code",
      "metadata": {
        "colab": {
          "base_uri": "https://localhost:8080/"
        },
        "id": "bAoADcsdH3Hh",
        "outputId": "da7a11f7-589b-4d6c-9339-387ffbbd6f0a"
      },
      "source": [
        "ls"
      ],
      "execution_count": 27,
      "outputs": [
        {
          "output_type": "stream",
          "name": "stdout",
          "text": [
            "example1.c  example2.c  example3.c  \u001b[0m\u001b[01;32mout\u001b[0m*  \u001b[01;34msample_data\u001b[0m/\n"
          ]
        }
      ]
    },
    {
      "cell_type": "code",
      "metadata": {
        "colab": {
          "base_uri": "https://localhost:8080/"
        },
        "id": "uDDXfVP0H3tv",
        "outputId": "8d5454d1-1a83-4ea4-d0cb-1715a5a813a0"
      },
      "source": [
        "%%shell\n",
        "gcc example3.c -o out\n",
        "./out"
      ],
      "execution_count": 28,
      "outputs": [
        {
          "output_type": "stream",
          "name": "stdout",
          "text": [
            "x=2 y=2 \n",
            "x=3 y=2 \n"
          ]
        },
        {
          "output_type": "execute_result",
          "data": {
            "text/plain": [
              ""
            ]
          },
          "metadata": {},
          "execution_count": 28
        }
      ]
    },
    {
      "cell_type": "code",
      "metadata": {
        "colab": {
          "base_uri": "https://localhost:8080/"
        },
        "id": "ZINPJZ-GH5UJ",
        "outputId": "42c5693a-4bf4-4433-f271-b29b208bdeca"
      },
      "source": [
        "%%writefile example4.c\n",
        "#include <stdio.h>\n",
        "int main(void)\n",
        "{ \n",
        "    int x, y;\n",
        "    printf(\"두개의 정수를 입력하시오: \");\n",
        "    scanf(\"%d%d\", &x, &y);\n",
        " \n",
        "    printf(\"x == y의 결과값: %d\\n\", x == y);\n",
        " \n",
        "    printf(\"x != y의 결과값: %d\\n\", x != y);\n",
        " \n",
        "    printf(\"x > y의 결과값: %d\\n\", x > y);\n",
        " \n",
        "    printf(\"x < y의 결과값: %d\\n\", x < y);\n",
        " \n",
        "    printf(\"x >= y의 결과값: %d\\n\", x >= y);\n",
        " \n",
        "    printf(\"x <= y의 결과값: %d\\n\", x <= y);\n",
        " \n",
        "    return 0;\n",
        "} "
      ],
      "execution_count": 32,
      "outputs": [
        {
          "output_type": "stream",
          "name": "stdout",
          "text": [
            "Overwriting example4.c\n"
          ]
        }
      ]
    },
    {
      "cell_type": "code",
      "metadata": {
        "colab": {
          "base_uri": "https://localhost:8080/"
        },
        "id": "qv0vzLNmJQ-w",
        "outputId": "51a9a6a1-f8b5-415a-d1b4-472fc6ab499f"
      },
      "source": [
        "ls"
      ],
      "execution_count": 33,
      "outputs": [
        {
          "output_type": "stream",
          "name": "stdout",
          "text": [
            "example1.c  example2.c  example3.c  example4.c  \u001b[0m\u001b[01;32mout\u001b[0m*  \u001b[01;34msample_data\u001b[0m/\n"
          ]
        }
      ]
    },
    {
      "cell_type": "code",
      "metadata": {
        "colab": {
          "base_uri": "https://localhost:8080/"
        },
        "id": "nZAc47mYJRO1",
        "outputId": "952d1dad-f873-4b1a-c14a-5345924403fb"
      },
      "source": [
        "%%shell\n",
        "gcc example4.c -o out\n",
        "./out"
      ],
      "execution_count": 34,
      "outputs": [
        {
          "output_type": "stream",
          "name": "stdout",
          "text": [
            "두개의 정수를 입력하시오: 22 22\n",
            "x == y의 결과값: 1\n",
            "x != y의 결과값: 0\n",
            "x > y의 결과값: 0\n",
            "x < y의 결과값: 0\n",
            "x >= y의 결과값: 1\n",
            "x <= y의 결과값: 1\n"
          ]
        },
        {
          "output_type": "execute_result",
          "data": {
            "text/plain": [
              ""
            ]
          },
          "metadata": {},
          "execution_count": 34
        }
      ]
    },
    {
      "cell_type": "code",
      "metadata": {
        "colab": {
          "base_uri": "https://localhost:8080/"
        },
        "id": "kJAxA59VJTFc",
        "outputId": "3136378d-9f61-438d-fc5e-6db66531d08d"
      },
      "source": [
        "%%writefile example5.c\n",
        "#include <stdio.h>\n",
        "int main(void)\n",
        "{\n",
        "    int x = 9;  \n",
        "    int y = 10; \n",
        " \n",
        "    printf(\"%08X & %08X = %08X\\n\", x, y, x & y); \n",
        " \n",
        "    printf(\"%08X | %08X = %08X\\n\", x, y, x | y);\n",
        " \n",
        "    printf(\"%08X ^ %08X = %08X\\n\", x, y, x ^ y); \n",
        " \n",
        "    printf(\"~ %08X = %08X\\n\", x, ~x); \n",
        " \n",
        " \n",
        "    return 0;\n",
        "}"
      ],
      "execution_count": 35,
      "outputs": [
        {
          "output_type": "stream",
          "name": "stdout",
          "text": [
            "Writing example5.c\n"
          ]
        }
      ]
    },
    {
      "cell_type": "code",
      "metadata": {
        "colab": {
          "base_uri": "https://localhost:8080/"
        },
        "id": "EFIHx-LNKDuw",
        "outputId": "99b0d655-0e60-40d3-c214-4df55a190e81"
      },
      "source": [
        "ls"
      ],
      "execution_count": 36,
      "outputs": [
        {
          "output_type": "stream",
          "name": "stdout",
          "text": [
            "example1.c  example2.c  example3.c  example4.c  example5.c  \u001b[0m\u001b[01;32mout\u001b[0m*  \u001b[01;34msample_data\u001b[0m/\n"
          ]
        }
      ]
    },
    {
      "cell_type": "code",
      "metadata": {
        "colab": {
          "base_uri": "https://localhost:8080/"
        },
        "id": "2cJy4yfoKEjq",
        "outputId": "5c430f07-9bf8-4c7c-86de-1c888f0716d1"
      },
      "source": [
        "%%shell\n",
        "gcc example5.c -o out\n",
        "./out"
      ],
      "execution_count": 37,
      "outputs": [
        {
          "output_type": "stream",
          "name": "stdout",
          "text": [
            "00000009 & 0000000A = 00000008\n",
            "00000009 | 0000000A = 0000000B\n",
            "00000009 ^ 0000000A = 00000003\n",
            "~ 00000009 = FFFFFFF6\n"
          ]
        },
        {
          "output_type": "execute_result",
          "data": {
            "text/plain": [
              ""
            ]
          },
          "metadata": {},
          "execution_count": 37
        }
      ]
    },
    {
      "cell_type": "code",
      "metadata": {
        "colab": {
          "base_uri": "https://localhost:8080/"
        },
        "id": "wz9kiQpEKGxX",
        "outputId": "381f3e8c-29ab-4800-a365-e62009f27f69"
      },
      "source": [
        "%%writefile example6.c\n",
        "#include <stdio.h>\n",
        "int main(void)\n",
        "{\n",
        "    int x = 9; \n",
        "    printf(\"%d << 1 = %d\\n\", x, x << 1); \n",
        "    printf(\"%d >> 1 = %d\\n\", x, x >> 1); \n",
        " \n",
        "    return 0;\n",
        "}"
      ],
      "execution_count": 38,
      "outputs": [
        {
          "output_type": "stream",
          "name": "stdout",
          "text": [
            "Writing example6.c\n"
          ]
        }
      ]
    },
    {
      "cell_type": "code",
      "metadata": {
        "colab": {
          "base_uri": "https://localhost:8080/"
        },
        "id": "km9PrArBKWeI",
        "outputId": "f603fcd0-2a9d-4d0a-f64c-62b3d2f49216"
      },
      "source": [
        "ls"
      ],
      "execution_count": 39,
      "outputs": [
        {
          "output_type": "stream",
          "name": "stdout",
          "text": [
            "example1.c  example3.c  example5.c  \u001b[0m\u001b[01;32mout\u001b[0m*\n",
            "example2.c  example4.c  example6.c  \u001b[01;34msample_data\u001b[0m/\n"
          ]
        }
      ]
    },
    {
      "cell_type": "code",
      "metadata": {
        "colab": {
          "base_uri": "https://localhost:8080/"
        },
        "id": "iSYwBsdDKXSC",
        "outputId": "0bc1f049-a47a-4f86-afbb-ca8494114072"
      },
      "source": [
        "%%shell\n",
        "gcc example6.c -o out\n",
        "./out"
      ],
      "execution_count": 40,
      "outputs": [
        {
          "output_type": "stream",
          "name": "stdout",
          "text": [
            "9 << 1 = 18\n",
            "9 >> 1 = 4\n"
          ]
        },
        {
          "output_type": "execute_result",
          "data": {
            "text/plain": [
              ""
            ]
          },
          "metadata": {},
          "execution_count": 40
        }
      ]
    },
    {
      "cell_type": "code",
      "metadata": {
        "colab": {
          "base_uri": "https://localhost:8080/"
        },
        "id": "4RmBxhKCKaHf",
        "outputId": "1dd78fd4-4bb8-47ef-fa1a-f58bcd2e6984"
      },
      "source": [
        "%%writefile example7.c\n",
        "#include <stdio.h>\n",
        "int main(void)\n",
        "{\n",
        "    int status = 0x6f; \n",
        "    printf(\"문열림 상태=%d \\n\", (status & 0x01));\n",
        " \n",
        "    return 0;\n",
        "}"
      ],
      "execution_count": 41,
      "outputs": [
        {
          "output_type": "stream",
          "name": "stdout",
          "text": [
            "Writing example7.c\n"
          ]
        }
      ]
    },
    {
      "cell_type": "code",
      "metadata": {
        "colab": {
          "base_uri": "https://localhost:8080/"
        },
        "id": "IDjmSHS2MHxV",
        "outputId": "0b296669-7da3-40fb-a247-69dfcdbeadb0"
      },
      "source": [
        "ls"
      ],
      "execution_count": 42,
      "outputs": [
        {
          "output_type": "stream",
          "name": "stdout",
          "text": [
            "example1.c  example3.c  example5.c  example7.c  \u001b[0m\u001b[01;34msample_data\u001b[0m/\n",
            "example2.c  example4.c  example6.c  \u001b[01;32mout\u001b[0m*\n"
          ]
        }
      ]
    },
    {
      "cell_type": "code",
      "metadata": {
        "colab": {
          "base_uri": "https://localhost:8080/"
        },
        "id": "nRKLHL_SMH-8",
        "outputId": "fb85fa26-514f-4cef-a737-a8ffb5c5306b"
      },
      "source": [
        "%%shell\n",
        "gcc example7.c -o out\n",
        "./out"
      ],
      "execution_count": 43,
      "outputs": [
        {
          "output_type": "stream",
          "name": "stdout",
          "text": [
            "문열림 상태=1 \n"
          ]
        },
        {
          "output_type": "execute_result",
          "data": {
            "text/plain": [
              ""
            ]
          },
          "metadata": {},
          "execution_count": 43
        }
      ]
    },
    {
      "cell_type": "code",
      "metadata": {
        "colab": {
          "base_uri": "https://localhost:8080/"
        },
        "id": "-vGlP7A2MKFh",
        "outputId": "986c1f76-70ed-4571-9440-2a967eda2bfd"
      },
      "source": [
        "%%writefile example8.c\n",
        "#include <stdio.h>\n",
        "int main(void) \n",
        "{\n",
        "    int a = 10;\n",
        "    int b = 20;\n",
        "    int c = 30;\n",
        "    int d = 3;\n",
        "    int result;\n",
        " \n",
        "    result = a + b * c / d;\n",
        " \n",
        "    printf(\"연산값: %d\\n\", result);\n",
        "    result = (a + b) * c / d;\n",
        " \n",
        "    printf(\"연산값: %d\\n\", result);\n",
        "    result = a = b = 1;\n",
        " \n",
        "    printf(\"연산값: %d\\n\", result);\n",
        " \n",
        "    return 0;\n",
        "}\n"
      ],
      "execution_count": 44,
      "outputs": [
        {
          "output_type": "stream",
          "name": "stdout",
          "text": [
            "Writing example8.c\n"
          ]
        }
      ]
    },
    {
      "cell_type": "code",
      "metadata": {
        "colab": {
          "base_uri": "https://localhost:8080/"
        },
        "id": "OtFLDf9IMYeF",
        "outputId": "7871385b-b348-452f-cead-0b93a32b79b8"
      },
      "source": [
        "ls"
      ],
      "execution_count": 45,
      "outputs": [
        {
          "output_type": "stream",
          "name": "stdout",
          "text": [
            "example1.c  example3.c  example5.c  example7.c  \u001b[0m\u001b[01;32mout\u001b[0m*\n",
            "example2.c  example4.c  example6.c  example8.c  \u001b[01;34msample_data\u001b[0m/\n"
          ]
        }
      ]
    },
    {
      "cell_type": "code",
      "metadata": {
        "colab": {
          "base_uri": "https://localhost:8080/"
        },
        "id": "yp-dtZh4MYo5",
        "outputId": "1403c6d7-fc3e-4c9c-a43d-3397d71070e3"
      },
      "source": [
        "%%shell\n",
        "gcc example8.c -o out\n",
        "./out"
      ],
      "execution_count": 46,
      "outputs": [
        {
          "output_type": "stream",
          "name": "stdout",
          "text": [
            "연산값: 210\n",
            "연산값: 300\n",
            "연산값: 1\n"
          ]
        },
        {
          "output_type": "execute_result",
          "data": {
            "text/plain": [
              ""
            ]
          },
          "metadata": {},
          "execution_count": 46
        }
      ]
    },
    {
      "cell_type": "code",
      "metadata": {
        "colab": {
          "base_uri": "https://localhost:8080/"
        },
        "id": "Bh5BfLseMau5",
        "outputId": "e39c0231-358b-48a3-b809-76244b4a673c"
      },
      "source": [
        "%%writefile example9.c\n",
        "#include <stdio.h>\n",
        "int main(void) \n",
        "{\n",
        "    int i;\n",
        "    double f;\n",
        "    f = 5 / 4;\n",
        " \n",
        "    printf(\"(5 / 4) = %lf\\n\", f);\n",
        "    f = (double)5 / 4;\n",
        " \n",
        "    printf(\"(double)5 / 4 = %lf\\n\", f);\n",
        "    i = 1.3 + 1.8;\n",
        " \n",
        "    printf(\"1.3 + 1.8 = %d\\n\", i);\n",
        "    i = (int)1.3 + (int)1.8;\n",
        " \n",
        "    printf(\"(int)1.3 + (int)1.8 = %d\\n\", i);\n",
        " \n",
        "    return 0;\n",
        "}"
      ],
      "execution_count": 47,
      "outputs": [
        {
          "output_type": "stream",
          "name": "stdout",
          "text": [
            "Writing example9.c\n"
          ]
        }
      ]
    },
    {
      "cell_type": "code",
      "metadata": {
        "colab": {
          "base_uri": "https://localhost:8080/"
        },
        "id": "zwf1P4hKMsJk",
        "outputId": "e0a5ebde-0216-468d-c464-6b50219ff671"
      },
      "source": [
        "ls"
      ],
      "execution_count": 48,
      "outputs": [
        {
          "output_type": "stream",
          "name": "stdout",
          "text": [
            "example1.c  example3.c  example5.c  example7.c  example9.c  \u001b[0m\u001b[01;34msample_data\u001b[0m/\n",
            "example2.c  example4.c  example6.c  example8.c  \u001b[01;32mout\u001b[0m*\n"
          ]
        }
      ]
    },
    {
      "cell_type": "code",
      "metadata": {
        "colab": {
          "base_uri": "https://localhost:8080/"
        },
        "id": "13z_Su8SMsZy",
        "outputId": "266c0475-ed69-4845-d023-12a0d5e5797f"
      },
      "source": [
        "%%shell\n",
        "gcc example9.c -o out\n",
        "./out"
      ],
      "execution_count": 49,
      "outputs": [
        {
          "output_type": "stream",
          "name": "stdout",
          "text": [
            "(5 / 4) = 1.000000\n",
            "(double)5 / 4 = 1.250000\n",
            "1.3 + 1.8 = 3\n",
            "(int)1.3 + (int)1.8 = 2\n"
          ]
        },
        {
          "output_type": "execute_result",
          "data": {
            "text/plain": [
              ""
            ]
          },
          "metadata": {},
          "execution_count": 49
        }
      ]
    },
    {
      "cell_type": "code",
      "metadata": {
        "id": "pe3GSfVnNh2S"
      },
      "source": [
        ""
      ],
      "execution_count": null,
      "outputs": []
    }
  ]
}